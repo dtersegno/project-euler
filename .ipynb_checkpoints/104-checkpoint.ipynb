{
 "cells": [
  {
   "cell_type": "markdown",
   "id": "1ca0900a-6b89-4ab1-80f3-be9e13dba301",
   "metadata": {},
   "source": [
    "[Problem 104](https://projecteuler.net/problem=104)\n",
    "\n",
    "The Fibonacci sequence is defined by the recurrence relation:\n",
    "\n",
    "$$\n",
    "F_n = F_{n-1}+F_{n-2}\\text{, where }F_1 = 1 \\text{ and } F_2 = 1\n",
    "$$\n",
    "\n",
    "It turns out that $F_{541}$, which contains 113 difits, is the first F number for which the last nine digits are 1 - 9 pandigital. And $F_{2749}$, which contains 575 digits, is the first Fibonacci number for which the first nine digits are 1-9 pandigital.\n",
    "\n",
    "Given that $F_k$ is the first fibonacci number for which the first nine digits and the last nine digits are 1-9 pandigital, find $k$."
   ]
  },
  {
   "cell_type": "code",
   "execution_count": 23,
   "id": "99925ac2-6488-4f51-9e11-a2f0896177af",
   "metadata": {},
   "outputs": [],
   "source": [
    "import numpy as np\n",
    "import pandas as pd\n",
    "\n",
    "import decimal as d"
   ]
  },
  {
   "cell_type": "code",
   "execution_count": 28,
   "id": "55ca598f-c607-4723-b291-fc7be6025350",
   "metadata": {},
   "outputs": [],
   "source": [
    "#store fib numbers in a dataframe\n",
    "fdf = pd.DataFrame([[]], index = [1,2]).astype(int)\n",
    "fdf.loc[1, 'value'] = 1\n",
    "fdf.loc[2, 'value'] = 1\n",
    "\n",
    "# fdf = fdf.astype(int)\n",
    "fdf.index.rename('k', inplace = True)"
   ]
  },
  {
   "cell_type": "code",
   "execution_count": 29,
   "id": "0ef61877-e0db-47fa-9829-40b97f9b6083",
   "metadata": {},
   "outputs": [],
   "source": [
    "def get_fib(k:int, dataframe):\n",
    "    \"\"\"\n",
    "    Return the kth Fibonacci number. Checks if the value is already stored in the dataframe first,\n",
    "    and if not, finds it and fills the dataframe with the found value.\n",
    "    \n",
    "    Parameters\n",
    "    ----------\n",
    "    k: integer\n",
    "        The index of the number\n",
    "    dataframe: pandas.DataFrame\n",
    "        A dataframe storing Fib numbers\n",
    "        \n",
    "    Returns\n",
    "    -------\n",
    "    fib_k: int\n",
    "        The kth Fibonacci number\n",
    "    \"\"\"\n",
    "    \n",
    "    #if it's in the dataframe, just access that value\n",
    "    if k in dataframe.index:\n",
    "        fib_k = dataframe.loc[k, 'value']\n",
    "        return fib_k\n",
    "    else:\n",
    "        # get the last two fibonacci numbers\n",
    "        last_last_fib_index = k-2\n",
    "        last_last_fib = get_fib(last_last_fib_index, dataframe)\n",
    "        \n",
    "        last_fib_index = k-1\n",
    "        last_fib = get_fib(last_fib_index, dataframe)\n",
    "        \n",
    "        #save the newly found value in the dataframe     \n",
    "        fib_k = last_fib + last_last_fib\n",
    "        dataframe.loc[k, 'value'] = fib_k\n",
    "        \n",
    "        return fib_k"
   ]
  },
  {
   "cell_type": "code",
   "execution_count": 30,
   "id": "95d913cb-ce80-4a6a-ba01-2134c9823a55",
   "metadata": {},
   "outputs": [
    {
     "data": {
      "text/html": [
       "<div>\n",
       "<style scoped>\n",
       "    .dataframe tbody tr th:only-of-type {\n",
       "        vertical-align: middle;\n",
       "    }\n",
       "\n",
       "    .dataframe tbody tr th {\n",
       "        vertical-align: top;\n",
       "    }\n",
       "\n",
       "    .dataframe thead th {\n",
       "        text-align: right;\n",
       "    }\n",
       "</style>\n",
       "<table border=\"1\" class=\"dataframe\">\n",
       "  <thead>\n",
       "    <tr style=\"text-align: right;\">\n",
       "      <th></th>\n",
       "      <th>value</th>\n",
       "    </tr>\n",
       "    <tr>\n",
       "      <th>k</th>\n",
       "      <th></th>\n",
       "    </tr>\n",
       "  </thead>\n",
       "  <tbody>\n",
       "    <tr>\n",
       "      <th>1</th>\n",
       "      <td>1.0</td>\n",
       "    </tr>\n",
       "    <tr>\n",
       "      <th>2</th>\n",
       "      <td>1.0</td>\n",
       "    </tr>\n",
       "  </tbody>\n",
       "</table>\n",
       "</div>"
      ],
      "text/plain": [
       "   value\n",
       "k       \n",
       "1    1.0\n",
       "2    1.0"
      ]
     },
     "execution_count": 30,
     "metadata": {},
     "output_type": "execute_result"
    }
   ],
   "source": [
    "fdf"
   ]
  },
  {
   "cell_type": "code",
   "execution_count": 31,
   "id": "eda1bf71-a645-402e-96b2-b0e43b027926",
   "metadata": {},
   "outputs": [
    {
     "data": {
      "text/plain": [
       "832040.0"
      ]
     },
     "execution_count": 31,
     "metadata": {},
     "output_type": "execute_result"
    }
   ],
   "source": [
    "get_fib(30,fdf)"
   ]
  },
  {
   "cell_type": "code",
   "execution_count": 33,
   "id": "be8498ef-6eda-4455-94f2-4da76abe7506",
   "metadata": {},
   "outputs": [
    {
     "data": {
      "text/plain": [
       "5.162123292739374e+112"
      ]
     },
     "execution_count": 33,
     "metadata": {},
     "output_type": "execute_result"
    }
   ],
   "source": [
    "get_fib(541,fdf)"
   ]
  },
  {
   "cell_type": "code",
   "execution_count": 34,
   "id": "5900c6ee-a709-4ff3-9fca-4ce9d0b61ed6",
   "metadata": {},
   "outputs": [
    {
     "name": "stdout",
     "output_type": "stream",
     "text": [
      "5.162123292739374e+112\n"
     ]
    }
   ],
   "source": [
    "print(_)"
   ]
  },
  {
   "cell_type": "markdown",
   "id": "09e94664-b7cd-4e7b-88c5-c2206f46b3e5",
   "metadata": {},
   "source": [
    "Restart\n",
    "---\n",
    "\n",
    "Define the collection of fib nos as a dictionary instead of a df."
   ]
  },
  {
   "cell_type": "code",
   "execution_count": 49,
   "id": "ce4068d5-f803-4ae5-a6ba-2dc9bff4e558",
   "metadata": {
    "tags": []
   },
   "outputs": [],
   "source": [
    "def get_fib(k:int, fd:dict):\n",
    "    \"\"\"\n",
    "    Return the kth Fibonacci number. Checks if the value is already stored in the dataframe first,\n",
    "    and if not, finds it and fills the dataframe with the found value.\n",
    "    \n",
    "    Parameters\n",
    "    ----------\n",
    "    k: integer\n",
    "        The index of the number\n",
    "    fd: dict\n",
    "        A dict storing Fib numbers\n",
    "        \n",
    "    Returns\n",
    "    -------\n",
    "    fib_k: int\n",
    "        The kth Fibonacci number\n",
    "    \"\"\"\n",
    "    \n",
    "    #if it's in the dataframe, just access that value\n",
    "    if k in fd.keys():\n",
    "        fib_k = fd[k]\n",
    "        return fib_k\n",
    "    else:\n",
    "        # get the last two fibonacci numbers\n",
    "        last_last_fib_index = k-2\n",
    "        last_last_fib = get_fib(last_last_fib_index, fd)\n",
    "        \n",
    "        last_fib_index = k-1\n",
    "        last_fib = get_fib(last_fib_index, fd)\n",
    "        \n",
    "        #save the newly found value in the dataframe     \n",
    "        fib_k = last_fib + last_last_fib\n",
    "        fd.update({k:fib_k})\n",
    "        \n",
    "        return fib_k\n",
    "    \n",
    "def is_pandigital(the_number):\n",
    "    the_string = str(the_number)\n",
    "    digits = '123456789'\n",
    "    is_it_pandigital = np.all(\n",
    "        [\n",
    "         digit in digits\n",
    "            for digit in the_string\n",
    "        ]\n",
    "    )\n",
    "    return is_it_pandigital\n",
    "        \n",
    "    "
   ]
  },
  {
   "cell_type": "code",
   "execution_count": 51,
   "id": "36e30ab3-ed3a-4cff-bb1d-856c4b22fd9f",
   "metadata": {},
   "outputs": [
    {
     "data": {
      "text/plain": [
       "True"
      ]
     },
     "execution_count": 51,
     "metadata": {},
     "output_type": "execute_result"
    }
   ],
   "source": [
    "is_pandigital(34728678699121268398283759846)"
   ]
  },
  {
   "cell_type": "code",
   "execution_count": 55,
   "id": "77a5a554-71e7-42e7-9639-1975d5963133",
   "metadata": {},
   "outputs": [
    {
     "data": {
      "text/plain": [
       "50"
      ]
     },
     "execution_count": 55,
     "metadata": {},
     "output_type": "execute_result"
    }
   ],
   "source": [
    "current_k"
   ]
  },
  {
   "cell_type": "code",
   "execution_count": 57,
   "id": "863047d4-d637-4393-a6b3-a87cb5055f8b",
   "metadata": {
    "tags": []
   },
   "outputs": [
    {
     "name": "stdout",
     "output_type": "stream",
     "text": [
      "finding fib number 19000: 26042324578432324022374764153109917871045715829707898369883236282518359459973544087803399047187708361436474373223954760950089965777394577654572521792776975695383806399781634438270573686836092952692511963704084647455358792592530348079330383501503150217818607319382442468027333665236750464312984442605468887775010947136863662309071883977590828660938820281177829813429720717940275556854418073214448660220380326970677161122382824270365314750065994197506082190817761903872830046773699007092895103619830812028857212479655793365085723751120880733732076654833539521031919902553405593149871730866730464547553433083949187935451021293499028076209549892413089224367875656840070526170660352474795991372209128769033291773911949920296289760035609775474319681357568512726306765267318600341673396758962439331938833645216913528357643638780788715190454021272199017261568359484989841997377731855578574185019693864875675956746501304733858452690015464420862561524223031282431922404477919590907379686448113873308955912196556866578489640686365179976983665831310714697245357670895146927298289653983638096455761069785419399212814126756478985238544267350321770679050924975946946779828019623283060144725716238456853006248402847109036074702094041369650532300554537495690225337465751061516947094868188081079457157435142505912568984554868556907861600162221775639568034726593566257629285034980014170970182769773248227270478240693255507113148205773268692595162748884332752836183662501982468677056263935299241013954710651377741668508869028006624978524080037497129011371509860294538641673501444025101788579167469134343869154133741067599986957806226759185492792866734889323750483688540187090063799536373531851215466499025554517635970818516104410487899636907156670948628311879451288248874603515953974371946737988172929872522958037166096393917763540510347424308760881372979110417908410503530957774646914602095209496367472710042585723363343685918385534765391180367643782961256528993621959135077048004408292373595386763083226233161731269104695814844408381603135154893258083643141124421838000261743027225395857838082202035605054461337587774047307037455268553611211793495237301373418343990790033084161318600326343909914160091153389343052760960508618161253589887794620544919890538656222474226810209428831163968313058470328353102478850768453289091652121841050158902354222169725495699306058327824373421786243658231715742780861205929739774691458656005240111678031997227962651002349144778553897766923893255669998242219837455517499763994872939324788050758108006784141484894252114347334987959910306831836157416492414006621505237946856421315846235004225895728452381993170432594179866303109183239530819762219751007738230011659657417857629610381968235260603275205086120945293813204152236767743093608792118708034981487864153347966776149011380970601671870432326848338802227069961045541873798433591571916406014020582539088969446160234092639512732355999060898732783700552555426340148414637441505965652266577907874295787996078129910350423989853339374931717770230504649590494448008620821187179137794328298534216431614111714933274623878393202242216868730934189466196726994075084442069671305785187732687822915979277936231414852117500836035641939428888004905095990906399209172135266502093100231979874950699023333597029387692854118717338261208455289090448904726351008655515263197607476022334465671533244558404617425012078628125294920011253041868629269887675901572869716970737907805403634224793634566312091621679546514252103795719033687837561402912842034461260233543220209961915474264239316039673336087409965291880615143197584029373492096233309985835403713026041906866882999289288206206628718015826928945916458564680651647289604628131807623981430248199284566217214512200637835536017159840888388784316523437489802955165186353919564060501748443905161646147769432601509197265974678629474988166680914151655748726122761974182660696533476986781145630033574364710620078018203142910390001545757298791740650031094151906345268504985990545504875\n",
      "finding fib number 20000: 2531162323732361242240155003520607291766356485802485278951929841991312781760541315230153423463758831637443488219211037689033673531462742885329724071555187618026931630449193158922771331642302030331971098689235780843478258502779200293635651897483309686042860996364443514558772156043691404155819572984971754278513112487985892718229593329483578531419148805380281624260900362993556916638613939977074685016188258584312329139526393558096840812970422952418558991855772306882442574855589237165219912238201311184749075137322987656049866305366913734924425822681338966507463855180236283582409861199212323835947891143765414913345008456022009455704210891637791911265475167769704477334859109822590053774932978465651023851447920601310106288957894301592502061560528131203072778677491443420921822590709910448617329156135355464620891788459566081572824889514296350670950824208245170667601726417091127999999941149913010424532046881958285409468463211897582215075436515584016297874572183907949257286261608612401379639484713101138120404671732190451327881433201025184027541696124114463488665359385870910331476156665889459832092710304159637019707297988417848767011085425271875588008671422491434005115288334343837778792282383576736341414410248994081564830202363820504190074504566612515965134665683289356188727549463732830075811851574961558669278847363279870595320099844676879457196432535973357128305390290471349480258751812890314779723508104229525161740643984423978659638233074463100366500571977234508464710078102581304823235436518145074482824812996511614161933313389889630935320139507075992100561077534028207257574257706278201308302642634678112591091843082665721697117838726431766741158743554298864560993255547608496686850185804659790217122426535133253371422250684486113457341827911625517128815447325958547912113242367201990672230681308819195941016156001961954700241576553750737681552256845421159386858399433450045903975167084252876848848085910156941603293424067793097271128806817514906531652407763118308162377033463203514657531210413149191213595455280387631030665594589183601575340027172997222489081631144728873621805528648768511368948639522975539046995395707688938978847084621586473529546678958226255042389998718141303055036060772003887773038422366913820397748550793178167220193346017430024134496141145991896227741842515718997898627269918236920453493946658273870473264523119133765447653295022886429174942653014656521909469613184983671431465934965489425515981067546087342348350724207583544436107294087637975025147846254526938442435644928231027868701394819091132912397475713787593612758364812687556725146456646878912169274219209708166678668152184941578590201953144030519381922273252666652671717526318606676754556170379350956342095455612780202199922615392785572481747913435560866995432578680971243966868110016581395696310922519803685837460795358384618017215468122880442252343684547233668502313239328352671318130604247460452134121833305284398726438573787798499612760939462427922917659263046333084007208056631996856315539698234022953452211505675629153637867252695056925345220084020071611220575700841268302638995272842160994219632684575364180160991884885091858259996299627148614456696661412745040519981575543804847463997422326563897043803732970397488471644906183310144691243649149542394691524972023935190633672827306116525712882959108434211652465621144702015336657459532134026915214509960877430595844287585350290234547564574848753110281101545931547225811763441710217452979668178025286460158324658852904105792472468108996135476637212057508192176910900422826969523438985332067597093454021924077101784215936539638808624420121459718286059401823614213214326004270471752802725625810953787713898846144256909835116371235019527013180204030167601567064268573820697948868982630904164685161783088076506964317303709708574052747204405282785965604677674192569851918643651835755242670293612851920696732320545562286110332140065912751551110134916256237884844001366366654055079721985816714803952429301558096968202261698837096090377863017797020488044826628817462866854321356787305635653577619877987998113667928954840972022833505708587561902023411398915823487627297968947621416912816367516125096563705174220460639857683971213093125\n"
     ]
    },
    {
     "ename": "ValueError",
     "evalue": "Exceeds the limit (4300) for integer string conversion",
     "output_type": "error",
     "traceback": [
      "\u001b[1;31m---------------------------------------------------------------------------\u001b[0m",
      "\u001b[1;31mValueError\u001b[0m                                Traceback (most recent call last)",
      "Cell \u001b[1;32mIn [57], line 6\u001b[0m\n\u001b[0;32m      4\u001b[0m current_k \u001b[38;5;241m+\u001b[39m\u001b[38;5;241m=\u001b[39m \u001b[38;5;241m1\u001b[39m\n\u001b[0;32m      5\u001b[0m this_fib \u001b[38;5;241m=\u001b[39m get_fib(current_k, fdct)\n\u001b[1;32m----> 6\u001b[0m this_fib_string \u001b[38;5;241m=\u001b[39m \u001b[38;5;28;43mstr\u001b[39;49m\u001b[43m(\u001b[49m\u001b[43mthis_fib\u001b[49m\u001b[43m)\u001b[49m\n\u001b[0;32m      7\u001b[0m \u001b[38;5;28;01mif\u001b[39;00m is_pandigital(this_fib_string[:\u001b[38;5;241m9\u001b[39m]) \u001b[38;5;129;01mand\u001b[39;00m is_pandigital(this_fib_string[\u001b[38;5;241m-\u001b[39m\u001b[38;5;241m9\u001b[39m:]):\n\u001b[0;32m      8\u001b[0m     have_not_found \u001b[38;5;241m=\u001b[39m get_ipython()\u001b[38;5;241m.\u001b[39mgetoutput(\u001b[38;5;124m'\u001b[39m\u001b[38;5;124mhave_not_found\u001b[39m\u001b[38;5;124m'\u001b[39m)\n",
      "\u001b[1;31mValueError\u001b[0m: Exceeds the limit (4300) for integer string conversion"
     ]
    }
   ],
   "source": [
    "have_not_found = True\n",
    "current_k = 18000\n",
    "while have_not_found:\n",
    "    current_k += 1\n",
    "    this_fib = get_fib(current_k, fdct)\n",
    "    this_fib_string = str(this_fib)\n",
    "    if is_pandigital(this_fib_string[:9]) and is_pandigital(this_fib_string[-9:]):\n",
    "        have_not_found = !have_not_found\n",
    "    if current_k%1000 == 0:\n",
    "        print(f'finding fib number {current_k}: {this_fib}')\n",
    "print(f'found fib number {current_k} is {this_fib_string}')"
   ]
  },
  {
   "cell_type": "code",
   "execution_count": 59,
   "id": "84fa94db-859e-4504-91fe-995aa33367e0",
   "metadata": {},
   "outputs": [
    {
     "data": {
      "text/plain": [
       "20578"
      ]
     },
     "execution_count": 59,
     "metadata": {},
     "output_type": "execute_result"
    }
   ],
   "source": [
    "current_k"
   ]
  },
  {
   "cell_type": "code",
   "execution_count": 62,
   "id": "cea821da-fad0-438b-9545-d84d454ca45c",
   "metadata": {},
   "outputs": [
    {
     "ename": "ValueError",
     "evalue": "Exceeds the limit (4300) for integer string conversion",
     "output_type": "error",
     "traceback": [
      "\u001b[1;31m---------------------------------------------------------------------------\u001b[0m",
      "\u001b[1;31mValueError\u001b[0m                                Traceback (most recent call last)",
      "File \u001b[1;32m~\\AppData\\Local\\Programs\\Python\\Python310\\lib\\site-packages\\IPython\\core\\formatters.py:707\u001b[0m, in \u001b[0;36mPlainTextFormatter.__call__\u001b[1;34m(self, obj)\u001b[0m\n\u001b[0;32m    700\u001b[0m stream \u001b[38;5;241m=\u001b[39m StringIO()\n\u001b[0;32m    701\u001b[0m printer \u001b[38;5;241m=\u001b[39m pretty\u001b[38;5;241m.\u001b[39mRepresentationPrinter(stream, \u001b[38;5;28mself\u001b[39m\u001b[38;5;241m.\u001b[39mverbose,\n\u001b[0;32m    702\u001b[0m     \u001b[38;5;28mself\u001b[39m\u001b[38;5;241m.\u001b[39mmax_width, \u001b[38;5;28mself\u001b[39m\u001b[38;5;241m.\u001b[39mnewline,\n\u001b[0;32m    703\u001b[0m     max_seq_length\u001b[38;5;241m=\u001b[39m\u001b[38;5;28mself\u001b[39m\u001b[38;5;241m.\u001b[39mmax_seq_length,\n\u001b[0;32m    704\u001b[0m     singleton_pprinters\u001b[38;5;241m=\u001b[39m\u001b[38;5;28mself\u001b[39m\u001b[38;5;241m.\u001b[39msingleton_printers,\n\u001b[0;32m    705\u001b[0m     type_pprinters\u001b[38;5;241m=\u001b[39m\u001b[38;5;28mself\u001b[39m\u001b[38;5;241m.\u001b[39mtype_printers,\n\u001b[0;32m    706\u001b[0m     deferred_pprinters\u001b[38;5;241m=\u001b[39m\u001b[38;5;28mself\u001b[39m\u001b[38;5;241m.\u001b[39mdeferred_printers)\n\u001b[1;32m--> 707\u001b[0m \u001b[43mprinter\u001b[49m\u001b[38;5;241;43m.\u001b[39;49m\u001b[43mpretty\u001b[49m\u001b[43m(\u001b[49m\u001b[43mobj\u001b[49m\u001b[43m)\u001b[49m\n\u001b[0;32m    708\u001b[0m printer\u001b[38;5;241m.\u001b[39mflush()\n\u001b[0;32m    709\u001b[0m \u001b[38;5;28;01mreturn\u001b[39;00m stream\u001b[38;5;241m.\u001b[39mgetvalue()\n",
      "File \u001b[1;32m~\\AppData\\Local\\Programs\\Python\\Python310\\lib\\site-packages\\IPython\\lib\\pretty.py:393\u001b[0m, in \u001b[0;36mRepresentationPrinter.pretty\u001b[1;34m(self, obj)\u001b[0m\n\u001b[0;32m    390\u001b[0m \u001b[38;5;28;01mfor\u001b[39;00m \u001b[38;5;28mcls\u001b[39m \u001b[38;5;129;01min\u001b[39;00m _get_mro(obj_class):\n\u001b[0;32m    391\u001b[0m     \u001b[38;5;28;01mif\u001b[39;00m \u001b[38;5;28mcls\u001b[39m \u001b[38;5;129;01min\u001b[39;00m \u001b[38;5;28mself\u001b[39m\u001b[38;5;241m.\u001b[39mtype_pprinters:\n\u001b[0;32m    392\u001b[0m         \u001b[38;5;66;03m# printer registered in self.type_pprinters\u001b[39;00m\n\u001b[1;32m--> 393\u001b[0m         \u001b[38;5;28;01mreturn\u001b[39;00m \u001b[38;5;28;43mself\u001b[39;49m\u001b[38;5;241;43m.\u001b[39;49m\u001b[43mtype_pprinters\u001b[49m\u001b[43m[\u001b[49m\u001b[38;5;28;43mcls\u001b[39;49m\u001b[43m]\u001b[49m\u001b[43m(\u001b[49m\u001b[43mobj\u001b[49m\u001b[43m,\u001b[49m\u001b[43m \u001b[49m\u001b[38;5;28;43mself\u001b[39;49m\u001b[43m,\u001b[49m\u001b[43m \u001b[49m\u001b[43mcycle\u001b[49m\u001b[43m)\u001b[49m\n\u001b[0;32m    394\u001b[0m     \u001b[38;5;28;01melse\u001b[39;00m:\n\u001b[0;32m    395\u001b[0m         \u001b[38;5;66;03m# deferred printer\u001b[39;00m\n\u001b[0;32m    396\u001b[0m         printer \u001b[38;5;241m=\u001b[39m \u001b[38;5;28mself\u001b[39m\u001b[38;5;241m.\u001b[39m_in_deferred_types(\u001b[38;5;28mcls\u001b[39m)\n",
      "File \u001b[1;32m~\\AppData\\Local\\Programs\\Python\\Python310\\lib\\site-packages\\IPython\\lib\\pretty.py:778\u001b[0m, in \u001b[0;36m_repr_pprint\u001b[1;34m(obj, p, cycle)\u001b[0m\n\u001b[0;32m    776\u001b[0m \u001b[38;5;124;03m\"\"\"A pprint that just redirects to the normal repr function.\"\"\"\u001b[39;00m\n\u001b[0;32m    777\u001b[0m \u001b[38;5;66;03m# Find newlines and replace them with p.break_()\u001b[39;00m\n\u001b[1;32m--> 778\u001b[0m output \u001b[38;5;241m=\u001b[39m \u001b[38;5;28;43mrepr\u001b[39;49m\u001b[43m(\u001b[49m\u001b[43mobj\u001b[49m\u001b[43m)\u001b[49m\n\u001b[0;32m    779\u001b[0m lines \u001b[38;5;241m=\u001b[39m output\u001b[38;5;241m.\u001b[39msplitlines()\n\u001b[0;32m    780\u001b[0m \u001b[38;5;28;01mwith\u001b[39;00m p\u001b[38;5;241m.\u001b[39mgroup():\n",
      "\u001b[1;31mValueError\u001b[0m: Exceeds the limit (4300) for integer string conversion"
     ]
    }
   ],
   "source": [
    "fdct[current_k]"
   ]
  }
 ],
 "metadata": {
  "kernelspec": {
   "display_name": "Python 3 (ipykernel)",
   "language": "python",
   "name": "python3"
  },
  "language_info": {
   "codemirror_mode": {
    "name": "ipython",
    "version": 3
   },
   "file_extension": ".py",
   "mimetype": "text/x-python",
   "name": "python",
   "nbconvert_exporter": "python",
   "pygments_lexer": "ipython3",
   "version": "3.10.7"
  }
 },
 "nbformat": 4,
 "nbformat_minor": 5
}
