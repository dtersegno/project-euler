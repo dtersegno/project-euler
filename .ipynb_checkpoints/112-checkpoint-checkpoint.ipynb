{
 "cells": [
  {
   "cell_type": "markdown",
   "id": "75608924-59ae-411c-83e3-aaef392519d8",
   "metadata": {},
   "source": [
    "Bouncy numbers\n",
    "problem 112\n",
    "\n",
    "---\n",
    "\n",
    "Working from left-to-right if no digit is exceeded by the digit to its left it is called an increasing number; for example, 134468.\n",
    "\n",
    "Similarly if no digit is exceeded by the digit to its right it is called a decreasing number; for example, 66420.\n",
    "\n",
    "We shall call a positive integer that is neither increasing nor decreasing a \"bouncy\" number; for example, 155349.\n",
    "\n",
    "Clearly there cannot be any bouncy numbers below one-hundred, but just over half of the numbers below one-thousand (525) are bouncy. In fact, the least number for which the proportion of bouncy numbers first reaches \n",
    "50% is 538.\n",
    "\n",
    "Surprisingly, bouncy numbers become more and more common and by the time we reach 21780 the proportion of bouncy numbers is equal to 90%.\n",
    "\n",
    "Find the least number for which the proportion of bouncy numbers is exactly 99%."
   ]
  },
  {
   "cell_type": "code",
   "execution_count": 35,
   "id": "07326bb8-2fbd-46b9-b769-a652226fc80e",
   "metadata": {},
   "outputs": [],
   "source": [
    "import pandas as pd\n",
    "import numpy as np"
   ]
  },
  {
   "cell_type": "code",
   "execution_count": 36,
   "id": "63b85d1f-366f-4409-ac98-0a9f46ad41bb",
   "metadata": {},
   "outputs": [
    {
     "data": {
      "text/html": [
       "<div>\n",
       "<style scoped>\n",
       "    .dataframe tbody tr th:only-of-type {\n",
       "        vertical-align: middle;\n",
       "    }\n",
       "\n",
       "    .dataframe tbody tr th {\n",
       "        vertical-align: top;\n",
       "    }\n",
       "\n",
       "    .dataframe thead th {\n",
       "        text-align: right;\n",
       "    }\n",
       "</style>\n",
       "<table border=\"1\" class=\"dataframe\">\n",
       "  <thead>\n",
       "    <tr style=\"text-align: right;\">\n",
       "      <th></th>\n",
       "      <th>is_bouncy</th>\n",
       "      <th>cum_bouncy</th>\n",
       "    </tr>\n",
       "    <tr>\n",
       "      <th>number</th>\n",
       "      <th></th>\n",
       "      <th></th>\n",
       "    </tr>\n",
       "  </thead>\n",
       "  <tbody>\n",
       "  </tbody>\n",
       "</table>\n",
       "</div>"
      ],
      "text/plain": [
       "Empty DataFrame\n",
       "Columns: [is_bouncy, cum_bouncy]\n",
       "Index: []"
      ]
     },
     "execution_count": 36,
     "metadata": {},
     "output_type": "execute_result"
    }
   ],
   "source": [
    "ndf_columns = ['is_bouncy', 'cum_bouncy']\n",
    "ndf = pd.DataFrame(columns = ndf_columns)\n",
    "ndf.index.rename('number', inplace = True)\n",
    "ndf"
   ]
  },
  {
   "cell_type": "code",
   "execution_count": 51,
   "id": "7e6e4f6d-755a-4dea-9694-82dcccecf629",
   "metadata": {
    "tags": []
   },
   "outputs": [],
   "source": [
    "def split_number_into_digits(number:int, dtype = int):\n",
    "    the_string = str(number)\n",
    "    the_characters = [ char for char in the_string ]\n",
    "    if dtype == str:\n",
    "        return the_characters\n",
    "    elif dtype == int:\n",
    "        return [\n",
    "             int(character) for character in the_string   \n",
    "        ]\n",
    "    else:\n",
    "        raise(ValueError('Make that dtype, make it, makig, make it either a str or an int pleadse?'))\n",
    "\n",
    "def is_increasing(number:int):\n",
    "    digit_list = split_number_into_digits(number)\n",
    "    if len(digit_list)<2:\n",
    "        return False\n",
    "    else:\n",
    "        difs = np.diff(digit_list)\n",
    "        return np.all(difs >= 0) and not np.all(difs == 0)\n",
    "                      \n",
    "def is_decreasing(number:int):\n",
    "    digit_list = split_number_into_digits(number)\n",
    "    if len(digit_list) < 2:\n",
    "        return False\n",
    "    else:\n",
    "        difs = np.diff(digit_list)\n",
    "        return np.all(difs <= 0) and not np.all(difs == 0)\n",
    "        \n",
    "def is_bouncy(number:int):\n",
    "    digit_list = split_number_into_digits(number)\n",
    "    if len(digit_list) < 3:\n",
    "        return False\n",
    "    else:\n",
    "        return not(\n",
    "            is_increasing(number) or is_decreasing(number)\n",
    "        )"
   ]
  },
  {
   "cell_type": "code",
   "execution_count": 73,
   "id": "04dfc899-2281-420e-86df-651ddd3ba942",
   "metadata": {
    "tags": []
   },
   "outputs": [
    {
     "ename": "TypeError",
     "evalue": "DataFrame.append() got an unexpected keyword argument 'index'",
     "output_type": "error",
     "traceback": [
      "\u001b[1;31m---------------------------------------------------------------------------\u001b[0m",
      "\u001b[1;31mTypeError\u001b[0m                                 Traceback (most recent call last)",
      "Cell \u001b[1;32mIn [73], line 8\u001b[0m\n\u001b[0;32m      1\u001b[0m number_range \u001b[38;5;241m=\u001b[39m \u001b[38;5;28mrange\u001b[39m(\u001b[38;5;241m0\u001b[39m,\u001b[38;5;28mint\u001b[39m(\u001b[38;5;241m1e6\u001b[39m))\n\u001b[0;32m      3\u001b[0m dato \u001b[38;5;241m=\u001b[39m [\n\u001b[0;32m      4\u001b[0m     [is_increasing(numbo), is_decreasing(numbo), is_bouncy(numbo)]\n\u001b[0;32m      5\u001b[0m     \u001b[38;5;28;01mfor\u001b[39;00m numbo \u001b[38;5;129;01min\u001b[39;00m number_range\n\u001b[0;32m      6\u001b[0m ]\n\u001b[1;32m----> 8\u001b[0m \u001b[43mndf\u001b[49m\u001b[38;5;241;43m.\u001b[39;49m\u001b[43mappend\u001b[49m\u001b[43m(\u001b[49m\u001b[43mdato\u001b[49m\u001b[43m,\u001b[49m\u001b[43m \u001b[49m\u001b[43mindex\u001b[49m\u001b[43m \u001b[49m\u001b[38;5;241;43m=\u001b[39;49m\u001b[43m \u001b[49m\u001b[43mdato\u001b[49m\u001b[43m)\u001b[49m\n\u001b[0;32m      9\u001b[0m ndf\u001b[38;5;241m.\u001b[39mhead()\n",
      "\u001b[1;31mTypeError\u001b[0m: DataFrame.append() got an unexpected keyword argument 'index'"
     ]
    }
   ],
   "source": [
    "number_range = range(0,int(1e6))\n",
    "\n",
    "dato = [\n",
    "    [is_increasing(numbo), is_decreasing(numbo), is_bouncy(numbo)]\n",
    "    for numbo in number_range\n",
    "]\n",
    "\n",
    "ndf.append(dato, ignore_index = dato)\n",
    "ndf.head()"
   ]
  },
  {
   "cell_type": "code",
   "execution_count": 74,
   "id": "2a732a5c-c702-4dad-a4e8-3f0c0538a336",
   "metadata": {},
   "outputs": [
    {
     "name": "stderr",
     "output_type": "stream",
     "text": [
      "C:\\Users\\dtersegn\\AppData\\Local\\Temp\\ipykernel_13712\\2446917196.py:1: FutureWarning: The frame.append method is deprecated and will be removed from pandas in a future version. Use pandas.concat instead.\n",
      "  ndf.append(dato, ignore_index = False)\n"
     ]
    },
    {
     "data": {
      "text/html": [
       "<div>\n",
       "<style scoped>\n",
       "    .dataframe tbody tr th:only-of-type {\n",
       "        vertical-align: middle;\n",
       "    }\n",
       "\n",
       "    .dataframe tbody tr th {\n",
       "        vertical-align: top;\n",
       "    }\n",
       "\n",
       "    .dataframe thead th {\n",
       "        text-align: right;\n",
       "    }\n",
       "</style>\n",
       "<table border=\"1\" class=\"dataframe\">\n",
       "  <thead>\n",
       "    <tr style=\"text-align: right;\">\n",
       "      <th></th>\n",
       "      <th>is_bouncy</th>\n",
       "      <th>cum_bouncy</th>\n",
       "    </tr>\n",
       "    <tr>\n",
       "      <th>number</th>\n",
       "      <th></th>\n",
       "      <th></th>\n",
       "    </tr>\n",
       "  </thead>\n",
       "  <tbody>\n",
       "  </tbody>\n",
       "</table>\n",
       "</div>"
      ],
      "text/plain": [
       "Empty DataFrame\n",
       "Columns: [is_bouncy, cum_bouncy]\n",
       "Index: []"
      ]
     },
     "execution_count": 74,
     "metadata": {},
     "output_type": "execute_result"
    }
   ],
   "source": [
    "ndf.\n",
    "(dato, ignore_index = False)\n",
    "ndf.head()"
   ]
  }
 ],
 "metadata": {
  "kernelspec": {
   "display_name": "Python 3 (ipykernel)",
   "language": "python",
   "name": "python3"
  },
  "language_info": {
   "codemirror_mode": {
    "name": "ipython",
    "version": 3
   },
   "file_extension": ".py",
   "mimetype": "text/x-python",
   "name": "python",
   "nbconvert_exporter": "python",
   "pygments_lexer": "ipython3",
   "version": "3.10.7"
  }
 },
 "nbformat": 4,
 "nbformat_minor": 5
}
