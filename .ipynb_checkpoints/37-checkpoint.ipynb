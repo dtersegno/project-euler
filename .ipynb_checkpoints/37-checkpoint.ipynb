{
 "cells": [
  {
   "cell_type": "markdown",
   "id": "02ded462-9f99-4cc2-951c-66f42ac1aff3",
   "metadata": {},
   "source": [
    "Trunctable Primes\n",
    "---\n",
    "\n",
    "The number 3797 has an interesting property. Being prime itself, it is possible to continuously remove digits from left to right, and remain prime at each stage: 3797,797, 97, 7. Similarly we can work from right to left: 3797, 379, 37, 3.\n",
    "\n",
    "Find the sum of the only eleven primes that are both truncatable from left to right and right to left.\n",
    "\n",
    "NOTE: 2,3,5,7 are not considered to be truncatable primes."
   ]
  },
  {
   "cell_type": "code",
   "execution_count": 1,
   "id": "50976a2a-f94b-4d86-8c3c-9355ccaff2e7",
   "metadata": {},
   "outputs": [],
   "source": [
    "import sympy as sp\n",
    "import numpy as np"
   ]
  },
  {
   "cell_type": "markdown",
   "id": "0c9ab9c2-5d9a-405e-843d-8571993ec5f8",
   "metadata": {},
   "source": [
    "Could do this by brute force, but is there a better way...\n",
    "\n",
    "# constraints\n",
    "To be left- and right-trunctable, they must start and end with a prime digit. So any trunctable prime must begin and end with single digit primes. The digits in the middle can never be even, or else right-truncting will eventually result in an even number. They don't necessarily have to be a prime single digit (such as 9 in the example above).\n",
    "\n",
    "Two of the same digit cannot follow each other at the beginning or the end, else there would be a truncation divisible by 11. Similar constraints lie on repetitions... ex XYXYX.\n",
    "\n",
    "# construction\n",
    "These could be constructed by generating left-trunctable primes and appending right-trunctable primes to the right, and seeing if the result is prime.\n",
    "\n",
    "# upper bound\n",
    "What could the largest of these values be?\n",
    "I suspect that the combination of no repetitions and limited digits will be enough to set this.\n",
    "Ex. any must start with a two-digit left-trunctable prime, must start with a 3-digit left-trunctable prime, etc.\n",
    "Must end with an n-digit right-trunctable prime, etc."
   ]
  },
  {
   "cell_type": "code",
   "execution_count": 2,
   "id": "71a800d2-cb0b-4232-9396-2725d875e026",
   "metadata": {},
   "outputs": [],
   "source": [
    "d1primes = list(sp.primerange(10))\n",
    "d2primes = list(sp.primerange(10,100))\n",
    "d3primes = list(sp.primerange(100,1000))\n",
    "d4primes = list(sp.primerange(1000,10000))\n",
    "\n",
    "primes100k = list(sp.primerange(1e6))"
   ]
  },
  {
   "cell_type": "markdown",
   "id": "dab45ffc-6af2-4e24-96d4-f005a8b1bf76",
   "metadata": {},
   "source": [
    "# Construct all left, right, and both-trunctables up to a `max_size`"
   ]
  },
  {
   "cell_type": "code",
   "execution_count": 5,
   "id": "e8586370-95b1-4b67-b1c0-d9a298ab3032",
   "metadata": {},
   "outputs": [],
   "source": [
    "# collection all l, r, and fully tranctable primes up to 10k by brute force\n",
    "max_size = int(1e5)\n",
    "primes_to_max = list(sp.primerange(max_size))\n",
    "def is_trunctable(number, kind = 'left', prime_list = primes_to_max, verbose = False):\n",
    "    num_as_chars = [digit for digit in str(number)]\n",
    "    num_digits = len(num_as_chars)\n",
    "    result = False\n",
    "    if kind == 'left':\n",
    "        left_truncateds_are_prime = [\n",
    "            int(''.join(num_as_chars[:length+1])) in prime_list\n",
    "            for length in range(0, num_digits)\n",
    "        ]\n",
    "        if verbose:\n",
    "            left_truncateds = [\n",
    "            int(''.join(num_as_chars[:length+1]))\n",
    "            for length in range(0, num_digits)\n",
    "            ]\n",
    "            print(f'left truncts:\\t\\t\\t{left_truncateds}\\nleft_truncts are prime:\\t\\t{left_truncateds_are_prime}')\n",
    "        result = np.all(left_truncateds_are_prime)\n",
    "    elif kind == 'right':\n",
    "        right_truncateds_are_prime = [\n",
    "            int(''.join(num_as_chars[num_digits - length :])) in prime_list\n",
    "            for length in range(1, num_digits+1)\n",
    "        ]\n",
    "        if verbose:\n",
    "            right_truncateds = [\n",
    "            int(''.join(num_as_chars[num_digits - length :]))\n",
    "            for length in range(1, num_digits+1)\n",
    "            ]\n",
    "            print(f'right truncts:\\t\\t\\t{right_truncateds}\\nright truncts are prime:\\t{right_truncateds_are_prime}')\n",
    "        result = np.all(right_truncateds_are_prime)\n",
    "    elif kind == 'both':\n",
    "        result = is_trunctable(number, kind = 'left', prime_list = prime_list, verbose = verbose) and is_trunctable(number, kind = 'right', prime_list = prime_list, verbose = verbose)\n",
    "    else:\n",
    "        raise(ValueError(f\"kind must be one of ['left','right','both']\"))\n",
    "    return result\n"
   ]
  },
  {
   "cell_type": "code",
   "execution_count": 6,
   "id": "527abab9-0c55-4a69-b775-093720f2076c",
   "metadata": {},
   "outputs": [
    {
     "data": {
      "text/plain": [
       "np.True_"
      ]
     },
     "execution_count": 6,
     "metadata": {},
     "output_type": "execute_result"
    }
   ],
   "source": [
    "is_trunctable(3797, 'left')"
   ]
  },
  {
   "cell_type": "code",
   "execution_count": 7,
   "id": "de3b9c80-059d-41d0-bd79-ff1e7af0b8f7",
   "metadata": {},
   "outputs": [
    {
     "name": "stdout",
     "output_type": "stream",
     "text": [
      "right truncts:\t\t\t[7, 97, 797, 3797]\n",
      "right truncts are prime:\t[True, True, True, True]\n"
     ]
    },
    {
     "data": {
      "text/plain": [
       "np.True_"
      ]
     },
     "execution_count": 7,
     "metadata": {},
     "output_type": "execute_result"
    }
   ],
   "source": [
    "is_trunctable(3797,'right', verbose = True)"
   ]
  },
  {
   "cell_type": "code",
   "execution_count": 13,
   "id": "2eb0f702-de4f-4e00-9e09-a4a07d51b9ec",
   "metadata": {
    "tags": []
   },
   "outputs": [
    {
     "name": "stdout",
     "output_type": "stream",
     "text": [
      "left truncts:\t\t\t[3, 37, 379, 3797]\n",
      "left_truncts are prime:\t\t[True, True, True, True]\n"
     ]
    },
    {
     "data": {
      "text/plain": [
       "np.True_"
      ]
     },
     "execution_count": 13,
     "metadata": {},
     "output_type": "execute_result"
    }
   ],
   "source": [
    "is_trunctable(3797,'left', verbose = True)"
   ]
  },
  {
   "cell_type": "code",
   "execution_count": 14,
   "id": "d063d04a-e2e8-4999-ac6a-bd193db4113a",
   "metadata": {},
   "outputs": [
    {
     "name": "stdout",
     "output_type": "stream",
     "text": [
      "left truncts:\t\t\t[3, 32]\n",
      "left_truncts are prime:\t\t[True, False]\n"
     ]
    },
    {
     "data": {
      "text/plain": [
       "np.False_"
      ]
     },
     "execution_count": 14,
     "metadata": {},
     "output_type": "execute_result"
    }
   ],
   "source": [
    "is_trunctable(32, 'both', verbose = True)"
   ]
  },
  {
   "cell_type": "code",
   "execution_count": 15,
   "id": "e4d9dce1-c905-4989-9a22-f523e3b22be7",
   "metadata": {},
   "outputs": [
    {
     "name": "stdout",
     "output_type": "stream",
     "text": [
      "left truncts:\t\t\t[3, 37, 379, 3797]\n",
      "left_truncts are prime:\t\t[True, True, True, True]\n",
      "right truncts:\t\t\t[7, 97, 797, 3797]\n",
      "right truncts are prime:\t[True, True, True, True]\n"
     ]
    },
    {
     "data": {
      "text/plain": [
       "np.True_"
      ]
     },
     "execution_count": 15,
     "metadata": {},
     "output_type": "execute_result"
    }
   ],
   "source": [
    "is_trunctable(3797, kind = 'both', verbose = True)"
   ]
  },
  {
   "cell_type": "code",
   "execution_count": 16,
   "id": "1e46685f-f129-4edd-8a50-3be9574b5cb1",
   "metadata": {},
   "outputs": [],
   "source": [
    "max_number = int(5e4)\n",
    "# left_trunctable_truths = np.array([\n",
    "#     [number, is_trunctable(number, kind = 'left')]\n",
    "#     for number in range(10,max_number)\n",
    "# ])\n",
    "# right_trunctable_truths = np.array([\n",
    "#     [number, is_trunctable(number, kind = 'right')]\n",
    "#     for number in range(10,max_number)\n",
    "# ])\n",
    "both_trunctable_truths = np.array([\n",
    "    [number, is_trunctable(number, kind = 'both')]\n",
    "    for number in range(10,max_number)\n",
    "])\n",
    "\n",
    "#the first "
   ]
  },
  {
   "cell_type": "code",
   "execution_count": 22,
   "id": "ceb7e850-a884-4e9c-87ee-8c9aa65c021a",
   "metadata": {},
   "outputs": [
    {
     "data": {
      "text/plain": [
       "array([[  23,    1],\n",
       "       [  37,    1],\n",
       "       [  53,    1],\n",
       "       [  73,    1],\n",
       "       [ 313,    1],\n",
       "       [ 317,    1],\n",
       "       [ 373,    1],\n",
       "       [ 797,    1],\n",
       "       [3137,    1],\n",
       "       [3797,    1]])"
      ]
     },
     "execution_count": 22,
     "metadata": {},
     "output_type": "execute_result"
    }
   ],
   "source": [
    "both_trunctable_truths[\n",
    "    both_trunctable_truths[:,1] == 1\n",
    "]"
   ]
  },
  {
   "cell_type": "code",
   "execution_count": 25,
   "id": "4cb68cd3-d85f-4ee6-bdab-f5f94d62c1e9",
   "metadata": {},
   "outputs": [
    {
     "data": {
      "text/plain": [
       "array([  23,   37,   53,   73,  313,  317,  373,  797, 3137, 3797])"
      ]
     },
     "execution_count": 25,
     "metadata": {},
     "output_type": "execute_result"
    }
   ],
   "source": [
    "# #all both-trunctables up to 10k.\n",
    "# [\n",
    "#     number for number in zip(left_trunctable_truths, right_trunctable_truths, both_trunctable_truths)\n",
    "#     if number[0][1] == number[1][1] == number[0][1] == True\n",
    "# ]\n",
    "\n",
    "np.array([\n",
    "    number for number in both_trunctable_truths\n",
    "    if number[1] == True\n",
    "])[:,0]\n",
    "\n",
    "#the first ten L-R trunctable primes are less than 10000."
   ]
  },
  {
   "cell_type": "code",
   "execution_count": 36,
   "id": "991a786e-bb85-4a2b-b95c-7bc36f7fbd99",
   "metadata": {},
   "outputs": [],
   "source": [
    "both_trunctable_truths_second_half_million = np.array([\n",
    "    [number, is_trunctable(number, kind = 'both')]\n",
    "    for number in range(int(5e5)+1,int(1e6),2)\n",
    "])"
   ]
  },
  {
   "cell_type": "code",
   "execution_count": 37,
   "id": "5d20ead3-9f24-40ea-92ae-7225e2caacf0",
   "metadata": {},
   "outputs": [
    {
     "data": {
      "text/plain": [
       "array([], shape=(0, 2), dtype=int64)"
      ]
     },
     "execution_count": 37,
     "metadata": {},
     "output_type": "execute_result"
    }
   ],
   "source": [
    "both_trunctable_truths_second_half_million[both_trunctable_truths_second_half_million[:,1] == True]"
   ]
  },
  {
   "cell_type": "code",
   "execution_count": 45,
   "id": "7d11e68d-941b-47b5-93dd-2e738abbd2d0",
   "metadata": {},
   "outputs": [
    {
     "data": {
      "text/plain": [
       "array([], shape=(0, 2), dtype=int32)"
      ]
     },
     "execution_count": 45,
     "metadata": {},
     "output_type": "execute_result"
    }
   ],
   "source": [
    "both_trunctable_truths_third_half_million = np.array([\n",
    "    [number, is_trunctable(number, kind = 'both')]\n",
    "    for number in range(int(3e6)+1,int(4e6),2)\n",
    "])\n",
    "both_trunctable_truths_third_half_million[both_trunctable_truths_third_half_million[:,1]==True]"
   ]
  },
  {
   "cell_type": "code",
   "execution_count": 47,
   "id": "6b176996-a2f1-4f22-bac4-49c09b9ffb50",
   "metadata": {},
   "outputs": [
    {
     "data": {
      "text/plain": [
       "False"
      ]
     },
     "execution_count": 47,
     "metadata": {},
     "output_type": "execute_result"
    }
   ],
   "source": [
    "is_trunctable(23797, kind = 'right')"
   ]
  },
  {
   "cell_type": "code",
   "execution_count": 48,
   "id": "b0357d30-aae6-4258-9405-7533a8fab899",
   "metadata": {},
   "outputs": [
    {
     "data": {
      "text/plain": [
       "[53, 449]"
      ]
     },
     "execution_count": 48,
     "metadata": {},
     "output_type": "execute_result"
    }
   ],
   "source": [
    "sp.primefactors(23797)"
   ]
  },
  {
   "cell_type": "code",
   "execution_count": 50,
   "id": "b186deb0-f3c7-4971-bac1-a34fc2050d8e",
   "metadata": {},
   "outputs": [
    {
     "data": {
      "text/plain": [
       "[3, 5, 7, 23, 37, 53, 73, 313, 317, 373, 797, 3137, 3797]"
      ]
     },
     "execution_count": 50,
     "metadata": {},
     "output_type": "execute_result"
    }
   ],
   "source": [
    "both_trunctable_truths_ten_million = []\n",
    "for number in range(1,int(10e6),2):\n",
    "    if is_trunctable(number, kind = 'both'):\n",
    "        both_trunctable_truths_ten_million.append(number)\n",
    "both_trunctable_truths_ten_million"
   ]
  },
  {
   "cell_type": "code",
   "execution_count": 38,
   "id": "546eb1b5-5794-4758-8355-3e6a699102a9",
   "metadata": {},
   "outputs": [
    {
     "data": {
      "text/plain": [
       "13"
      ]
     },
     "execution_count": 38,
     "metadata": {},
     "output_type": "execute_result"
    }
   ],
   "source": [
    "len([3, 5, 7, 23, 37, 53, 73, 313, 317, 373, 797, 3137, 3797])"
   ]
  },
  {
   "cell_type": "code",
   "execution_count": null,
   "id": "09dc74e1-79df-4e73-a23b-bed2d4d4688a",
   "metadata": {},
   "outputs": [],
   "source": []
  }
 ],
 "metadata": {
  "kernelspec": {
   "display_name": "Python 3 (ipykernel)",
   "language": "python",
   "name": "python3"
  },
  "language_info": {
   "codemirror_mode": {
    "name": "ipython",
    "version": 3
   },
   "file_extension": ".py",
   "mimetype": "text/x-python",
   "name": "python",
   "nbconvert_exporter": "python",
   "pygments_lexer": "ipython3",
   "version": "3.12.3"
  }
 },
 "nbformat": 4,
 "nbformat_minor": 5
}
