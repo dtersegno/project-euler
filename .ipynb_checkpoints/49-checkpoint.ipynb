{
 "cells": [
  {
   "cell_type": "markdown",
   "id": "3bca67be-ab59-4c43-8adb-0f32556da9e1",
   "metadata": {},
   "source": [
    "Prime permutation\n",
    "---\n",
    "\n",
    "1487, 4817, 8147 each increase by 3330, are all prime, and are all permutations of another. What's the other like this?"
   ]
  },
  {
   "cell_type": "code",
   "execution_count": 1,
   "id": "c9c24e6d-40f1-4c1c-b9b1-046719e948f2",
   "metadata": {},
   "outputs": [],
   "source": [
    "import sympy as sp\n",
    "import numpy as np"
   ]
  },
  {
   "cell_type": "code",
   "execution_count": 2,
   "id": "ffda6d26-b69a-4d89-a1aa-5588845c018a",
   "metadata": {},
   "outputs": [],
   "source": [
    "p4d = list(sp.primerange(1000,100000))"
   ]
  },
  {
   "cell_type": "code",
   "execution_count": 3,
   "id": "e5778356-ea1f-45d5-8631-7304ec06a9fc",
   "metadata": {},
   "outputs": [
    {
     "data": {
      "text/plain": [
       "9424"
      ]
     },
     "execution_count": 3,
     "metadata": {},
     "output_type": "execute_result"
    }
   ],
   "source": [
    "len(p4d)"
   ]
  },
  {
   "cell_type": "code",
   "execution_count": 4,
   "id": "a43631c8-fe54-40f0-8569-5627b045551f",
   "metadata": {},
   "outputs": [],
   "source": [
    "diffs = np.array([ [abs(thing1 - thing2) for thing1 in p4d] for thing2 in p4d])"
   ]
  },
  {
   "cell_type": "code",
   "execution_count": 5,
   "id": "4490afa5-e4d1-43f6-9598-413d3c74ba1b",
   "metadata": {},
   "outputs": [
    {
     "data": {
      "text/plain": [
       "(9424, 9424)"
      ]
     },
     "execution_count": 5,
     "metadata": {},
     "output_type": "execute_result"
    }
   ],
   "source": [
    "diffs.shape"
   ]
  },
  {
   "cell_type": "code",
   "execution_count": 6,
   "id": "834ec0cd-b3ee-471a-bbdc-5b20f248f451",
   "metadata": {},
   "outputs": [],
   "source": [
    "import pandas as pd"
   ]
  },
  {
   "cell_type": "code",
   "execution_count": 7,
   "id": "af0807d7-6428-4676-8b66-b7390be869c6",
   "metadata": {
    "scrolled": true
   },
   "outputs": [
    {
     "name": "stdout",
     "output_type": "stream",
     "text": [
      "<class 'pandas.core.frame.DataFrame'>\n",
      "RangeIndex: 44410600 entries, 0 to 44410599\n",
      "Data columns (total 3 columns):\n",
      " #   Column      Dtype\n",
      "---  ------      -----\n",
      " 0   row         int64\n",
      " 1   col         int64\n",
      " 2   difference  int64\n",
      "dtypes: int64(3)\n",
      "memory usage: 1016.5 MB\n"
     ]
    }
   ],
   "source": [
    "diffUp = [\n",
    "    [row, col, diffs[row,col]]\n",
    "    for row in range(len(diffs))\n",
    "    for col in range(row, len(diffs[row]))\n",
    "]\n",
    "\n",
    "ddf = pd.DataFrame(diffUp, columns = ['row','col','difference'])\n",
    "ddf.info()"
   ]
  },
  {
   "cell_type": "code",
   "execution_count": 8,
   "id": "88c4d0c6-6a98-4cbe-9347-c555eecda68e",
   "metadata": {},
   "outputs": [],
   "source": [
    "ddf['prime1'] = ddf['row'].apply(lambda num: p4d[num])\n",
    "ddf['prime2'] = ddf['col'].apply(lambda num: p4d[num])"
   ]
  },
  {
   "cell_type": "code",
   "execution_count": 9,
   "id": "b6b60ecf-5ea0-47d9-9ce6-46468f274c36",
   "metadata": {},
   "outputs": [
    {
     "data": {
      "text/html": [
       "<div>\n",
       "<style scoped>\n",
       "    .dataframe tbody tr th:only-of-type {\n",
       "        vertical-align: middle;\n",
       "    }\n",
       "\n",
       "    .dataframe tbody tr th {\n",
       "        vertical-align: top;\n",
       "    }\n",
       "\n",
       "    .dataframe thead th {\n",
       "        text-align: right;\n",
       "    }\n",
       "</style>\n",
       "<table border=\"1\" class=\"dataframe\">\n",
       "  <thead>\n",
       "    <tr style=\"text-align: right;\">\n",
       "      <th></th>\n",
       "      <th>row</th>\n",
       "      <th>col</th>\n",
       "      <th>difference</th>\n",
       "      <th>prime1</th>\n",
       "      <th>prime2</th>\n",
       "    </tr>\n",
       "  </thead>\n",
       "  <tbody>\n",
       "    <tr>\n",
       "      <th>424</th>\n",
       "      <td>0</td>\n",
       "      <td>424</td>\n",
       "      <td>3330</td>\n",
       "      <td>1009</td>\n",
       "      <td>4339</td>\n",
       "    </tr>\n",
       "    <tr>\n",
       "      <th>19270</th>\n",
       "      <td>2</td>\n",
       "      <td>425</td>\n",
       "      <td>3330</td>\n",
       "      <td>1019</td>\n",
       "      <td>4349</td>\n",
       "    </tr>\n",
       "    <tr>\n",
       "      <th>47532</th>\n",
       "      <td>5</td>\n",
       "      <td>427</td>\n",
       "      <td>3330</td>\n",
       "      <td>1033</td>\n",
       "      <td>4363</td>\n",
       "    </tr>\n",
       "    <tr>\n",
       "      <th>85200</th>\n",
       "      <td>9</td>\n",
       "      <td>429</td>\n",
       "      <td>3330</td>\n",
       "      <td>1061</td>\n",
       "      <td>4391</td>\n",
       "    </tr>\n",
       "    <tr>\n",
       "      <th>122853</th>\n",
       "      <td>13</td>\n",
       "      <td>432</td>\n",
       "      <td>3330</td>\n",
       "      <td>1091</td>\n",
       "      <td>4421</td>\n",
       "    </tr>\n",
       "    <tr>\n",
       "      <th>...</th>\n",
       "      <td>...</td>\n",
       "      <td>...</td>\n",
       "      <td>...</td>\n",
       "      <td>...</td>\n",
       "      <td>...</td>\n",
       "    </tr>\n",
       "    <tr>\n",
       "      <th>44364524</th>\n",
       "      <td>9120</td>\n",
       "      <td>9404</td>\n",
       "      <td>3330</td>\n",
       "      <td>96457</td>\n",
       "      <td>99787</td>\n",
       "    </tr>\n",
       "    <tr>\n",
       "      <th>44365432</th>\n",
       "      <td>9123</td>\n",
       "      <td>9406</td>\n",
       "      <td>3330</td>\n",
       "      <td>96479</td>\n",
       "      <td>99809</td>\n",
       "    </tr>\n",
       "    <tr>\n",
       "      <th>44365733</th>\n",
       "      <td>9124</td>\n",
       "      <td>9407</td>\n",
       "      <td>3330</td>\n",
       "      <td>96487</td>\n",
       "      <td>99817</td>\n",
       "    </tr>\n",
       "    <tr>\n",
       "      <th>44366033</th>\n",
       "      <td>9125</td>\n",
       "      <td>9408</td>\n",
       "      <td>3330</td>\n",
       "      <td>96493</td>\n",
       "      <td>99823</td>\n",
       "    </tr>\n",
       "    <tr>\n",
       "      <th>44369271</th>\n",
       "      <td>9136</td>\n",
       "      <td>9423</td>\n",
       "      <td>3330</td>\n",
       "      <td>96661</td>\n",
       "      <td>99991</td>\n",
       "    </tr>\n",
       "  </tbody>\n",
       "</table>\n",
       "<p>3158 rows × 5 columns</p>\n",
       "</div>"
      ],
      "text/plain": [
       "           row   col  difference  prime1  prime2\n",
       "424          0   424        3330    1009    4339\n",
       "19270        2   425        3330    1019    4349\n",
       "47532        5   427        3330    1033    4363\n",
       "85200        9   429        3330    1061    4391\n",
       "122853      13   432        3330    1091    4421\n",
       "...        ...   ...         ...     ...     ...\n",
       "44364524  9120  9404        3330   96457   99787\n",
       "44365432  9123  9406        3330   96479   99809\n",
       "44365733  9124  9407        3330   96487   99817\n",
       "44366033  9125  9408        3330   96493   99823\n",
       "44369271  9136  9423        3330   96661   99991\n",
       "\n",
       "[3158 rows x 5 columns]"
      ]
     },
     "execution_count": 9,
     "metadata": {},
     "output_type": "execute_result"
    }
   ],
   "source": [
    "ddf[ddf['difference'] == 3330]"
   ]
  },
  {
   "cell_type": "code",
   "execution_count": 10,
   "id": "fc823bff-cf39-4942-8d46-6fd3b3b2c21d",
   "metadata": {},
   "outputs": [
    {
     "data": {
      "text/plain": [
       "3330"
      ]
     },
     "execution_count": 10,
     "metadata": {},
     "output_type": "execute_result"
    }
   ],
   "source": [
    "4339-1009"
   ]
  },
  {
   "cell_type": "code",
   "execution_count": 13,
   "id": "e94b2e17-06a8-419c-9529-4df122272d02",
   "metadata": {},
   "outputs": [
    {
     "name": "stderr",
     "output_type": "stream",
     "text": [
      "\n",
      "KeyboardInterrupt\n",
      "\n"
     ]
    }
   ],
   "source": [
    "#find instances of same differences with the same number as prime1 and prime2.\n",
    "\n",
    "\n",
    "\n",
    "#takes too long to evaluate. find a different method than this.\n",
    "matches = {}\n",
    "for difference in ddf['difference'].unique():\n",
    "    diff_mask = ddf['difference'] == difference\n",
    "    these_prime1s = ddf.loc[diff_mask, 'prime1']\n",
    "    these_prime2s = ddf.loc[diff_mask, 'prime2']\n",
    "    this_intersection = np.intersect1d(these_prime1s, these_prime2s)\n",
    "    if len(this_intersection) > 0:\n",
    "        matches.update({difference:this_intersection})\n",
    "\n",
    "len(matches)\n",
    "        "
   ]
  },
  {
   "cell_type": "code",
   "execution_count": null,
   "id": "6d0353de-f102-48a6-be25-7263a4e17c7d",
   "metadata": {},
   "outputs": [],
   "source": []
  }
 ],
 "metadata": {
  "kernelspec": {
   "display_name": "Python 3 (ipykernel)",
   "language": "python",
   "name": "python3"
  },
  "language_info": {
   "codemirror_mode": {
    "name": "ipython",
    "version": 3
   },
   "file_extension": ".py",
   "mimetype": "text/x-python",
   "name": "python",
   "nbconvert_exporter": "python",
   "pygments_lexer": "ipython3",
   "version": "3.12.3"
  }
 },
 "nbformat": 4,
 "nbformat_minor": 5
}
