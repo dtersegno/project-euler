{
 "cells": [
  {
   "cell_type": "markdown",
   "id": "bb0b6d54-ea24-42df-81ac-cb2526604d3a",
   "metadata": {},
   "source": [
    "Project Euler 77\n",
    "---\n",
    "Prime summation\n",
    "It is possible to write ten as the sum of primes in exactly five different ways:\n",
    "\n",
    "7+3, 2+2+2+2+2, 3+3+2+2, 5+3+2, 5+5\n",
    "\n",
    "What is the first value which can be written as the sum of primes in over five thousand different ways?\n",
    "---\n",
    "\n",
    "First, if a number $n = p_1p_2$, then it can be written as a sum of $p_2$ $p_1$s and $p_1$ $p_2$s. So any non-prime has at least 2 of these sums.\n",
    "\n",
    "There is probably a good way to build up possible sums from previous numbers.\n",
    "\n",
    "Alternatively, we can approach from the other direction. Generate all the numbers that are made by adding primes in different ways."
   ]
  },
  {
   "cell_type": "code",
   "execution_count": 4,
   "id": "b575a78c-ae91-4f8d-ba2b-c3b1432f3af5",
   "metadata": {},
   "outputs": [],
   "source": [
    "import numpy as np\n",
    "import sympy as sp\n",
    "import pandas as pd"
   ]
  },
  {
   "cell_type": "code",
   "execution_count": 3,
   "id": "9d5e1185-30ea-4ec8-8c9f-2759ba4fe9ef",
   "metadata": {},
   "outputs": [
    {
     "data": {
      "text/plain": [
       "[2, 5]"
      ]
     },
     "execution_count": 3,
     "metadata": {},
     "output_type": "execute_result"
    }
   ],
   "source": [
    "sp.primefactors(100)"
   ]
  },
  {
   "cell_type": "code",
   "execution_count": 4,
   "id": "e5f97626-4027-453a-a720-a502f04b983d",
   "metadata": {},
   "outputs": [],
   "source": [
    "#list a bunch of prime numbers\n",
    "primes200 = [ sp.prime(nth) for nth in range(1,200)]\n",
    "#create a bunch of numbers by adding primes.\n",
    "#num_to_add[i] is how many ith primes to add\n",
    "num_to_add = np.zeros_like(primes200)"
   ]
  },
  {
   "cell_type": "code",
   "execution_count": 82,
   "id": "d547fe81-6094-4b60-9daa-5c37467f2b8a",
   "metadata": {
    "tags": []
   },
   "outputs": [],
   "source": [
    "# def increase_by(times_to_add, current_focused_index = 0, max_no = 100):\n",
    "#     new_numbos = times_to_add.copy()\n",
    "#     searching_for_first = True\n",
    "#     current_index = 0\n",
    "#     num_numbos = len(times_to_add)    \n",
    "#     while searching_for_first:\n",
    "#         if times_to_add[current_index] == max_no:\n",
    "#             current_index += 1\n",
    "#         elif times_to_add[current_index] < max_no:\n",
    "#             new_numbos[current_index] += 1\n",
    "#             return new_numbos\n",
    "#         if current_index == len(num_numbos):\n",
    "#             searching_for_first = True\n",
    "\n",
    "# #returns a times_to_add increased by one, \n",
    "# def increase_by(times_to_add, current_focused_index = 0, max_no = 100):\n",
    "#     # print(f'increase {times_to_add} at {current_focused_index}...)+')\n",
    "#     new_numbos = times_to_add.copy()\n",
    "#     if new_numbos[current_focused_index] == max_no:\n",
    "#         new_numbos[current_focused_index] = 0\n",
    "#         current_focused_index += 1\n",
    "#         if current_focused_index == len(times_to_add):\n",
    "#             return np.zeros_like(times_to_add), current_focused_index\n",
    "#     new_numbos[current_focused_index] = new_numbos[current_focused_index] + 1\n",
    "#     return new_numbos, current_focused_index\n",
    "        \n",
    "# def all_times_to_add(size, max_no = 10 ):\n",
    "#     times_to_add = np.zeros(size)\n",
    "#     all_times = [times_to_add.copy()]\n",
    "#     current_focused_index = 0\n",
    "#     while current_focused_index < size:\n",
    "#         times_to_add, current_focused_index = increase_by(times_to_add, current_focused_index = current_focused_index, max_no = max_no)\n",
    "#         all_times.append(times_to_add)\n",
    "#     return all_times\n",
    "\n",
    "def all_ways(size, upper_bound):\n",
    "    if size == 1:\n",
    "        return np.arange(max_no):"
   ]
  },
  {
   "cell_type": "markdown",
   "id": "0d7a77ca-3b66-487c-af4f-b792ace955bd",
   "metadata": {},
   "source": [
    "Lets start with 5000+ \"prime markers\" and distribute them amongst the first... 200 primes? Fewer? More? See what numbers we get. Include zero for down to 5000.\n",
    "\n",
    "How many different ways can we fill N prime boxes with S things?\n",
    "Each thing can go into one of N, so N^S if they are distinguishable. Divide by every rearrangement of the things once they are placed.\n",
    "$$\n",
    "\\frac{N^S}{N!}\n",
    "$$"
   ]
  },
  {
   "cell_type": "code",
   "execution_count": 10,
   "id": "2a9f95ff-5b7c-46e7-be8b-62ca14ed4bef",
   "metadata": {},
   "outputs": [
    {
     "ename": "OverflowError",
     "evalue": "integer division result too large for a float",
     "output_type": "error",
     "traceback": [
      "\u001b[1;31m---------------------------------------------------------------------------\u001b[0m",
      "\u001b[1;31mOverflowError\u001b[0m                             Traceback (most recent call last)",
      "Cell \u001b[1;32mIn [10], line 3\u001b[0m\n\u001b[0;32m      1\u001b[0m N \u001b[38;5;241m=\u001b[39m \u001b[38;5;241m10\u001b[39m\n\u001b[0;32m      2\u001b[0m S \u001b[38;5;241m=\u001b[39m \u001b[38;5;241m5001\u001b[39m\n\u001b[1;32m----> 3\u001b[0m \u001b[43m(\u001b[49m\u001b[43mN\u001b[49m\u001b[38;5;241;43m*\u001b[39;49m\u001b[38;5;241;43m*\u001b[39;49m\u001b[43mS\u001b[49m\u001b[43m)\u001b[49m\u001b[38;5;241;43m/\u001b[39;49m\u001b[43mnp\u001b[49m\u001b[38;5;241;43m.\u001b[39;49m\u001b[43mmath\u001b[49m\u001b[38;5;241;43m.\u001b[39;49m\u001b[43mperm\u001b[49m\u001b[43m(\u001b[49m\u001b[43mN\u001b[49m\u001b[43m)\u001b[49m\n",
      "\u001b[1;31mOverflowError\u001b[0m: integer division result too large for a float"
     ]
    }
   ],
   "source": [
    "N = 10\n",
    "S = 5001\n",
    "(N**S)/np.math.perm(N)"
   ]
  },
  {
   "cell_type": "markdown",
   "id": "978f81a6-a6ac-49a8-997a-c21541db8991",
   "metadata": {},
   "source": [
    "Sep 17\n",
    "\n",
    "Can think of the vector of all primes dotted with a vector of counts:\n",
    "$$\n",
    "P\\cdot S = N\\\\\n",
    "\\left[2,3,5,7,\\dots p_n\\right]\\cdot\\left[s_1, s_2, \\dots s_n\\right] = N\n",
    "$$\n",
    "\n",
    "The vector S is the solution --- there should be at least 5000 of these that work in the positive \"quadrant\".\n",
    "\n",
    "Mapping all the ways every number can be made of other primes should be a good first step. Then we just need to multiply ways given those primes to get many ways to write them."
   ]
  },
  {
   "cell_type": "code",
   "execution_count": 59,
   "id": "2f1d1bdc-49cb-4419-b5c2-4b289b765ade",
   "metadata": {},
   "outputs": [
    {
     "data": {
      "text/plain": [
       "10"
      ]
     },
     "execution_count": 59,
     "metadata": {},
     "output_type": "execute_result"
    }
   ],
   "source": [
    "primes200[:10]"
   ]
  },
  {
   "cell_type": "code",
   "execution_count": 58,
   "id": "a887215e-e9a7-4581-bc82-24a3b0cb3e98",
   "metadata": {},
   "outputs": [
    {
     "data": {
      "text/plain": [
       "9"
      ]
     },
     "execution_count": 58,
     "metadata": {},
     "output_type": "execute_result"
    }
   ],
   "source": [
    "max_sum_multiples = [ 5000, 4000, 3500, 2500, 2500, 250, 250, 25, 20, 10]"
   ]
  },
  {
   "cell_type": "code",
   "execution_count": 68,
   "id": "41bf6cfa-56b0-4358-bb51-f06bd3d4c999",
   "metadata": {},
   "outputs": [],
   "source": [
    "def numberToBase(n, b):\n",
    "    if n == 0:\n",
    "        return [0]\n",
    "    digits = []\n",
    "    while n:\n",
    "        digits.append(int(n % b))\n",
    "        n //= b\n",
    "    return digits#[::-1]"
   ]
  },
  {
   "cell_type": "code",
   "execution_count": 83,
   "id": "c742762d-f6ce-4d81-b0af-b5199f14ddcb",
   "metadata": {},
   "outputs": [],
   "source": [
    "def extend_list(the_list, full_length):\n",
    "    list_length = len(the_list)\n",
    "    new_list = the_list + [0]*(full_length - list_length)\n",
    "    return new_list\n",
    "\n",
    "def make_record(multiples, primes = primes200):\n",
    "    extended_multiples = extend_list(multiples, len(primes))\n",
    "    the_sum = np.matmul(extended_multiples, primes)\n",
    "    record = [the_sum, multiples, sum(multiples)]\n",
    "    return record"
   ]
  },
  {
   "cell_type": "code",
   "execution_count": 170,
   "id": "4474092d-008a-4178-987b-4afa8c13af50",
   "metadata": {},
   "outputs": [],
   "source": [
    "data = []\n",
    "for number in range(10000000):\n",
    "    multiples = numberToBase(number, 200)\n",
    "    data.append(make_record(multiples, primes = primes200[:7]))\n",
    "df = pd.DataFrame(data, columns = ['sum value','prime sums','number primes used'])"
   ]
  },
  {
   "cell_type": "code",
   "execution_count": 166,
   "id": "cac837c2-cabd-4d32-be07-490281996147",
   "metadata": {},
   "outputs": [
    {
     "data": {
      "text/html": [
       "<div>\n",
       "<style scoped>\n",
       "    .dataframe tbody tr th:only-of-type {\n",
       "        vertical-align: middle;\n",
       "    }\n",
       "\n",
       "    .dataframe tbody tr th {\n",
       "        vertical-align: top;\n",
       "    }\n",
       "\n",
       "    .dataframe thead th {\n",
       "        text-align: right;\n",
       "    }\n",
       "</style>\n",
       "<table border=\"1\" class=\"dataframe\">\n",
       "  <thead>\n",
       "    <tr style=\"text-align: right;\">\n",
       "      <th></th>\n",
       "      <th>prime sums</th>\n",
       "    </tr>\n",
       "    <tr>\n",
       "      <th>sum value</th>\n",
       "      <th></th>\n",
       "    </tr>\n",
       "  </thead>\n",
       "  <tbody>\n",
       "    <tr>\n",
       "      <th>130</th>\n",
       "      <td>304</td>\n",
       "    </tr>\n",
       "    <tr>\n",
       "      <th>131</th>\n",
       "      <td>308</td>\n",
       "    </tr>\n",
       "    <tr>\n",
       "      <th>132</th>\n",
       "      <td>313</td>\n",
       "    </tr>\n",
       "    <tr>\n",
       "      <th>133</th>\n",
       "      <td>317</td>\n",
       "    </tr>\n",
       "    <tr>\n",
       "      <th>134</th>\n",
       "      <td>322</td>\n",
       "    </tr>\n",
       "    <tr>\n",
       "      <th>...</th>\n",
       "      <td>...</td>\n",
       "    </tr>\n",
       "    <tr>\n",
       "      <th>856</th>\n",
       "      <td>322</td>\n",
       "    </tr>\n",
       "    <tr>\n",
       "      <th>857</th>\n",
       "      <td>317</td>\n",
       "    </tr>\n",
       "    <tr>\n",
       "      <th>858</th>\n",
       "      <td>313</td>\n",
       "    </tr>\n",
       "    <tr>\n",
       "      <th>859</th>\n",
       "      <td>308</td>\n",
       "    </tr>\n",
       "    <tr>\n",
       "      <th>860</th>\n",
       "      <td>304</td>\n",
       "    </tr>\n",
       "  </tbody>\n",
       "</table>\n",
       "<p>731 rows × 1 columns</p>\n",
       "</div>"
      ],
      "text/plain": [
       "           prime sums\n",
       "sum value            \n",
       "130               304\n",
       "131               308\n",
       "132               313\n",
       "133               317\n",
       "134               322\n",
       "...               ...\n",
       "856               322\n",
       "857               317\n",
       "858               313\n",
       "859               308\n",
       "860               304\n",
       "\n",
       "[731 rows x 1 columns]"
      ]
     },
     "execution_count": 166,
     "metadata": {},
     "output_type": "execute_result"
    }
   ],
   "source": [
    "pd.options.display.max_rows = 60\n",
    "\n",
    "grouped_df = df.groupby('sum value').count()\n",
    "grouped_df = grouped_df[['prime sums']]\n",
    "grouped_df[(grouped_df['prime sums'] > 300)]"
   ]
  },
  {
   "cell_type": "code",
   "execution_count": 167,
   "id": "927fdca9-bd7c-4f10-9d43-cc06b5bd512d",
   "metadata": {},
   "outputs": [
    {
     "data": {
      "text/plain": [
       "prime sums    2000\n",
       "dtype: int64"
      ]
     },
     "execution_count": 167,
     "metadata": {},
     "output_type": "execute_result"
    }
   ],
   "source": [
    "grouped_df.max()"
   ]
  },
  {
   "cell_type": "code",
   "execution_count": 169,
   "id": "450c10dc-407f-4df1-8280-9a123b15fc48",
   "metadata": {},
   "outputs": [
    {
     "data": {
      "text/html": [
       "<div>\n",
       "<style scoped>\n",
       "    .dataframe tbody tr th:only-of-type {\n",
       "        vertical-align: middle;\n",
       "    }\n",
       "\n",
       "    .dataframe tbody tr th {\n",
       "        vertical-align: top;\n",
       "    }\n",
       "\n",
       "    .dataframe thead th {\n",
       "        text-align: right;\n",
       "    }\n",
       "</style>\n",
       "<table border=\"1\" class=\"dataframe\">\n",
       "  <thead>\n",
       "    <tr style=\"text-align: right;\">\n",
       "      <th></th>\n",
       "      <th>prime sums</th>\n",
       "    </tr>\n",
       "    <tr>\n",
       "      <th>sum value</th>\n",
       "      <th></th>\n",
       "    </tr>\n",
       "  </thead>\n",
       "  <tbody>\n",
       "    <tr>\n",
       "      <th>386</th>\n",
       "      <td>1802</td>\n",
       "    </tr>\n",
       "    <tr>\n",
       "      <th>387</th>\n",
       "      <td>1806</td>\n",
       "    </tr>\n",
       "    <tr>\n",
       "      <th>388</th>\n",
       "      <td>1809</td>\n",
       "    </tr>\n",
       "    <tr>\n",
       "      <th>389</th>\n",
       "      <td>1813</td>\n",
       "    </tr>\n",
       "    <tr>\n",
       "      <th>390</th>\n",
       "      <td>1816</td>\n",
       "    </tr>\n",
       "    <tr>\n",
       "      <th>...</th>\n",
       "      <td>...</td>\n",
       "    </tr>\n",
       "    <tr>\n",
       "      <th>600</th>\n",
       "      <td>1816</td>\n",
       "    </tr>\n",
       "    <tr>\n",
       "      <th>601</th>\n",
       "      <td>1813</td>\n",
       "    </tr>\n",
       "    <tr>\n",
       "      <th>602</th>\n",
       "      <td>1809</td>\n",
       "    </tr>\n",
       "    <tr>\n",
       "      <th>603</th>\n",
       "      <td>1806</td>\n",
       "    </tr>\n",
       "    <tr>\n",
       "      <th>604</th>\n",
       "      <td>1802</td>\n",
       "    </tr>\n",
       "  </tbody>\n",
       "</table>\n",
       "<p>219 rows × 1 columns</p>\n",
       "</div>"
      ],
      "text/plain": [
       "           prime sums\n",
       "sum value            \n",
       "386              1802\n",
       "387              1806\n",
       "388              1809\n",
       "389              1813\n",
       "390              1816\n",
       "...               ...\n",
       "600              1816\n",
       "601              1813\n",
       "602              1809\n",
       "603              1806\n",
       "604              1802\n",
       "\n",
       "[219 rows x 1 columns]"
      ]
     },
     "execution_count": 169,
     "metadata": {},
     "output_type": "execute_result"
    }
   ],
   "source": [
    "grouped_df[grouped_df['prime sums'] >= 1800]"
   ]
  },
  {
   "cell_type": "markdown",
   "id": "f56927ab-8004-4a7a-a066-c8667eceb3d7",
   "metadata": {},
   "source": [
    "sept 18\n",
    "---\n",
    "\n",
    "\n",
    "Limit the number of times we can add a prime so it itself cannot exceed a certain number.\n",
    "With $N$, each prime $p_i$ cannot be added more than $N/p$ times. So the sums can greatly exceed $N$, as we can add other primes $N/p_n$ times as well."
   ]
  },
  {
   "cell_type": "code",
   "execution_count": 342,
   "id": "7ccbe9df-3d3a-4a6b-8e83-9494a2794346",
   "metadata": {},
   "outputs": [
    {
     "data": {
      "text/plain": [
       "5971968"
      ]
     },
     "execution_count": 342,
     "metadata": {},
     "output_type": "execute_result"
    }
   ],
   "source": [
    "max_num = 35\n",
    "max_prime_times = np.array(list(map(lambda p: max_num//p, primes200)))\n",
    "np.product(max_prime_times[max_prime_times != 0] + 1)"
   ]
  },
  {
   "cell_type": "markdown",
   "id": "389aa9d2-1ca6-4534-b7fc-b18fdf27766d",
   "metadata": {},
   "source": [
    "There are 6 Million different ways to add the first few primes so none on their own exceeds 35."
   ]
  },
  {
   "cell_type": "code",
   "execution_count": 309,
   "id": "edd31465-aab9-4a6e-80cc-43743afc1c11",
   "metadata": {},
   "outputs": [],
   "source": [
    "max_prime_times = max_prime_times[max_prime_times != 0]"
   ]
  },
  {
   "cell_type": "code",
   "execution_count": 310,
   "id": "6d7bdcde-65c6-4224-8e68-99dc18e4fee7",
   "metadata": {},
   "outputs": [
    {
     "data": {
      "text/plain": [
       "array([17, 11,  7,  5,  3,  2,  2,  1,  1,  1,  1])"
      ]
     },
     "execution_count": 310,
     "metadata": {},
     "output_type": "execute_result"
    }
   ],
   "source": [
    "max_prime_times"
   ]
  },
  {
   "cell_type": "code",
   "execution_count": 313,
   "id": "b765aac2-a363-4fa9-bd90-4b7669380d4d",
   "metadata": {},
   "outputs": [],
   "source": [
    "primes11=primes200[:len(max_prime_times)]"
   ]
  },
  {
   "cell_type": "code",
   "execution_count": 314,
   "id": "83493de7-8d24-423f-a59f-6a4ad685d484",
   "metadata": {},
   "outputs": [
    {
     "data": {
      "text/plain": [
       "array([17, 11,  7,  5,  3,  2,  2,  1,  1,  1,  1])"
      ]
     },
     "execution_count": 314,
     "metadata": {},
     "output_type": "execute_result"
    }
   ],
   "source": [
    "max_prime_times"
   ]
  },
  {
   "cell_type": "code",
   "execution_count": 315,
   "id": "faca5a20-ad35-4fa5-a47d-2624ea086ecf",
   "metadata": {},
   "outputs": [
    {
     "data": {
      "text/plain": [
       "[2, 3, 5, 7, 11, 13, 17, 19, 23, 29, 31]"
      ]
     },
     "execution_count": 315,
     "metadata": {},
     "output_type": "execute_result"
    }
   ],
   "source": [
    "primes11"
   ]
  },
  {
   "cell_type": "code",
   "execution_count": 316,
   "id": "090f6892-16c1-48c8-a045-a08ae8fe84ae",
   "metadata": {},
   "outputs": [],
   "source": [
    "def increment_prime_times(prime_times, prime_index = 0, maxes = max_prime_times):\n",
    "    if prime_times[prime_index] == maxes[prime_index]:\n",
    "        if prime_index == len(prime_times) - 1:\n",
    "            return np.zeros_like(prime_times)\n",
    "        else:\n",
    "            prime_times[prime_index] = 0\n",
    "            return increment_prime_times(prime_times, prime_index = prime_index + 1)\n",
    "    else:\n",
    "        prime_times[prime_index] = prime_times[prime_index] + 1\n",
    "        return prime_times\n",
    "        "
   ]
  },
  {
   "cell_type": "code",
   "execution_count": 322,
   "id": "b9c8b752-f6d9-494f-ad8c-220d728e3a89",
   "metadata": {},
   "outputs": [
    {
     "data": {
      "text/plain": [
       "array([17, 11,  7,  5,  3,  2,  2,  1,  1,  1,  1])"
      ]
     },
     "execution_count": 322,
     "metadata": {},
     "output_type": "execute_result"
    }
   ],
   "source": [
    "max_prime_times"
   ]
  },
  {
   "cell_type": "code",
   "execution_count": 317,
   "id": "8443d092-a0c9-4e3f-8bbe-760b71b2ec9a",
   "metadata": {},
   "outputs": [
    {
     "data": {
      "text/plain": [
       "array([1, 0, 0, 0, 0, 0, 0, 0, 0, 0, 0])"
      ]
     },
     "execution_count": 317,
     "metadata": {},
     "output_type": "execute_result"
    }
   ],
   "source": [
    "increment_prime_times(np.zeros_like(max_prime_times))"
   ]
  },
  {
   "cell_type": "code",
   "execution_count": 318,
   "id": "42fbaabc-7068-43ba-9cff-1ae0d742e79c",
   "metadata": {},
   "outputs": [
    {
     "data": {
      "text/plain": [
       "array([0, 0, 0, 0, 0, 0, 0, 0, 0, 0, 0, 0, 0, 0, 0])"
      ]
     },
     "execution_count": 318,
     "metadata": {},
     "output_type": "execute_result"
    }
   ],
   "source": [
    "all_prime_times[0][1]"
   ]
  },
  {
   "cell_type": "code",
   "execution_count": 325,
   "id": "3257652f-d117-4e59-8741-61407822f041",
   "metadata": {},
   "outputs": [
    {
     "ename": "ValueError",
     "evalue": "Length of values (5971968) does not match length of index (78540)",
     "output_type": "error",
     "traceback": [
      "\u001b[1;31m---------------------------------------------------------------------------\u001b[0m",
      "\u001b[1;31mValueError\u001b[0m                                Traceback (most recent call last)",
      "Cell \u001b[1;32mIn [325], line 17\u001b[0m\n\u001b[0;32m      8\u001b[0m     all_prime_times\u001b[38;5;241m.\u001b[39mappend(\n\u001b[0;32m      9\u001b[0m         (number, prime_times\u001b[38;5;241m.\u001b[39mcopy())\n\u001b[0;32m     10\u001b[0m     )\n\u001b[0;32m     12\u001b[0m data \u001b[38;5;241m=\u001b[39m [\n\u001b[0;32m     13\u001b[0m     (all_prime_time[\u001b[38;5;241m1\u001b[39m], np\u001b[38;5;241m.\u001b[39mmatmul(all_prime_time[\u001b[38;5;241m1\u001b[39m], primes15))\n\u001b[0;32m     14\u001b[0m     \u001b[38;5;28;01mfor\u001b[39;00m all_prime_time \u001b[38;5;129;01min\u001b[39;00m all_prime_times\n\u001b[0;32m     15\u001b[0m ]\n\u001b[1;32m---> 17\u001b[0m df \u001b[38;5;241m=\u001b[39m \u001b[43mpd\u001b[49m\u001b[38;5;241;43m.\u001b[39;49m\u001b[43mDataFrame\u001b[49m\u001b[43m(\u001b[49m\u001b[43mdata\u001b[49m\u001b[43m,\u001b[49m\u001b[43m \u001b[49m\u001b[43mcolumns\u001b[49m\u001b[43m \u001b[49m\u001b[38;5;241;43m=\u001b[39;49m\u001b[43m \u001b[49m\u001b[43m[\u001b[49m\u001b[38;5;124;43m'\u001b[39;49m\u001b[38;5;124;43mprime_multiples\u001b[39;49m\u001b[38;5;124;43m'\u001b[39;49m\u001b[43m,\u001b[49m\u001b[43m \u001b[49m\u001b[38;5;124;43m'\u001b[39;49m\u001b[38;5;124;43msum\u001b[39;49m\u001b[38;5;124;43m'\u001b[39;49m\u001b[43m]\u001b[49m\u001b[43m,\u001b[49m\u001b[43m \u001b[49m\u001b[43mindex\u001b[49m\u001b[43m \u001b[49m\u001b[38;5;241;43m=\u001b[39;49m\u001b[43m \u001b[49m\u001b[38;5;28;43mrange\u001b[39;49m\u001b[43m(\u001b[49m\u001b[43mnp\u001b[49m\u001b[38;5;241;43m.\u001b[39;49m\u001b[43mproduct\u001b[49m\u001b[43m(\u001b[49m\u001b[43mmax_prime_times\u001b[49m\u001b[43m)\u001b[49m\u001b[43m)\u001b[49m\u001b[43m)\u001b[49m\n",
      "File \u001b[1;32m~\\AppData\\Local\\Programs\\Python\\Python310\\lib\\site-packages\\pandas\\core\\frame.py:729\u001b[0m, in \u001b[0;36mDataFrame.__init__\u001b[1;34m(self, data, index, columns, dtype, copy)\u001b[0m\n\u001b[0;32m    720\u001b[0m         columns \u001b[38;5;241m=\u001b[39m ensure_index(columns)  \u001b[38;5;66;03m# type: ignore[arg-type]\u001b[39;00m\n\u001b[0;32m    721\u001b[0m     arrays, columns, index \u001b[38;5;241m=\u001b[39m nested_data_to_arrays(\n\u001b[0;32m    722\u001b[0m         \u001b[38;5;66;03m# error: Argument 3 to \"nested_data_to_arrays\" has incompatible\u001b[39;00m\n\u001b[0;32m    723\u001b[0m         \u001b[38;5;66;03m# type \"Optional[Collection[Any]]\"; expected \"Optional[Index]\"\u001b[39;00m\n\u001b[1;32m   (...)\u001b[0m\n\u001b[0;32m    727\u001b[0m         dtype,\n\u001b[0;32m    728\u001b[0m     )\n\u001b[1;32m--> 729\u001b[0m     mgr \u001b[38;5;241m=\u001b[39m \u001b[43marrays_to_mgr\u001b[49m\u001b[43m(\u001b[49m\n\u001b[0;32m    730\u001b[0m \u001b[43m        \u001b[49m\u001b[43marrays\u001b[49m\u001b[43m,\u001b[49m\n\u001b[0;32m    731\u001b[0m \u001b[43m        \u001b[49m\u001b[43mcolumns\u001b[49m\u001b[43m,\u001b[49m\n\u001b[0;32m    732\u001b[0m \u001b[43m        \u001b[49m\u001b[43mindex\u001b[49m\u001b[43m,\u001b[49m\n\u001b[0;32m    733\u001b[0m \u001b[43m        \u001b[49m\u001b[43mdtype\u001b[49m\u001b[38;5;241;43m=\u001b[39;49m\u001b[43mdtype\u001b[49m\u001b[43m,\u001b[49m\n\u001b[0;32m    734\u001b[0m \u001b[43m        \u001b[49m\u001b[43mtyp\u001b[49m\u001b[38;5;241;43m=\u001b[39;49m\u001b[43mmanager\u001b[49m\u001b[43m,\u001b[49m\n\u001b[0;32m    735\u001b[0m \u001b[43m    \u001b[49m\u001b[43m)\u001b[49m\n\u001b[0;32m    736\u001b[0m \u001b[38;5;28;01melse\u001b[39;00m:\n\u001b[0;32m    737\u001b[0m     mgr \u001b[38;5;241m=\u001b[39m ndarray_to_mgr(\n\u001b[0;32m    738\u001b[0m         data,\n\u001b[0;32m    739\u001b[0m         index,\n\u001b[1;32m   (...)\u001b[0m\n\u001b[0;32m    743\u001b[0m         typ\u001b[38;5;241m=\u001b[39mmanager,\n\u001b[0;32m    744\u001b[0m     )\n",
      "File \u001b[1;32m~\\AppData\\Local\\Programs\\Python\\Python310\\lib\\site-packages\\pandas\\core\\internals\\construction.py:125\u001b[0m, in \u001b[0;36marrays_to_mgr\u001b[1;34m(arrays, columns, index, dtype, verify_integrity, typ, consolidate)\u001b[0m\n\u001b[0;32m    122\u001b[0m         index \u001b[38;5;241m=\u001b[39m ensure_index(index)\n\u001b[0;32m    124\u001b[0m     \u001b[38;5;66;03m# don't force copy because getting jammed in an ndarray anyway\u001b[39;00m\n\u001b[1;32m--> 125\u001b[0m     arrays \u001b[38;5;241m=\u001b[39m \u001b[43m_homogenize\u001b[49m\u001b[43m(\u001b[49m\u001b[43marrays\u001b[49m\u001b[43m,\u001b[49m\u001b[43m \u001b[49m\u001b[43mindex\u001b[49m\u001b[43m,\u001b[49m\u001b[43m \u001b[49m\u001b[43mdtype\u001b[49m\u001b[43m)\u001b[49m\n\u001b[0;32m    126\u001b[0m     \u001b[38;5;66;03m# _homogenize ensures\u001b[39;00m\n\u001b[0;32m    127\u001b[0m     \u001b[38;5;66;03m#  - all(len(x) == len(index) for x in arrays)\u001b[39;00m\n\u001b[0;32m    128\u001b[0m     \u001b[38;5;66;03m#  - all(x.ndim == 1 for x in arrays)\u001b[39;00m\n\u001b[1;32m   (...)\u001b[0m\n\u001b[0;32m    131\u001b[0m \n\u001b[0;32m    132\u001b[0m \u001b[38;5;28;01melse\u001b[39;00m:\n\u001b[0;32m    133\u001b[0m     index \u001b[38;5;241m=\u001b[39m ensure_index(index)\n",
      "File \u001b[1;32m~\\AppData\\Local\\Programs\\Python\\Python310\\lib\\site-packages\\pandas\\core\\internals\\construction.py:628\u001b[0m, in \u001b[0;36m_homogenize\u001b[1;34m(data, index, dtype)\u001b[0m\n\u001b[0;32m    623\u001b[0m             val \u001b[38;5;241m=\u001b[39m lib\u001b[38;5;241m.\u001b[39mfast_multiget(val, oindex\u001b[38;5;241m.\u001b[39m_values, default\u001b[38;5;241m=\u001b[39mnp\u001b[38;5;241m.\u001b[39mnan)\n\u001b[0;32m    625\u001b[0m         val \u001b[38;5;241m=\u001b[39m sanitize_array(\n\u001b[0;32m    626\u001b[0m             val, index, dtype\u001b[38;5;241m=\u001b[39mdtype, copy\u001b[38;5;241m=\u001b[39m\u001b[38;5;28;01mFalse\u001b[39;00m, raise_cast_failure\u001b[38;5;241m=\u001b[39m\u001b[38;5;28;01mFalse\u001b[39;00m\n\u001b[0;32m    627\u001b[0m         )\n\u001b[1;32m--> 628\u001b[0m         \u001b[43mcom\u001b[49m\u001b[38;5;241;43m.\u001b[39;49m\u001b[43mrequire_length_match\u001b[49m\u001b[43m(\u001b[49m\u001b[43mval\u001b[49m\u001b[43m,\u001b[49m\u001b[43m \u001b[49m\u001b[43mindex\u001b[49m\u001b[43m)\u001b[49m\n\u001b[0;32m    630\u001b[0m     homogenized\u001b[38;5;241m.\u001b[39mappend(val)\n\u001b[0;32m    632\u001b[0m \u001b[38;5;28;01mreturn\u001b[39;00m homogenized\n",
      "File \u001b[1;32m~\\AppData\\Local\\Programs\\Python\\Python310\\lib\\site-packages\\pandas\\core\\common.py:557\u001b[0m, in \u001b[0;36mrequire_length_match\u001b[1;34m(data, index)\u001b[0m\n\u001b[0;32m    553\u001b[0m \u001b[38;5;124;03m\"\"\"\u001b[39;00m\n\u001b[0;32m    554\u001b[0m \u001b[38;5;124;03mCheck the length of data matches the length of the index.\u001b[39;00m\n\u001b[0;32m    555\u001b[0m \u001b[38;5;124;03m\"\"\"\u001b[39;00m\n\u001b[0;32m    556\u001b[0m \u001b[38;5;28;01mif\u001b[39;00m \u001b[38;5;28mlen\u001b[39m(data) \u001b[38;5;241m!=\u001b[39m \u001b[38;5;28mlen\u001b[39m(index):\n\u001b[1;32m--> 557\u001b[0m     \u001b[38;5;28;01mraise\u001b[39;00m \u001b[38;5;167;01mValueError\u001b[39;00m(\n\u001b[0;32m    558\u001b[0m         \u001b[38;5;124m\"\u001b[39m\u001b[38;5;124mLength of values \u001b[39m\u001b[38;5;124m\"\u001b[39m\n\u001b[0;32m    559\u001b[0m         \u001b[38;5;124mf\u001b[39m\u001b[38;5;124m\"\u001b[39m\u001b[38;5;124m(\u001b[39m\u001b[38;5;132;01m{\u001b[39;00m\u001b[38;5;28mlen\u001b[39m(data)\u001b[38;5;132;01m}\u001b[39;00m\u001b[38;5;124m) \u001b[39m\u001b[38;5;124m\"\u001b[39m\n\u001b[0;32m    560\u001b[0m         \u001b[38;5;124m\"\u001b[39m\u001b[38;5;124mdoes not match length of index \u001b[39m\u001b[38;5;124m\"\u001b[39m\n\u001b[0;32m    561\u001b[0m         \u001b[38;5;124mf\u001b[39m\u001b[38;5;124m\"\u001b[39m\u001b[38;5;124m(\u001b[39m\u001b[38;5;132;01m{\u001b[39;00m\u001b[38;5;28mlen\u001b[39m(index)\u001b[38;5;132;01m}\u001b[39;00m\u001b[38;5;124m)\u001b[39m\u001b[38;5;124m\"\u001b[39m\n\u001b[0;32m    562\u001b[0m     )\n",
      "\u001b[1;31mValueError\u001b[0m: Length of values (5971968) does not match length of index (78540)"
     ]
    }
   ],
   "source": [
    "all_prime_times = []\n",
    "prime_times = np.zeros_like(max_prime_times)\n",
    "all_prime_times.append(\n",
    "    (0, prime_times.copy())\n",
    ")\n",
    "for number in range(1,np.product(max_prime_times + 1)): #need to +1 to the product because 0 is an option as well.\n",
    "    increment_prime_times(prime_times)\n",
    "    all_prime_times.append(\n",
    "        (number, prime_times.copy())\n",
    "    )\n",
    "    \n",
    "data = [\n",
    "    (all_prime_time[1], np.matmul(all_prime_time[1], primes15))\n",
    "    for all_prime_time in all_prime_times\n",
    "]"
   ]
  },
  {
   "cell_type": "code",
   "execution_count": 326,
   "id": "8f12f944-a7f9-4b72-8f88-d6c3c51c7374",
   "metadata": {},
   "outputs": [],
   "source": [
    "\n",
    "df = pd.DataFrame(data, columns = ['prime_multiples', 'sum'], index = range(np.product(max_prime_times+1)))"
   ]
  },
  {
   "cell_type": "code",
   "execution_count": 327,
   "id": "5d905ff8-713a-45fc-be3c-dcf5c76a7a11",
   "metadata": {},
   "outputs": [
    {
     "data": {
      "text/html": [
       "<div>\n",
       "<style scoped>\n",
       "    .dataframe tbody tr th:only-of-type {\n",
       "        vertical-align: middle;\n",
       "    }\n",
       "\n",
       "    .dataframe tbody tr th {\n",
       "        vertical-align: top;\n",
       "    }\n",
       "\n",
       "    .dataframe thead th {\n",
       "        text-align: right;\n",
       "    }\n",
       "</style>\n",
       "<table border=\"1\" class=\"dataframe\">\n",
       "  <thead>\n",
       "    <tr style=\"text-align: right;\">\n",
       "      <th></th>\n",
       "      <th>prime_multiples</th>\n",
       "      <th>sum</th>\n",
       "    </tr>\n",
       "  </thead>\n",
       "  <tbody>\n",
       "    <tr>\n",
       "      <th>0</th>\n",
       "      <td>[0, 0, 0, 0, 0, 0, 0, 0, 0, 0, 0]</td>\n",
       "      <td>0</td>\n",
       "    </tr>\n",
       "    <tr>\n",
       "      <th>1</th>\n",
       "      <td>[1, 0, 0, 0, 0, 0, 0, 0, 0, 0, 0]</td>\n",
       "      <td>2</td>\n",
       "    </tr>\n",
       "    <tr>\n",
       "      <th>2</th>\n",
       "      <td>[2, 0, 0, 0, 0, 0, 0, 0, 0, 0, 0]</td>\n",
       "      <td>4</td>\n",
       "    </tr>\n",
       "    <tr>\n",
       "      <th>3</th>\n",
       "      <td>[3, 0, 0, 0, 0, 0, 0, 0, 0, 0, 0]</td>\n",
       "      <td>6</td>\n",
       "    </tr>\n",
       "    <tr>\n",
       "      <th>4</th>\n",
       "      <td>[4, 0, 0, 0, 0, 0, 0, 0, 0, 0, 0]</td>\n",
       "      <td>8</td>\n",
       "    </tr>\n",
       "  </tbody>\n",
       "</table>\n",
       "</div>"
      ],
      "text/plain": [
       "                     prime_multiples  sum\n",
       "0  [0, 0, 0, 0, 0, 0, 0, 0, 0, 0, 0]    0\n",
       "1  [1, 0, 0, 0, 0, 0, 0, 0, 0, 0, 0]    2\n",
       "2  [2, 0, 0, 0, 0, 0, 0, 0, 0, 0, 0]    4\n",
       "3  [3, 0, 0, 0, 0, 0, 0, 0, 0, 0, 0]    6\n",
       "4  [4, 0, 0, 0, 0, 0, 0, 0, 0, 0, 0]    8"
      ]
     },
     "execution_count": 327,
     "metadata": {},
     "output_type": "execute_result"
    }
   ],
   "source": [
    "df.head()"
   ]
  },
  {
   "cell_type": "code",
   "execution_count": 328,
   "id": "e1340515-1836-4bc3-8bab-4e70a580bcc1",
   "metadata": {},
   "outputs": [
    {
     "data": {
      "text/html": [
       "<div>\n",
       "<style scoped>\n",
       "    .dataframe tbody tr th:only-of-type {\n",
       "        vertical-align: middle;\n",
       "    }\n",
       "\n",
       "    .dataframe tbody tr th {\n",
       "        vertical-align: top;\n",
       "    }\n",
       "\n",
       "    .dataframe thead th {\n",
       "        text-align: right;\n",
       "    }\n",
       "</style>\n",
       "<table border=\"1\" class=\"dataframe\">\n",
       "  <thead>\n",
       "    <tr style=\"text-align: right;\">\n",
       "      <th></th>\n",
       "      <th>prime_multiples</th>\n",
       "      <th>sum</th>\n",
       "    </tr>\n",
       "  </thead>\n",
       "  <tbody>\n",
       "    <tr>\n",
       "      <th>5971908</th>\n",
       "      <td>[12, 8, 7, 5, 3, 2, 2, 1, 1, 1, 1]</td>\n",
       "      <td>313</td>\n",
       "    </tr>\n",
       "    <tr>\n",
       "      <th>5971909</th>\n",
       "      <td>[13, 8, 7, 5, 3, 2, 2, 1, 1, 1, 1]</td>\n",
       "      <td>315</td>\n",
       "    </tr>\n",
       "    <tr>\n",
       "      <th>5971910</th>\n",
       "      <td>[14, 8, 7, 5, 3, 2, 2, 1, 1, 1, 1]</td>\n",
       "      <td>317</td>\n",
       "    </tr>\n",
       "    <tr>\n",
       "      <th>5971911</th>\n",
       "      <td>[15, 8, 7, 5, 3, 2, 2, 1, 1, 1, 1]</td>\n",
       "      <td>319</td>\n",
       "    </tr>\n",
       "    <tr>\n",
       "      <th>5971912</th>\n",
       "      <td>[16, 8, 7, 5, 3, 2, 2, 1, 1, 1, 1]</td>\n",
       "      <td>321</td>\n",
       "    </tr>\n",
       "    <tr>\n",
       "      <th>5971913</th>\n",
       "      <td>[17, 8, 7, 5, 3, 2, 2, 1, 1, 1, 1]</td>\n",
       "      <td>323</td>\n",
       "    </tr>\n",
       "    <tr>\n",
       "      <th>5971914</th>\n",
       "      <td>[0, 9, 7, 5, 3, 2, 2, 1, 1, 1, 1]</td>\n",
       "      <td>292</td>\n",
       "    </tr>\n",
       "    <tr>\n",
       "      <th>5971915</th>\n",
       "      <td>[1, 9, 7, 5, 3, 2, 2, 1, 1, 1, 1]</td>\n",
       "      <td>294</td>\n",
       "    </tr>\n",
       "    <tr>\n",
       "      <th>5971916</th>\n",
       "      <td>[2, 9, 7, 5, 3, 2, 2, 1, 1, 1, 1]</td>\n",
       "      <td>296</td>\n",
       "    </tr>\n",
       "    <tr>\n",
       "      <th>5971917</th>\n",
       "      <td>[3, 9, 7, 5, 3, 2, 2, 1, 1, 1, 1]</td>\n",
       "      <td>298</td>\n",
       "    </tr>\n",
       "    <tr>\n",
       "      <th>5971918</th>\n",
       "      <td>[4, 9, 7, 5, 3, 2, 2, 1, 1, 1, 1]</td>\n",
       "      <td>300</td>\n",
       "    </tr>\n",
       "    <tr>\n",
       "      <th>5971919</th>\n",
       "      <td>[5, 9, 7, 5, 3, 2, 2, 1, 1, 1, 1]</td>\n",
       "      <td>302</td>\n",
       "    </tr>\n",
       "    <tr>\n",
       "      <th>5971920</th>\n",
       "      <td>[6, 9, 7, 5, 3, 2, 2, 1, 1, 1, 1]</td>\n",
       "      <td>304</td>\n",
       "    </tr>\n",
       "    <tr>\n",
       "      <th>5971921</th>\n",
       "      <td>[7, 9, 7, 5, 3, 2, 2, 1, 1, 1, 1]</td>\n",
       "      <td>306</td>\n",
       "    </tr>\n",
       "    <tr>\n",
       "      <th>5971922</th>\n",
       "      <td>[8, 9, 7, 5, 3, 2, 2, 1, 1, 1, 1]</td>\n",
       "      <td>308</td>\n",
       "    </tr>\n",
       "    <tr>\n",
       "      <th>5971923</th>\n",
       "      <td>[9, 9, 7, 5, 3, 2, 2, 1, 1, 1, 1]</td>\n",
       "      <td>310</td>\n",
       "    </tr>\n",
       "    <tr>\n",
       "      <th>5971924</th>\n",
       "      <td>[10, 9, 7, 5, 3, 2, 2, 1, 1, 1, 1]</td>\n",
       "      <td>312</td>\n",
       "    </tr>\n",
       "    <tr>\n",
       "      <th>5971925</th>\n",
       "      <td>[11, 9, 7, 5, 3, 2, 2, 1, 1, 1, 1]</td>\n",
       "      <td>314</td>\n",
       "    </tr>\n",
       "    <tr>\n",
       "      <th>5971926</th>\n",
       "      <td>[12, 9, 7, 5, 3, 2, 2, 1, 1, 1, 1]</td>\n",
       "      <td>316</td>\n",
       "    </tr>\n",
       "    <tr>\n",
       "      <th>5971927</th>\n",
       "      <td>[13, 9, 7, 5, 3, 2, 2, 1, 1, 1, 1]</td>\n",
       "      <td>318</td>\n",
       "    </tr>\n",
       "    <tr>\n",
       "      <th>5971928</th>\n",
       "      <td>[14, 9, 7, 5, 3, 2, 2, 1, 1, 1, 1]</td>\n",
       "      <td>320</td>\n",
       "    </tr>\n",
       "    <tr>\n",
       "      <th>5971929</th>\n",
       "      <td>[15, 9, 7, 5, 3, 2, 2, 1, 1, 1, 1]</td>\n",
       "      <td>322</td>\n",
       "    </tr>\n",
       "    <tr>\n",
       "      <th>5971930</th>\n",
       "      <td>[16, 9, 7, 5, 3, 2, 2, 1, 1, 1, 1]</td>\n",
       "      <td>324</td>\n",
       "    </tr>\n",
       "    <tr>\n",
       "      <th>5971931</th>\n",
       "      <td>[17, 9, 7, 5, 3, 2, 2, 1, 1, 1, 1]</td>\n",
       "      <td>326</td>\n",
       "    </tr>\n",
       "    <tr>\n",
       "      <th>5971932</th>\n",
       "      <td>[0, 10, 7, 5, 3, 2, 2, 1, 1, 1, 1]</td>\n",
       "      <td>295</td>\n",
       "    </tr>\n",
       "    <tr>\n",
       "      <th>5971933</th>\n",
       "      <td>[1, 10, 7, 5, 3, 2, 2, 1, 1, 1, 1]</td>\n",
       "      <td>297</td>\n",
       "    </tr>\n",
       "    <tr>\n",
       "      <th>5971934</th>\n",
       "      <td>[2, 10, 7, 5, 3, 2, 2, 1, 1, 1, 1]</td>\n",
       "      <td>299</td>\n",
       "    </tr>\n",
       "    <tr>\n",
       "      <th>5971935</th>\n",
       "      <td>[3, 10, 7, 5, 3, 2, 2, 1, 1, 1, 1]</td>\n",
       "      <td>301</td>\n",
       "    </tr>\n",
       "    <tr>\n",
       "      <th>5971936</th>\n",
       "      <td>[4, 10, 7, 5, 3, 2, 2, 1, 1, 1, 1]</td>\n",
       "      <td>303</td>\n",
       "    </tr>\n",
       "    <tr>\n",
       "      <th>5971937</th>\n",
       "      <td>[5, 10, 7, 5, 3, 2, 2, 1, 1, 1, 1]</td>\n",
       "      <td>305</td>\n",
       "    </tr>\n",
       "    <tr>\n",
       "      <th>5971938</th>\n",
       "      <td>[6, 10, 7, 5, 3, 2, 2, 1, 1, 1, 1]</td>\n",
       "      <td>307</td>\n",
       "    </tr>\n",
       "    <tr>\n",
       "      <th>5971939</th>\n",
       "      <td>[7, 10, 7, 5, 3, 2, 2, 1, 1, 1, 1]</td>\n",
       "      <td>309</td>\n",
       "    </tr>\n",
       "    <tr>\n",
       "      <th>5971940</th>\n",
       "      <td>[8, 10, 7, 5, 3, 2, 2, 1, 1, 1, 1]</td>\n",
       "      <td>311</td>\n",
       "    </tr>\n",
       "    <tr>\n",
       "      <th>5971941</th>\n",
       "      <td>[9, 10, 7, 5, 3, 2, 2, 1, 1, 1, 1]</td>\n",
       "      <td>313</td>\n",
       "    </tr>\n",
       "    <tr>\n",
       "      <th>5971942</th>\n",
       "      <td>[10, 10, 7, 5, 3, 2, 2, 1, 1, 1, 1]</td>\n",
       "      <td>315</td>\n",
       "    </tr>\n",
       "    <tr>\n",
       "      <th>5971943</th>\n",
       "      <td>[11, 10, 7, 5, 3, 2, 2, 1, 1, 1, 1]</td>\n",
       "      <td>317</td>\n",
       "    </tr>\n",
       "    <tr>\n",
       "      <th>5971944</th>\n",
       "      <td>[12, 10, 7, 5, 3, 2, 2, 1, 1, 1, 1]</td>\n",
       "      <td>319</td>\n",
       "    </tr>\n",
       "    <tr>\n",
       "      <th>5971945</th>\n",
       "      <td>[13, 10, 7, 5, 3, 2, 2, 1, 1, 1, 1]</td>\n",
       "      <td>321</td>\n",
       "    </tr>\n",
       "    <tr>\n",
       "      <th>5971946</th>\n",
       "      <td>[14, 10, 7, 5, 3, 2, 2, 1, 1, 1, 1]</td>\n",
       "      <td>323</td>\n",
       "    </tr>\n",
       "    <tr>\n",
       "      <th>5971947</th>\n",
       "      <td>[15, 10, 7, 5, 3, 2, 2, 1, 1, 1, 1]</td>\n",
       "      <td>325</td>\n",
       "    </tr>\n",
       "    <tr>\n",
       "      <th>5971948</th>\n",
       "      <td>[16, 10, 7, 5, 3, 2, 2, 1, 1, 1, 1]</td>\n",
       "      <td>327</td>\n",
       "    </tr>\n",
       "    <tr>\n",
       "      <th>5971949</th>\n",
       "      <td>[17, 10, 7, 5, 3, 2, 2, 1, 1, 1, 1]</td>\n",
       "      <td>329</td>\n",
       "    </tr>\n",
       "    <tr>\n",
       "      <th>5971950</th>\n",
       "      <td>[0, 11, 7, 5, 3, 2, 2, 1, 1, 1, 1]</td>\n",
       "      <td>298</td>\n",
       "    </tr>\n",
       "    <tr>\n",
       "      <th>5971951</th>\n",
       "      <td>[1, 11, 7, 5, 3, 2, 2, 1, 1, 1, 1]</td>\n",
       "      <td>300</td>\n",
       "    </tr>\n",
       "    <tr>\n",
       "      <th>5971952</th>\n",
       "      <td>[2, 11, 7, 5, 3, 2, 2, 1, 1, 1, 1]</td>\n",
       "      <td>302</td>\n",
       "    </tr>\n",
       "    <tr>\n",
       "      <th>5971953</th>\n",
       "      <td>[3, 11, 7, 5, 3, 2, 2, 1, 1, 1, 1]</td>\n",
       "      <td>304</td>\n",
       "    </tr>\n",
       "    <tr>\n",
       "      <th>5971954</th>\n",
       "      <td>[4, 11, 7, 5, 3, 2, 2, 1, 1, 1, 1]</td>\n",
       "      <td>306</td>\n",
       "    </tr>\n",
       "    <tr>\n",
       "      <th>5971955</th>\n",
       "      <td>[5, 11, 7, 5, 3, 2, 2, 1, 1, 1, 1]</td>\n",
       "      <td>308</td>\n",
       "    </tr>\n",
       "    <tr>\n",
       "      <th>5971956</th>\n",
       "      <td>[6, 11, 7, 5, 3, 2, 2, 1, 1, 1, 1]</td>\n",
       "      <td>310</td>\n",
       "    </tr>\n",
       "    <tr>\n",
       "      <th>5971957</th>\n",
       "      <td>[7, 11, 7, 5, 3, 2, 2, 1, 1, 1, 1]</td>\n",
       "      <td>312</td>\n",
       "    </tr>\n",
       "    <tr>\n",
       "      <th>5971958</th>\n",
       "      <td>[8, 11, 7, 5, 3, 2, 2, 1, 1, 1, 1]</td>\n",
       "      <td>314</td>\n",
       "    </tr>\n",
       "    <tr>\n",
       "      <th>5971959</th>\n",
       "      <td>[9, 11, 7, 5, 3, 2, 2, 1, 1, 1, 1]</td>\n",
       "      <td>316</td>\n",
       "    </tr>\n",
       "    <tr>\n",
       "      <th>5971960</th>\n",
       "      <td>[10, 11, 7, 5, 3, 2, 2, 1, 1, 1, 1]</td>\n",
       "      <td>318</td>\n",
       "    </tr>\n",
       "    <tr>\n",
       "      <th>5971961</th>\n",
       "      <td>[11, 11, 7, 5, 3, 2, 2, 1, 1, 1, 1]</td>\n",
       "      <td>320</td>\n",
       "    </tr>\n",
       "    <tr>\n",
       "      <th>5971962</th>\n",
       "      <td>[12, 11, 7, 5, 3, 2, 2, 1, 1, 1, 1]</td>\n",
       "      <td>322</td>\n",
       "    </tr>\n",
       "    <tr>\n",
       "      <th>5971963</th>\n",
       "      <td>[13, 11, 7, 5, 3, 2, 2, 1, 1, 1, 1]</td>\n",
       "      <td>324</td>\n",
       "    </tr>\n",
       "    <tr>\n",
       "      <th>5971964</th>\n",
       "      <td>[14, 11, 7, 5, 3, 2, 2, 1, 1, 1, 1]</td>\n",
       "      <td>326</td>\n",
       "    </tr>\n",
       "    <tr>\n",
       "      <th>5971965</th>\n",
       "      <td>[15, 11, 7, 5, 3, 2, 2, 1, 1, 1, 1]</td>\n",
       "      <td>328</td>\n",
       "    </tr>\n",
       "    <tr>\n",
       "      <th>5971966</th>\n",
       "      <td>[16, 11, 7, 5, 3, 2, 2, 1, 1, 1, 1]</td>\n",
       "      <td>330</td>\n",
       "    </tr>\n",
       "    <tr>\n",
       "      <th>5971967</th>\n",
       "      <td>[17, 11, 7, 5, 3, 2, 2, 1, 1, 1, 1]</td>\n",
       "      <td>332</td>\n",
       "    </tr>\n",
       "  </tbody>\n",
       "</table>\n",
       "</div>"
      ],
      "text/plain": [
       "                             prime_multiples  sum\n",
       "5971908   [12, 8, 7, 5, 3, 2, 2, 1, 1, 1, 1]  313\n",
       "5971909   [13, 8, 7, 5, 3, 2, 2, 1, 1, 1, 1]  315\n",
       "5971910   [14, 8, 7, 5, 3, 2, 2, 1, 1, 1, 1]  317\n",
       "5971911   [15, 8, 7, 5, 3, 2, 2, 1, 1, 1, 1]  319\n",
       "5971912   [16, 8, 7, 5, 3, 2, 2, 1, 1, 1, 1]  321\n",
       "5971913   [17, 8, 7, 5, 3, 2, 2, 1, 1, 1, 1]  323\n",
       "5971914    [0, 9, 7, 5, 3, 2, 2, 1, 1, 1, 1]  292\n",
       "5971915    [1, 9, 7, 5, 3, 2, 2, 1, 1, 1, 1]  294\n",
       "5971916    [2, 9, 7, 5, 3, 2, 2, 1, 1, 1, 1]  296\n",
       "5971917    [3, 9, 7, 5, 3, 2, 2, 1, 1, 1, 1]  298\n",
       "5971918    [4, 9, 7, 5, 3, 2, 2, 1, 1, 1, 1]  300\n",
       "5971919    [5, 9, 7, 5, 3, 2, 2, 1, 1, 1, 1]  302\n",
       "5971920    [6, 9, 7, 5, 3, 2, 2, 1, 1, 1, 1]  304\n",
       "5971921    [7, 9, 7, 5, 3, 2, 2, 1, 1, 1, 1]  306\n",
       "5971922    [8, 9, 7, 5, 3, 2, 2, 1, 1, 1, 1]  308\n",
       "5971923    [9, 9, 7, 5, 3, 2, 2, 1, 1, 1, 1]  310\n",
       "5971924   [10, 9, 7, 5, 3, 2, 2, 1, 1, 1, 1]  312\n",
       "5971925   [11, 9, 7, 5, 3, 2, 2, 1, 1, 1, 1]  314\n",
       "5971926   [12, 9, 7, 5, 3, 2, 2, 1, 1, 1, 1]  316\n",
       "5971927   [13, 9, 7, 5, 3, 2, 2, 1, 1, 1, 1]  318\n",
       "5971928   [14, 9, 7, 5, 3, 2, 2, 1, 1, 1, 1]  320\n",
       "5971929   [15, 9, 7, 5, 3, 2, 2, 1, 1, 1, 1]  322\n",
       "5971930   [16, 9, 7, 5, 3, 2, 2, 1, 1, 1, 1]  324\n",
       "5971931   [17, 9, 7, 5, 3, 2, 2, 1, 1, 1, 1]  326\n",
       "5971932   [0, 10, 7, 5, 3, 2, 2, 1, 1, 1, 1]  295\n",
       "5971933   [1, 10, 7, 5, 3, 2, 2, 1, 1, 1, 1]  297\n",
       "5971934   [2, 10, 7, 5, 3, 2, 2, 1, 1, 1, 1]  299\n",
       "5971935   [3, 10, 7, 5, 3, 2, 2, 1, 1, 1, 1]  301\n",
       "5971936   [4, 10, 7, 5, 3, 2, 2, 1, 1, 1, 1]  303\n",
       "5971937   [5, 10, 7, 5, 3, 2, 2, 1, 1, 1, 1]  305\n",
       "5971938   [6, 10, 7, 5, 3, 2, 2, 1, 1, 1, 1]  307\n",
       "5971939   [7, 10, 7, 5, 3, 2, 2, 1, 1, 1, 1]  309\n",
       "5971940   [8, 10, 7, 5, 3, 2, 2, 1, 1, 1, 1]  311\n",
       "5971941   [9, 10, 7, 5, 3, 2, 2, 1, 1, 1, 1]  313\n",
       "5971942  [10, 10, 7, 5, 3, 2, 2, 1, 1, 1, 1]  315\n",
       "5971943  [11, 10, 7, 5, 3, 2, 2, 1, 1, 1, 1]  317\n",
       "5971944  [12, 10, 7, 5, 3, 2, 2, 1, 1, 1, 1]  319\n",
       "5971945  [13, 10, 7, 5, 3, 2, 2, 1, 1, 1, 1]  321\n",
       "5971946  [14, 10, 7, 5, 3, 2, 2, 1, 1, 1, 1]  323\n",
       "5971947  [15, 10, 7, 5, 3, 2, 2, 1, 1, 1, 1]  325\n",
       "5971948  [16, 10, 7, 5, 3, 2, 2, 1, 1, 1, 1]  327\n",
       "5971949  [17, 10, 7, 5, 3, 2, 2, 1, 1, 1, 1]  329\n",
       "5971950   [0, 11, 7, 5, 3, 2, 2, 1, 1, 1, 1]  298\n",
       "5971951   [1, 11, 7, 5, 3, 2, 2, 1, 1, 1, 1]  300\n",
       "5971952   [2, 11, 7, 5, 3, 2, 2, 1, 1, 1, 1]  302\n",
       "5971953   [3, 11, 7, 5, 3, 2, 2, 1, 1, 1, 1]  304\n",
       "5971954   [4, 11, 7, 5, 3, 2, 2, 1, 1, 1, 1]  306\n",
       "5971955   [5, 11, 7, 5, 3, 2, 2, 1, 1, 1, 1]  308\n",
       "5971956   [6, 11, 7, 5, 3, 2, 2, 1, 1, 1, 1]  310\n",
       "5971957   [7, 11, 7, 5, 3, 2, 2, 1, 1, 1, 1]  312\n",
       "5971958   [8, 11, 7, 5, 3, 2, 2, 1, 1, 1, 1]  314\n",
       "5971959   [9, 11, 7, 5, 3, 2, 2, 1, 1, 1, 1]  316\n",
       "5971960  [10, 11, 7, 5, 3, 2, 2, 1, 1, 1, 1]  318\n",
       "5971961  [11, 11, 7, 5, 3, 2, 2, 1, 1, 1, 1]  320\n",
       "5971962  [12, 11, 7, 5, 3, 2, 2, 1, 1, 1, 1]  322\n",
       "5971963  [13, 11, 7, 5, 3, 2, 2, 1, 1, 1, 1]  324\n",
       "5971964  [14, 11, 7, 5, 3, 2, 2, 1, 1, 1, 1]  326\n",
       "5971965  [15, 11, 7, 5, 3, 2, 2, 1, 1, 1, 1]  328\n",
       "5971966  [16, 11, 7, 5, 3, 2, 2, 1, 1, 1, 1]  330\n",
       "5971967  [17, 11, 7, 5, 3, 2, 2, 1, 1, 1, 1]  332"
      ]
     },
     "execution_count": 328,
     "metadata": {},
     "output_type": "execute_result"
    }
   ],
   "source": [
    "df.tail(60)"
   ]
  },
  {
   "cell_type": "code",
   "execution_count": 329,
   "id": "45812d7c-5b97-40f5-ba47-a8d4ea222e6c",
   "metadata": {},
   "outputs": [
    {
     "data": {
      "text/plain": [
       "166    57960\n",
       "167    57944\n",
       "165    57944\n",
       "164    57895\n",
       "168    57895\n",
       "       ...  \n",
       "0          1\n",
       "2          1\n",
       "3          1\n",
       "4          1\n",
       "332        1\n",
       "Name: sum, Length: 331, dtype: int64"
      ]
     },
     "execution_count": 329,
     "metadata": {},
     "output_type": "execute_result"
    }
   ],
   "source": [
    "df['sum'].value_counts()"
   ]
  },
  {
   "cell_type": "code",
   "execution_count": 338,
   "id": "a7ed916a-30c9-4f66-9317-7af052cd993b",
   "metadata": {},
   "outputs": [
    {
     "data": {
      "text/plain": [
       "77     5223\n",
       "255    5223\n",
       "Name: sum, dtype: int64"
      ]
     },
     "execution_count": 338,
     "metadata": {},
     "output_type": "execute_result"
    }
   ],
   "source": [
    "dfvcs = df['sum'].value_counts()\n",
    "dfvcsind = dfvcs.index\n",
    "dfvcsmask = (dfvcs > 5000) & (dfvcs < 5500)\n",
    "dfvcs[dfvcsmask]"
   ]
  },
  {
   "cell_type": "code",
   "execution_count": 340,
   "id": "0a35e162-97d7-44a2-8487-a27d2e16a408",
   "metadata": {},
   "outputs": [
    {
     "data": {
      "text/html": [
       "<div>\n",
       "<style scoped>\n",
       "    .dataframe tbody tr th:only-of-type {\n",
       "        vertical-align: middle;\n",
       "    }\n",
       "\n",
       "    .dataframe tbody tr th {\n",
       "        vertical-align: top;\n",
       "    }\n",
       "\n",
       "    .dataframe thead th {\n",
       "        text-align: right;\n",
       "    }\n",
       "</style>\n",
       "<table border=\"1\" class=\"dataframe\">\n",
       "  <thead>\n",
       "    <tr style=\"text-align: right;\">\n",
       "      <th></th>\n",
       "      <th>prime_multiples</th>\n",
       "      <th>sum</th>\n",
       "    </tr>\n",
       "  </thead>\n",
       "  <tbody>\n",
       "    <tr>\n",
       "      <th>647</th>\n",
       "      <td>[17, 11, 2, 0, 0, 0, 0, 0, 0, 0, 0]</td>\n",
       "      <td>77</td>\n",
       "    </tr>\n",
       "    <tr>\n",
       "      <th>844</th>\n",
       "      <td>[16, 10, 3, 0, 0, 0, 0, 0, 0, 0, 0]</td>\n",
       "      <td>77</td>\n",
       "    </tr>\n",
       "    <tr>\n",
       "      <th>1041</th>\n",
       "      <td>[15, 9, 4, 0, 0, 0, 0, 0, 0, 0, 0]</td>\n",
       "      <td>77</td>\n",
       "    </tr>\n",
       "    <tr>\n",
       "      <th>1074</th>\n",
       "      <td>[12, 11, 4, 0, 0, 0, 0, 0, 0, 0, 0]</td>\n",
       "      <td>77</td>\n",
       "    </tr>\n",
       "    <tr>\n",
       "      <th>1205</th>\n",
       "      <td>[17, 6, 5, 0, 0, 0, 0, 0, 0, 0, 0]</td>\n",
       "      <td>77</td>\n",
       "    </tr>\n",
       "    <tr>\n",
       "      <th>...</th>\n",
       "      <td>...</td>\n",
       "      <td>...</td>\n",
       "    </tr>\n",
       "    <tr>\n",
       "      <th>4482450</th>\n",
       "      <td>[0, 1, 0, 2, 0, 0, 0, 0, 0, 1, 1]</td>\n",
       "      <td>77</td>\n",
       "    </tr>\n",
       "    <tr>\n",
       "      <th>4489347</th>\n",
       "      <td>[3, 0, 0, 0, 1, 0, 0, 0, 0, 1, 1]</td>\n",
       "      <td>77</td>\n",
       "    </tr>\n",
       "    <tr>\n",
       "      <th>4489380</th>\n",
       "      <td>[0, 2, 0, 0, 1, 0, 0, 0, 0, 1, 1]</td>\n",
       "      <td>77</td>\n",
       "    </tr>\n",
       "    <tr>\n",
       "      <th>4520450</th>\n",
       "      <td>[2, 0, 0, 0, 0, 1, 0, 0, 0, 1, 1]</td>\n",
       "      <td>77</td>\n",
       "    </tr>\n",
       "    <tr>\n",
       "      <th>4603392</th>\n",
       "      <td>[0, 0, 0, 0, 0, 0, 1, 0, 0, 1, 1]</td>\n",
       "      <td>77</td>\n",
       "    </tr>\n",
       "  </tbody>\n",
       "</table>\n",
       "<p>5223 rows × 2 columns</p>\n",
       "</div>"
      ],
      "text/plain": [
       "                             prime_multiples  sum\n",
       "647      [17, 11, 2, 0, 0, 0, 0, 0, 0, 0, 0]   77\n",
       "844      [16, 10, 3, 0, 0, 0, 0, 0, 0, 0, 0]   77\n",
       "1041      [15, 9, 4, 0, 0, 0, 0, 0, 0, 0, 0]   77\n",
       "1074     [12, 11, 4, 0, 0, 0, 0, 0, 0, 0, 0]   77\n",
       "1205      [17, 6, 5, 0, 0, 0, 0, 0, 0, 0, 0]   77\n",
       "...                                      ...  ...\n",
       "4482450    [0, 1, 0, 2, 0, 0, 0, 0, 0, 1, 1]   77\n",
       "4489347    [3, 0, 0, 0, 1, 0, 0, 0, 0, 1, 1]   77\n",
       "4489380    [0, 2, 0, 0, 1, 0, 0, 0, 0, 1, 1]   77\n",
       "4520450    [2, 0, 0, 0, 0, 1, 0, 0, 0, 1, 1]   77\n",
       "4603392    [0, 0, 0, 0, 0, 0, 1, 0, 0, 1, 1]   77\n",
       "\n",
       "[5223 rows x 2 columns]"
      ]
     },
     "execution_count": 340,
     "metadata": {},
     "output_type": "execute_result"
    }
   ],
   "source": [
    "df[df['sum'] == 77]"
   ]
  },
  {
   "cell_type": "code",
   "execution_count": 343,
   "id": "6627ed69-b596-433b-85b0-8f991af99163",
   "metadata": {},
   "outputs": [
    {
     "data": {
      "text/html": [
       "<div>\n",
       "<style scoped>\n",
       "    .dataframe tbody tr th:only-of-type {\n",
       "        vertical-align: middle;\n",
       "    }\n",
       "\n",
       "    .dataframe tbody tr th {\n",
       "        vertical-align: top;\n",
       "    }\n",
       "\n",
       "    .dataframe thead th {\n",
       "        text-align: right;\n",
       "    }\n",
       "</style>\n",
       "<table border=\"1\" class=\"dataframe\">\n",
       "  <thead>\n",
       "    <tr style=\"text-align: right;\">\n",
       "      <th></th>\n",
       "      <th>prime_multiples</th>\n",
       "      <th>sum</th>\n",
       "    </tr>\n",
       "  </thead>\n",
       "  <tbody>\n",
       "    <tr>\n",
       "      <th>0</th>\n",
       "      <td>[0, 0, 0, 0, 0, 0, 0, 0, 0, 0, 0]</td>\n",
       "      <td>0</td>\n",
       "    </tr>\n",
       "    <tr>\n",
       "      <th>1</th>\n",
       "      <td>[1, 0, 0, 0, 0, 0, 0, 0, 0, 0, 0]</td>\n",
       "      <td>2</td>\n",
       "    </tr>\n",
       "    <tr>\n",
       "      <th>2</th>\n",
       "      <td>[2, 0, 0, 0, 0, 0, 0, 0, 0, 0, 0]</td>\n",
       "      <td>4</td>\n",
       "    </tr>\n",
       "    <tr>\n",
       "      <th>3</th>\n",
       "      <td>[3, 0, 0, 0, 0, 0, 0, 0, 0, 0, 0]</td>\n",
       "      <td>6</td>\n",
       "    </tr>\n",
       "    <tr>\n",
       "      <th>4</th>\n",
       "      <td>[4, 0, 0, 0, 0, 0, 0, 0, 0, 0, 0]</td>\n",
       "      <td>8</td>\n",
       "    </tr>\n",
       "    <tr>\n",
       "      <th>...</th>\n",
       "      <td>...</td>\n",
       "      <td>...</td>\n",
       "    </tr>\n",
       "    <tr>\n",
       "      <th>1493208</th>\n",
       "      <td>[0, 0, 1, 0, 0, 0, 0, 0, 0, 1, 0]</td>\n",
       "      <td>34</td>\n",
       "    </tr>\n",
       "    <tr>\n",
       "      <th>2985984</th>\n",
       "      <td>[0, 0, 0, 0, 0, 0, 0, 0, 0, 0, 1]</td>\n",
       "      <td>31</td>\n",
       "    </tr>\n",
       "    <tr>\n",
       "      <th>2985985</th>\n",
       "      <td>[1, 0, 0, 0, 0, 0, 0, 0, 0, 0, 1]</td>\n",
       "      <td>33</td>\n",
       "    </tr>\n",
       "    <tr>\n",
       "      <th>2985986</th>\n",
       "      <td>[2, 0, 0, 0, 0, 0, 0, 0, 0, 0, 1]</td>\n",
       "      <td>35</td>\n",
       "    </tr>\n",
       "    <tr>\n",
       "      <th>2986002</th>\n",
       "      <td>[0, 1, 0, 0, 0, 0, 0, 0, 0, 0, 1]</td>\n",
       "      <td>34</td>\n",
       "    </tr>\n",
       "  </tbody>\n",
       "</table>\n",
       "<p>1465 rows × 2 columns</p>\n",
       "</div>"
      ],
      "text/plain": [
       "                           prime_multiples  sum\n",
       "0        [0, 0, 0, 0, 0, 0, 0, 0, 0, 0, 0]    0\n",
       "1        [1, 0, 0, 0, 0, 0, 0, 0, 0, 0, 0]    2\n",
       "2        [2, 0, 0, 0, 0, 0, 0, 0, 0, 0, 0]    4\n",
       "3        [3, 0, 0, 0, 0, 0, 0, 0, 0, 0, 0]    6\n",
       "4        [4, 0, 0, 0, 0, 0, 0, 0, 0, 0, 0]    8\n",
       "...                                    ...  ...\n",
       "1493208  [0, 0, 1, 0, 0, 0, 0, 0, 0, 1, 0]   34\n",
       "2985984  [0, 0, 0, 0, 0, 0, 0, 0, 0, 0, 1]   31\n",
       "2985985  [1, 0, 0, 0, 0, 0, 0, 0, 0, 0, 1]   33\n",
       "2985986  [2, 0, 0, 0, 0, 0, 0, 0, 0, 0, 1]   35\n",
       "2986002  [0, 1, 0, 0, 0, 0, 0, 0, 0, 0, 1]   34\n",
       "\n",
       "[1465 rows x 2 columns]"
      ]
     },
     "execution_count": 343,
     "metadata": {},
     "output_type": "execute_result"
    }
   ],
   "source": [
    "#only those adding up to the max number or less include every possibility.\n",
    "df[df['sum'] <= 35]"
   ]
  },
  {
   "cell_type": "code",
   "execution_count": 344,
   "id": "024e06e5-e19a-4003-be04-2bbe0d546340",
   "metadata": {},
   "outputs": [],
   "source": [
    "df35 = df[df['sum'] <= 35]"
   ]
  },
  {
   "cell_type": "code",
   "execution_count": 345,
   "id": "85dbc0d1-a543-44a3-9d89-fee737acef8b",
   "metadata": {},
   "outputs": [
    {
     "data": {
      "text/plain": [
       "35    175\n",
       "34    157\n",
       "33    140\n",
       "32    124\n",
       "31    111\n",
       "30     98\n",
       "29     87\n",
       "28     77\n",
       "27     67\n",
       "26     60\n",
       "25     52\n",
       "24     46\n",
       "23     40\n",
       "22     35\n",
       "21     30\n",
       "20     26\n",
       "19     23\n",
       "18     19\n",
       "17     17\n",
       "16     14\n",
       "15     12\n",
       "14     10\n",
       "13      9\n",
       "12      7\n",
       "11      6\n",
       "10      5\n",
       "9       4\n",
       "8       3\n",
       "7       3\n",
       "5       2\n",
       "6       2\n",
       "4       1\n",
       "3       1\n",
       "2       1\n",
       "0       1\n",
       "Name: sum, dtype: int64"
      ]
     },
     "execution_count": 345,
     "metadata": {},
     "output_type": "execute_result"
    }
   ],
   "source": [
    "df35['sum'].value_counts()"
   ]
  },
  {
   "cell_type": "code",
   "execution_count": 351,
   "id": "a6807344-9333-4110-9e39-17cdedb28df1",
   "metadata": {},
   "outputs": [
    {
     "data": {
      "text/html": [
       "<div>\n",
       "<style scoped>\n",
       "    .dataframe tbody tr th:only-of-type {\n",
       "        vertical-align: middle;\n",
       "    }\n",
       "\n",
       "    .dataframe tbody tr th {\n",
       "        vertical-align: top;\n",
       "    }\n",
       "\n",
       "    .dataframe thead th {\n",
       "        text-align: right;\n",
       "    }\n",
       "</style>\n",
       "<table border=\"1\" class=\"dataframe\">\n",
       "  <thead>\n",
       "    <tr style=\"text-align: right;\">\n",
       "      <th></th>\n",
       "      <th>prime_multiples</th>\n",
       "      <th>sum</th>\n",
       "    </tr>\n",
       "  </thead>\n",
       "  <tbody>\n",
       "    <tr>\n",
       "      <th>5</th>\n",
       "      <td>[5, 0, 0, 0, 0, 0, 0, 0, 0, 0, 0]</td>\n",
       "      <td>10</td>\n",
       "    </tr>\n",
       "    <tr>\n",
       "      <th>38</th>\n",
       "      <td>[2, 2, 0, 0, 0, 0, 0, 0, 0, 0, 0]</td>\n",
       "      <td>10</td>\n",
       "    </tr>\n",
       "    <tr>\n",
       "      <th>235</th>\n",
       "      <td>[1, 1, 1, 0, 0, 0, 0, 0, 0, 0, 0]</td>\n",
       "      <td>10</td>\n",
       "    </tr>\n",
       "    <tr>\n",
       "      <th>432</th>\n",
       "      <td>[0, 0, 2, 0, 0, 0, 0, 0, 0, 0, 0]</td>\n",
       "      <td>10</td>\n",
       "    </tr>\n",
       "    <tr>\n",
       "      <th>1746</th>\n",
       "      <td>[0, 1, 0, 1, 0, 0, 0, 0, 0, 0, 0]</td>\n",
       "      <td>10</td>\n",
       "    </tr>\n",
       "  </tbody>\n",
       "</table>\n",
       "</div>"
      ],
      "text/plain": [
       "                        prime_multiples  sum\n",
       "5     [5, 0, 0, 0, 0, 0, 0, 0, 0, 0, 0]   10\n",
       "38    [2, 2, 0, 0, 0, 0, 0, 0, 0, 0, 0]   10\n",
       "235   [1, 1, 1, 0, 0, 0, 0, 0, 0, 0, 0]   10\n",
       "432   [0, 0, 2, 0, 0, 0, 0, 0, 0, 0, 0]   10\n",
       "1746  [0, 1, 0, 1, 0, 0, 0, 0, 0, 0, 0]   10"
      ]
     },
     "execution_count": 351,
     "metadata": {},
     "output_type": "execute_result"
    }
   ],
   "source": [
    "#there are 175 ways to add prime numbers to 35, etc.\n",
    "df35[df35['sum'] == 10]"
   ]
  },
  {
   "cell_type": "markdown",
   "id": "3a4738d0-c93a-485e-82e8-6b177965de8f",
   "metadata": {},
   "source": [
    "Number of ways to add primes to N:\n",
    "N = 2 + (N-2)\n",
    "Number of ways = 2 + number of ways (N-2)"
   ]
  },
  {
   "cell_type": "code",
   "execution_count": 361,
   "id": "59bd65b9-8f3b-45db-824c-94859846a6b4",
   "metadata": {},
   "outputs": [
    {
     "name": "stdout",
     "output_type": "stream",
     "text": [
      "|    |   sum |\n",
      "|---:|------:|\n",
      "| 31 |   111 |\n",
      "| 29 |    87 |\n",
      "| 23 |    40 |\n",
      "| 19 |    23 |\n",
      "| 17 |    17 |\n",
      "| 13 |     9 |\n",
      "| 11 |     6 |\n",
      "|  7 |     3 |\n",
      "|  5 |     2 |\n",
      "|  2 |     1 |\n",
      "|  3 |     1 |\n"
     ]
    }
   ],
   "source": [
    "print(df35[df35['sum'].apply(lambda x: x in primes200)]['sum'].value_counts().to_markdown())"
   ]
  },
  {
   "cell_type": "markdown",
   "id": "a9483cf3-1f38-4481-bf3d-e78ab616083d",
   "metadata": {},
   "source": [
    "|  prime number  |   number of ways to add primes |\n",
    "|---:|------:|\n",
    "| 31 |   111 |\n",
    "| 29 |    87 |\n",
    "| 23 |    40 |\n",
    "| 19 |    23 |\n",
    "| 17 |    17 |\n",
    "| 13 |     9 |\n",
    "| 11 |     6 |\n",
    "|  7 |     3 |\n",
    "|  5 |     2 |\n",
    "|  2 |     1 |\n",
    "|  3 |     1 |"
   ]
  },
  {
   "cell_type": "markdown",
   "id": "83bcdfe7-f01c-476d-98ef-802765d076e9",
   "metadata": {},
   "source": [
    "First, any number can be written as a unique sum of 2s and 3s.\n",
    "\n",
    "$$\n",
    "N = \\left\\{\n",
    "\\begin{array}{ll}\n",
    "2(N // 2) & N \\text{ even}\\\\\n",
    "2(N // 2 -1 ) + 3 & N \\text{ odd}\n",
    "\\end{array}\n",
    "\\right\\}\n",
    "$$\n",
    "\n",
    "All prime numbers greater than 2 are odd, so all primes can be expressed as the second form.\n",
    "So, to get a prime in the sum, pick out a number of 2s, and a 3, then check if prime.\n",
    "\n",
    "This means that any prime number must have at least as many ways of writing it as primes below do (?) Maybe not. depends on whether 2s and 3s or whatever show up in the expansions."
   ]
  },
  {
   "cell_type": "markdown",
   "id": "42f0b4e1-9fc6-47c9-a98c-ccd0f7d1705e",
   "metadata": {},
   "source": [
    "$31 = 14 \\times 2 +3 = 28 + 3$\n",
    "\n",
    "28 isn't prime, but can be expanded into prime sums."
   ]
  },
  {
   "cell_type": "markdown",
   "id": "a6e281f4-a607-45fa-ad5d-10192e0800cf",
   "metadata": {},
   "source": [
    "number = $\\left[ \\text{ primes } \\right] \\cdot \\left[ \\text{ multiples } \\right]$\n",
    "\n",
    "5000 different ways of distributing integers amongst $\\text{multiples}$ to get the same number.\n",
    "\n"
   ]
  },
  {
   "cell_type": "markdown",
   "id": "40d464d8-3c41-4faa-b47c-2fef579456b0",
   "metadata": {},
   "source": [
    "Say N is the first number that can be written like this, at least 5000 different ways $W_i$.\n",
    "\n",
    "$W$ stands for Way.\n",
    "\n",
    "$$\n",
    "\\left[ \\text{ primes } \\right] \\cdot W_1 = \\left[ \\text{ primes } \\right] \\cdot W_2 = \\dots = \\left[ \\text{ primes } \\right] \\cdot W_{5000} = N\n",
    "$$\n",
    "And all of $W_i$ are distinct.\n",
    "\n",
    "Expand primes to diagonalized?"
   ]
  },
  {
   "cell_type": "markdown",
   "id": "82d1f5b3-1d63-40a6-bdc2-d9fd4b8638cc",
   "metadata": {},
   "source": [
    "$$\n",
    "\\left[ \\begin{array}{cccc}p & 0& & 0\\\\0& r&\\dots&\\\\\\vdots&0&\\ddots&\\vdots\\\\ 0&&& p_i\\end{array} \\right] \\left[ 1\\ 1\\ \\dots 1\\right] \\ W_1 = \\left[ \\text{ primes } \\right] \\cdot W_2 = \\dots = \\left[ \\text{ primes } \\right] \\cdot W_{5000} = N\n",
    "$$"
   ]
  },
  {
   "cell_type": "code",
   "execution_count": 2,
   "id": "6b887a7d-b222-4054-9508-b42dde7602aa",
   "metadata": {},
   "outputs": [],
   "source": [
    "import numpy as np"
   ]
  },
  {
   "cell_type": "code",
   "execution_count": 11,
   "id": "032b51d2-f04b-4c32-ac64-bd16998a9792",
   "metadata": {},
   "outputs": [],
   "source": [
    "lfivehun_primes = list(sp.primerange(1,501))"
   ]
  },
  {
   "cell_type": "markdown",
   "id": "e9d56d89-6e94-4c6d-9a57-5d7baa442ee7",
   "metadata": {},
   "source": [
    "W_5000 vectors of some $p$ primes, all different...\n",
    "\n",
    "Points in a grid in $p$ dimensions....\n",
    "\n",
    "Don't matrixify the primes! Matrixify the Ws.\n",
    "\n",
    "$$\n",
    "PW =\\Biggl[ \\text{p r i m e s }\\dots P_p \\Biggr] \\Biggl[W_1\\ W_2\\ \\dots W_{5000} \\Biggr]  = N \\bar 1\n",
    "$$\n",
    "\n",
    "with $\\bar 1$ the vector of ones. $P$ is shaped $1\\times p$, $W$ is shaped $p\\times 5000$, and the right is a 1 by 5000 vector of ones times the Number N.\n",
    "\n",
    "This is kind of like finding a null space... but it's the ones space."
   ]
  },
  {
   "cell_type": "code",
   "execution_count": null,
   "id": "930b404b-d5f1-44d9-bd0b-ac2bc50d8dc7",
   "metadata": {},
   "outputs": [],
   "source": []
  }
 ],
 "metadata": {
  "kernelspec": {
   "display_name": "Python 3 (ipykernel)",
   "language": "python",
   "name": "python3"
  },
  "language_info": {
   "codemirror_mode": {
    "name": "ipython",
    "version": 3
   },
   "file_extension": ".py",
   "mimetype": "text/x-python",
   "name": "python",
   "nbconvert_exporter": "python",
   "pygments_lexer": "ipython3",
   "version": "3.10.7"
  }
 },
 "nbformat": 4,
 "nbformat_minor": 5
}
