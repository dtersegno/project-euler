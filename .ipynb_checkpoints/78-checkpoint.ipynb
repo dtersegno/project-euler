{
 "cells": [
  {
   "cell_type": "markdown",
   "id": "ecfacbec-3c04-4237-b7ca-a9369a85040e",
   "metadata": {},
   "source": [
    "Coin Partitions\n",
    "---\n",
    "\n",
    "Let $p(n)$ represent the number of different ways in which \n",
    "n coins can be separated into piles. For example, five coins can be separated into piles in exactly seven different ways, so $p(5) = 7$.\n",
    "\n",
    "```json\n",
    "OOOOO\n",
    "OOOO   O\n",
    "OOO   OO\n",
    "OOO   O   O\n",
    "OO   OO   O\n",
    "OO   O   O   O\n",
    "O   O   O   O   O\n",
    "```\n",
    "\n",
    "Find the least value of $n$ for which $p(n)$ is divisible by one million."
   ]
  },
  {
   "cell_type": "markdown",
   "id": "df6bcf01-985e-433c-8e1b-e51428123482",
   "metadata": {},
   "source": [
    "---\n",
    "\n",
    "For partitions of indistinguishable coins with one pile $n/2$ or larger, there is no more than one ways to partition the remainder with a pile of that size. So the number of ways to have a pile of a particular size $n/2$ or greater is the number of ways to partition the remainder:\n",
    "$$\n",
    "\\sum_{i = \\lceil n/2\\rceil}^n p(n-i)\n",
    "$$\n",
    "\n"
   ]
  },
  {
   "cell_type": "code",
   "execution_count": 1,
   "id": "19549258-be5f-494d-8763-a451fb97322a",
   "metadata": {},
   "outputs": [],
   "source": [
    "import numpy as np\n",
    "import matplotlib.pyplot as plt"
   ]
  },
  {
   "cell_type": "markdown",
   "id": "5ec4f146-c5b9-42a3-8f54-a690c80b8241",
   "metadata": {},
   "source": [
    "What are the ways?\n",
    "\n",
    "p(1) = (1) = 1\n",
    "- one in one pile\n",
    "p(2) = (2) + (1,1) = 2\n",
    "- two piles or one pile\n",
    "p(3) = (3) + (1,2) + (1,1,1) = 3\n",
    "p(4) = (4) + (1,3) + (1,1,2) + (1,1,1,1) + (2,2) = 5\n",
    "p(5) = (5) + (4,1) + (3,1,1) + (3,2) + (2,2,1) + (2,1,1,1) + (1,1,1,1,1) = 7\n",
    "p(6) = (6) + (5,1) + (4,2) + (4,1,1) + (3,3) + (3,2,1) + (3,1,1,1) + (2,2,2) + (2,2,1,1) + (2,1,1,1,1) = 10\n",
    "p(7) = (7) + (6,1) + (5,2) + (5,1,1) + (4,3) + (4,2,1) + (4,1,1,1) + (3,3,1)"
   ]
  },
  {
   "cell_type": "markdown",
   "id": "a5acc184-aa37-414d-987f-c0e83c2e5d1d",
   "metadata": {},
   "source": [
    "Starting with the number itself, and moving down to 1/2 its value, you can expand each. This agrees with the sum above.\n",
    "Once you hit a number less than half the value, you can remove it twice.\n",
    "ex: (3,3) for n = 6. Then there are p(3) ways with (3,...).\n",
    "\n",
    "$$\n",
    "p(6) = p(0) + p(1) + p(2) + p(3) + ...\n",
    "$$"
   ]
  },
  {
   "cell_type": "code",
   "execution_count": null,
   "id": "b20e3fd7-717e-47d0-bbd0-26c885080583",
   "metadata": {},
   "outputs": [],
   "source": []
  }
 ],
 "metadata": {
  "kernelspec": {
   "display_name": "Python 3 (ipykernel)",
   "language": "python",
   "name": "python3"
  },
  "language_info": {
   "codemirror_mode": {
    "name": "ipython",
    "version": 3
   },
   "file_extension": ".py",
   "mimetype": "text/x-python",
   "name": "python",
   "nbconvert_exporter": "python",
   "pygments_lexer": "ipython3",
   "version": "3.10.7"
  }
 },
 "nbformat": 4,
 "nbformat_minor": 5
}
