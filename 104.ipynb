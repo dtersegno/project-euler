{
 "cells": [
  {
   "cell_type": "markdown",
   "id": "1ca0900a-6b89-4ab1-80f3-be9e13dba301",
   "metadata": {},
   "source": [
    "[Problem 104](https://projecteuler.net/problem=104)\n",
    "\n",
    "The Fibonacci sequence is defined by the recurrence relation:\n",
    "\n",
    "$$\n",
    "F_n = F_{n-1}+F_{n-2}\\text{, where }F_1 = 1 \\text{ and } F_2 = 1\n",
    "$$\n",
    "\n",
    "It turns out that $F_{541}$, which contains 113 difits, is the first F number for which the last nine digits are 1 - 9 pandigital. And $F_{2749}$, which contains 575 digits, is the first Fibonacci number for which the first nine digits are 1-9 pandigital.\n",
    "\n",
    "Given that $F_k$ is the first fibonacci number for which the first nine digits and the last nine digits are 1-9 pandigital, find $k$."
   ]
  },
  {
   "cell_type": "code",
   "execution_count": 1,
   "id": "99925ac2-6488-4f51-9e11-a2f0896177af",
   "metadata": {},
   "outputs": [],
   "source": [
    "import numpy as np\n",
    "import pandas as pd\n",
    "\n",
    "import decimal as d"
   ]
  },
  {
   "cell_type": "code",
   "execution_count": 2,
   "id": "55ca598f-c607-4723-b291-fc7be6025350",
   "metadata": {},
   "outputs": [],
   "source": [
    "#store fib numbers in a dataframe\n",
    "fdf = pd.DataFrame([[]], index = [1,2]).astype(int)\n",
    "fdf.loc[1, 'value'] = 1\n",
    "fdf.loc[2, 'value'] = 1\n",
    "\n",
    "# fdf = fdf.astype(int)\n",
    "fdf.index.rename('k', inplace = True)"
   ]
  },
  {
   "cell_type": "code",
   "execution_count": 3,
   "id": "0ef61877-e0db-47fa-9829-40b97f9b6083",
   "metadata": {},
   "outputs": [],
   "source": [
    "def get_fib(k:int, dataframe):\n",
    "    \"\"\"\n",
    "    Return the kth Fibonacci number. Checks if the value is already stored in the dataframe first,\n",
    "    and if not, finds it and fills the dataframe with the found value.\n",
    "    \n",
    "    Parameters\n",
    "    ----------\n",
    "    k: integer\n",
    "        The index of the number\n",
    "    dataframe: pandas.DataFrame\n",
    "        A dataframe storing Fib numbers\n",
    "        \n",
    "    Returns\n",
    "    -------\n",
    "    fib_k: int\n",
    "        The kth Fibonacci number\n",
    "    \"\"\"\n",
    "    \n",
    "    #if it's in the dataframe, just access that value\n",
    "    if k in dataframe.index:\n",
    "        fib_k = dataframe.loc[k, 'value']\n",
    "        return fib_k\n",
    "    else:\n",
    "        # get the last two fibonacci numbers\n",
    "        last_last_fib_index = k-2\n",
    "        last_last_fib = get_fib(last_last_fib_index, dataframe)\n",
    "        \n",
    "        last_fib_index = k-1\n",
    "        last_fib = get_fib(last_fib_index, dataframe)\n",
    "        \n",
    "        #save the newly found value in the dataframe     \n",
    "        fib_k = last_fib + last_last_fib\n",
    "        dataframe.loc[k, 'value'] = fib_k\n",
    "        \n",
    "        return fib_k"
   ]
  },
  {
   "cell_type": "code",
   "execution_count": 4,
   "id": "95d913cb-ce80-4a6a-ba01-2134c9823a55",
   "metadata": {},
   "outputs": [
    {
     "data": {
      "text/html": [
       "<div>\n",
       "<style scoped>\n",
       "    .dataframe tbody tr th:only-of-type {\n",
       "        vertical-align: middle;\n",
       "    }\n",
       "\n",
       "    .dataframe tbody tr th {\n",
       "        vertical-align: top;\n",
       "    }\n",
       "\n",
       "    .dataframe thead th {\n",
       "        text-align: right;\n",
       "    }\n",
       "</style>\n",
       "<table border=\"1\" class=\"dataframe\">\n",
       "  <thead>\n",
       "    <tr style=\"text-align: right;\">\n",
       "      <th></th>\n",
       "      <th>value</th>\n",
       "    </tr>\n",
       "    <tr>\n",
       "      <th>k</th>\n",
       "      <th></th>\n",
       "    </tr>\n",
       "  </thead>\n",
       "  <tbody>\n",
       "    <tr>\n",
       "      <th>1</th>\n",
       "      <td>1.0</td>\n",
       "    </tr>\n",
       "    <tr>\n",
       "      <th>2</th>\n",
       "      <td>1.0</td>\n",
       "    </tr>\n",
       "  </tbody>\n",
       "</table>\n",
       "</div>"
      ],
      "text/plain": [
       "   value\n",
       "k       \n",
       "1    1.0\n",
       "2    1.0"
      ]
     },
     "execution_count": 4,
     "metadata": {},
     "output_type": "execute_result"
    }
   ],
   "source": [
    "fdf"
   ]
  },
  {
   "cell_type": "code",
   "execution_count": 5,
   "id": "eda1bf71-a645-402e-96b2-b0e43b027926",
   "metadata": {},
   "outputs": [
    {
     "data": {
      "text/plain": [
       "832040.0"
      ]
     },
     "execution_count": 5,
     "metadata": {},
     "output_type": "execute_result"
    }
   ],
   "source": [
    "get_fib(30,fdf)"
   ]
  },
  {
   "cell_type": "code",
   "execution_count": 6,
   "id": "be8498ef-6eda-4455-94f2-4da76abe7506",
   "metadata": {},
   "outputs": [
    {
     "data": {
      "text/plain": [
       "5.162123292739374e+112"
      ]
     },
     "execution_count": 6,
     "metadata": {},
     "output_type": "execute_result"
    }
   ],
   "source": [
    "get_fib(541,fdf)"
   ]
  },
  {
   "cell_type": "code",
   "execution_count": 7,
   "id": "5900c6ee-a709-4ff3-9fca-4ce9d0b61ed6",
   "metadata": {},
   "outputs": [
    {
     "name": "stdout",
     "output_type": "stream",
     "text": [
      "5.162123292739374e+112\n"
     ]
    }
   ],
   "source": [
    "print(_)"
   ]
  },
  {
   "cell_type": "markdown",
   "id": "09e94664-b7cd-4e7b-88c5-c2206f46b3e5",
   "metadata": {},
   "source": [
    "Restart\n",
    "---\n",
    "\n",
    "Define the collection of fib nos as a dictionary instead of a df."
   ]
  },
  {
   "cell_type": "code",
   "execution_count": 8,
   "id": "ce4068d5-f803-4ae5-a6ba-2dc9bff4e558",
   "metadata": {
    "tags": []
   },
   "outputs": [],
   "source": [
    "def get_fib(k:int, fd:dict):\n",
    "    \"\"\"\n",
    "    Return the kth Fibonacci number. Checks if the value is already stored in the dataframe first,\n",
    "    and if not, finds it and fills the dataframe with the found value.\n",
    "    \n",
    "    Parameters\n",
    "    ----------\n",
    "    k: integer\n",
    "        The index of the number\n",
    "    fd: dict\n",
    "        A dict storing Fib numbers\n",
    "        \n",
    "    Returns\n",
    "    -------\n",
    "    fib_k: int\n",
    "        The kth Fibonacci number\n",
    "    \"\"\"\n",
    "    \n",
    "    #if it's in the dataframe, just access that value\n",
    "    if k in fd.keys():\n",
    "        fib_k = fd[k]\n",
    "        return fib_k\n",
    "    else:\n",
    "        # get the last two fibonacci numbers\n",
    "        last_last_fib_index = k-2\n",
    "        last_last_fib = get_fib(last_last_fib_index, fd)\n",
    "        \n",
    "        last_fib_index = k-1\n",
    "        last_fib = get_fib(last_fib_index, fd)\n",
    "        \n",
    "        #save the newly found value in the dataframe     \n",
    "        fib_k = last_fib + last_last_fib\n",
    "        fd.update({k:fib_k})\n",
    "        \n",
    "        return fib_k\n",
    "    \n",
    "def is_pandigital(the_number):\n",
    "    the_string = str(the_number)\n",
    "    digits = '123456789'\n",
    "    is_it_pandigital = np.all(\n",
    "        [\n",
    "         digit in digits\n",
    "            for digit in the_string\n",
    "        ]\n",
    "    )\n",
    "    return is_it_pandigital\n",
    "        \n",
    "    "
   ]
  },
  {
   "cell_type": "code",
   "execution_count": 9,
   "id": "36e30ab3-ed3a-4cff-bb1d-856c4b22fd9f",
   "metadata": {},
   "outputs": [
    {
     "data": {
      "text/plain": [
       "True"
      ]
     },
     "execution_count": 9,
     "metadata": {},
     "output_type": "execute_result"
    }
   ],
   "source": [
    "is_pandigital(34728678699121268398283759846)"
   ]
  },
  {
   "cell_type": "code",
   "execution_count": 11,
   "id": "863047d4-d637-4393-a6b3-a87cb5055f8b",
   "metadata": {
    "tags": []
   },
   "outputs": [
    {
     "ename": "NameError",
     "evalue": "name 'fdct' is not defined",
     "output_type": "error",
     "traceback": [
      "\u001b[1;31m---------------------------------------------------------------------------\u001b[0m",
      "\u001b[1;31mNameError\u001b[0m                                 Traceback (most recent call last)",
      "Cell \u001b[1;32mIn [11], line 5\u001b[0m\n\u001b[0;32m      3\u001b[0m \u001b[38;5;28;01mwhile\u001b[39;00m have_not_found:\n\u001b[0;32m      4\u001b[0m     current_k \u001b[38;5;241m+\u001b[39m\u001b[38;5;241m=\u001b[39m \u001b[38;5;241m1\u001b[39m\n\u001b[1;32m----> 5\u001b[0m     this_fib \u001b[38;5;241m=\u001b[39m get_fib(current_k, \u001b[43mfdct\u001b[49m)\n\u001b[0;32m      6\u001b[0m     this_fib_string \u001b[38;5;241m=\u001b[39m \u001b[38;5;28mstr\u001b[39m(this_fib)\n\u001b[0;32m      7\u001b[0m     \u001b[38;5;28;01mif\u001b[39;00m is_pandigital(this_fib_string[:\u001b[38;5;241m9\u001b[39m]) \u001b[38;5;129;01mand\u001b[39;00m is_pandigital(this_fib_string[\u001b[38;5;241m-\u001b[39m\u001b[38;5;241m9\u001b[39m:]):\n",
      "\u001b[1;31mNameError\u001b[0m: name 'fdct' is not defined"
     ]
    }
   ],
   "source": [
    "have_not_found = True\n",
    "current_k = 18000\n",
    "while have_not_found:\n",
    "    current_k += 1\n",
    "    this_fib = get_fib(current_k, fdct)\n",
    "    this_fib_string = str(this_fib)\n",
    "    if is_pandigital(this_fib_string[:9]) and is_pandigital(this_fib_string[-9:]):\n",
    "        have_not_found = !have_not_found\n",
    "    if current_k%1000 == 0:\n",
    "        print(f'finding fib number {current_k}: {this_fib}')\n",
    "print(f'found fib number {current_k} is {this_fib_string}')"
   ]
  },
  {
   "cell_type": "code",
   "execution_count": 12,
   "id": "03de4f42-13ca-4226-b0c0-3a007ea755c8",
   "metadata": {},
   "outputs": [
    {
     "data": {
      "text/plain": [
       "250.0"
      ]
     },
     "execution_count": 12,
     "metadata": {},
     "output_type": "execute_result"
    }
   ],
   "source": [
    "6000 / 24"
   ]
  },
  {
   "cell_type": "code",
   "execution_count": null,
   "id": "e6a87d94-ea6a-4f25-8cae-2dd5d6f74500",
   "metadata": {},
   "outputs": [],
   "source": []
  }
 ],
 "metadata": {
  "kernelspec": {
   "display_name": "Python 3 (ipykernel)",
   "language": "python",
   "name": "python3"
  },
  "language_info": {
   "codemirror_mode": {
    "name": "ipython",
    "version": 3
   },
   "file_extension": ".py",
   "mimetype": "text/x-python",
   "name": "python",
   "nbconvert_exporter": "python",
   "pygments_lexer": "ipython3",
   "version": "3.10.7"
  }
 },
 "nbformat": 4,
 "nbformat_minor": 5
}
