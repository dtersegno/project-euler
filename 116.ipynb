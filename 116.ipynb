{
 "cells": [
  {
   "cell_type": "markdown",
   "id": "571ef4e8-7779-43bb-9cb4-b96e907a1f76",
   "metadata": {},
   "source": [
    "[Problem 116](https://projecteuler.net/problem=116)\n",
    "===\n",
    "\n",
    "A row of five grey square tiles is to have a number of its tiles replaced with coloured oblong tiles chosen from red (length two), green (length three), or blue (length four).\n",
    "\n",
    "If red tiles are chosen there are exactly seven ways this can be done.\n",
    "\n",
    "png116_1.png\n",
    "If green tiles are chosen there are three ways.\n",
    "\n",
    "png116_2.png\n",
    "And if blue tiles are chosen there are two ways.\n",
    "\n",
    "png116_3.png\n",
    "Assuming that colours cannot be mixed there are \n",
    " ways of replacing the grey tiles in a row measuring five units in length.\n",
    "\n",
    "How many different ways can the grey tiles in a row measuring fifty units in length be replaced if colours cannot be mixed and at least one coloured tile must be used?\n",
    "\n",
    "NOTE: This is related to Problem 117."
   ]
  },
  {
   "cell_type": "code",
   "execution_count": 49,
   "id": "319644bd-c36c-4b3d-8a10-88f3e4ba5b00",
   "metadata": {},
   "outputs": [],
   "source": [
    "color_lengths = {'r':2, 'g':3, 'b':4}\n",
    "\n",
    "def num_single_color_fills(row_length, color, color_dict = color_lengths):\n",
    "    \"\"\"\n",
    "    Count the number of ways a row of row_length can be filled with a single color.\n",
    "    \"\"\"\n",
    "    \n",
    "    ways_to_fill = 1\n",
    "    \n",
    "    #accommodate either string or integer color lengths\n",
    "    if type(color) == int:\n",
    "        col_len = color\n",
    "    else:\n",
    "        col_len = color_dict[color]\n",
    "    \n",
    "    #if we have too short a row, no new ways to fill.\n",
    "    if col_len > row_length:\n",
    "        ways_to_fill += 0\n",
    "        return ways_to_fill\n",
    "    # a same-length row can only be filled in or not.\n",
    "    # Totally blank rows are not accepted. There is\n",
    "    #only one way to fill a row of equal length to the color\n",
    "    elif col_len == row_length:\n",
    "        ways_to_fill += 1\n",
    "        return ways_to_fill\n",
    "    \n",
    "    #if the color length fills in multiple ways, then scan squares across until\n",
    "    # one first fills in a color\n",
    "    elif col_len < row_length:\n",
    "        # print('manies')\n",
    "        \n",
    "        #we start with filling from the left at a certain point. This adds one way.\n",
    "        running_sum = 1\n",
    "        for start_square in range(row_length - col_len):\n",
    "            running_sum = running_sum + num_single_color_fills(row_length - col_len, color)\n",
    "        return running_sum"
   ]
  },
  {
   "cell_type": "code",
   "execution_count": 39,
   "id": "89a805a6-44fd-4608-8f8f-bf14c76fb280",
   "metadata": {},
   "outputs": [
    {
     "data": {
      "text/plain": [
       "<map at 0x1f6e9224bb0>"
      ]
     },
     "execution_count": 39,
     "metadata": {},
     "output_type": "execute_result"
    }
   ],
   "source": [
    "#if red tiles are chosen there are seven ways.\n",
    "#if green tiles are chosen, there are three.\n",
    "#if blue tiles are chosen, there are two.\n",
    "map(lambda x,y: num_single_color_fills, [5], [2,3,4])"
   ]
  },
  {
   "cell_type": "code",
   "execution_count": 41,
   "id": "b76b5b45-6aa8-4ff2-9692-6d954b05dbf6",
   "metadata": {},
   "outputs": [
    {
     "data": {
      "text/plain": [
       "[7, 3, 2]"
      ]
     },
     "execution_count": 41,
     "metadata": {},
     "output_type": "execute_result"
    }
   ],
   "source": [
    "[\n",
    "    num_single_color_fills(x,y)\n",
    "    for x in [5] for y in [2,3,4]\n",
    "]"
   ]
  },
  {
   "cell_type": "code",
   "execution_count": 52,
   "id": "ccb823b7-8144-4ea3-8190-214de1af74dc",
   "metadata": {
    "tags": []
   },
   "outputs": [],
   "source": [
    "def total_single_color_fills(length, return_total = True, color_dict = color_lengths):\n",
    "    individual_color_counts = [\n",
    "        num_single_color_fills(length, color_dict[color], color_dict)\n",
    "        for color in color_dict\n",
    "    ]\n",
    "    if return_total:\n",
    "        return sum(individual_color_counts)\n",
    "    else:\n",
    "        return individual_color_counts"
   ]
  },
  {
   "cell_type": "code",
   "execution_count": 66,
   "id": "1ee60ff3-c374-449c-8f3c-867c08ce0728",
   "metadata": {},
   "outputs": [
    {
     "name": "stdout",
     "output_type": "stream",
     "text": [
      "CPU times: total: 0 ns\n",
      "Wall time: 0 ns\n"
     ]
    },
    {
     "data": {
      "text/plain": [
       "1100"
      ]
     },
     "execution_count": 66,
     "metadata": {},
     "output_type": "execute_result"
    }
   ],
   "source": []
  },
  {
   "cell_type": "markdown",
   "id": "48333e74-8a78-423f-8d8b-dbfee2fb8685",
   "metadata": {},
   "source": [
    "Investigation\n",
    "---\n",
    "\n"
   ]
  },
  {
   "cell_type": "code",
   "execution_count": 78,
   "id": "3256a564-9cd6-4854-971a-8e968c4330b1",
   "metadata": {},
   "outputs": [
    {
     "data": {
      "text/plain": [
       "3000"
      ]
     },
     "execution_count": 78,
     "metadata": {},
     "output_type": "execute_result"
    }
   ],
   "source": [
    "import sys\n",
    "import plotly.graph_objects as go\n",
    "import numpy as np\n",
    "\n",
    "#get recursion limit to see limitation of the aove recursive functions\n",
    "sys.getrecursionlimit()"
   ]
  },
  {
   "cell_type": "code",
   "execution_count": 82,
   "id": "465d2ce9-88c8-4f36-856d-880f6727b6fe",
   "metadata": {},
   "outputs": [
    {
     "name": "stdout",
     "output_type": "stream",
     "text": [
      "CPU times: total: 0 ns\n",
      "Wall time: 0 ns\n"
     ]
    },
    {
     "data": {
      "text/plain": [
       "12"
      ]
     },
     "execution_count": 82,
     "metadata": {},
     "output_type": "execute_result"
    }
   ],
   "source": [
    "%%time\n",
    "#check the time on a series of functions for larger lengths\n",
    "total_single_color_fills(5)"
   ]
  },
  {
   "cell_type": "code",
   "execution_count": 83,
   "id": "91ceba37-18c0-4f1f-b38b-bf7daad94344",
   "metadata": {},
   "outputs": [
    {
     "name": "stdout",
     "output_type": "stream",
     "text": [
      "CPU times: total: 0 ns\n",
      "Wall time: 0 ns\n"
     ]
    },
    {
     "data": {
      "text/plain": [
       "152"
      ]
     },
     "execution_count": 83,
     "metadata": {},
     "output_type": "execute_result"
    }
   ],
   "source": [
    "%%time\n",
    "total_single_color_fills(8)"
   ]
  },
  {
   "cell_type": "code",
   "execution_count": 84,
   "id": "176efc2b-503d-4905-baed-2167cb781c56",
   "metadata": {},
   "outputs": [
    {
     "name": "stdout",
     "output_type": "stream",
     "text": [
      "CPU times: total: 297 ms\n",
      "Wall time: 303 ms\n"
     ]
    },
    {
     "data": {
      "text/plain": [
       "330745"
      ]
     },
     "execution_count": 84,
     "metadata": {},
     "output_type": "execute_result"
    }
   ],
   "source": [
    "%%time\n",
    "total_single_color_fills(15)"
   ]
  },
  {
   "cell_type": "code",
   "execution_count": 85,
   "id": "23d6cce4-dc8e-4f27-8db3-d52608f7027e",
   "metadata": {},
   "outputs": [
    {
     "name": "stdout",
     "output_type": "stream",
     "text": [
      "CPU times: total: 312 ms\n",
      "Wall time: 312 ms\n"
     ]
    },
    {
     "data": {
      "text/plain": [
       "330745"
      ]
     },
     "execution_count": 85,
     "metadata": {},
     "output_type": "execute_result"
    }
   ],
   "source": [
    "%%time\n",
    "total_single_color_fills(15)"
   ]
  },
  {
   "cell_type": "code",
   "execution_count": 75,
   "id": "3c77fd5d-420e-415e-a81c-7b249f693ce2",
   "metadata": {},
   "outputs": [
    {
     "name": "stdout",
     "output_type": "stream",
     "text": [
      "CPU times: total: 797 ms\n",
      "Wall time: 795 ms\n"
     ]
    },
    {
     "data": {
      "text/plain": [
       "1717954"
      ]
     },
     "execution_count": 75,
     "metadata": {},
     "output_type": "execute_result"
    }
   ],
   "source": [
    "%%time\n",
    "total_single_color_fills(16)"
   ]
  },
  {
   "cell_type": "code",
   "execution_count": 86,
   "id": "1d3f79bf-a3f1-428a-83bb-10e85b22b7b4",
   "metadata": {},
   "outputs": [
    {
     "name": "stdout",
     "output_type": "stream",
     "text": [
      "CPU times: total: 13.7 s\n",
      "Wall time: 13.8 s\n"
     ]
    },
    {
     "data": {
      "text/plain": [
       "27412420"
      ]
     },
     "execution_count": 86,
     "metadata": {},
     "output_type": "execute_result"
    }
   ],
   "source": [
    "%%time\n",
    "total_single_color_fills(18)"
   ]
  },
  {
   "cell_type": "code",
   "execution_count": null,
   "id": "3a238a5f-83bb-4701-88e8-44294c9e104b",
   "metadata": {},
   "outputs": [],
   "source": [
    "#get counts for various lengths and colors\n",
    "lengths = range(1,"
   ]
  }
 ],
 "metadata": {
  "kernelspec": {
   "display_name": "Python 3 (ipykernel)",
   "language": "python",
   "name": "python3"
  },
  "language_info": {
   "codemirror_mode": {
    "name": "ipython",
    "version": 3
   },
   "file_extension": ".py",
   "mimetype": "text/x-python",
   "name": "python",
   "nbconvert_exporter": "python",
   "pygments_lexer": "ipython3",
   "version": "3.10.7"
  }
 },
 "nbformat": 4,
 "nbformat_minor": 5
}
