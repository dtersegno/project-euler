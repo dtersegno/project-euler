{
 "cells": [
  {
   "cell_type": "markdown",
   "id": "f6415399-482f-44a6-8428-f559694e4c0c",
   "metadata": {},
   "source": [
    "209 Circular logic\n",
    "\n",
    "\n",
    "how many 6-input binary truth tables satisfy\n",
    "\n",
    "$$\n",
    "\\tau(a,b,c,d,e,f) \\text{ AND } \\tau(b,c,d,e,f, a \\text{ XOR } (b \\text{ AND } c) = 0\n",
    "$$\n",
    "For all 6-bit inputs $(a,b,c,d,e,f)$?"
   ]
  },
  {
   "cell_type": "markdown",
   "id": "2444d005-877b-4d34-a1d1-5d089fa735ce",
   "metadata": {},
   "source": [
    "There are $2^6$ distinct inputs to a single one of these truth tables. A table is defined by the collection of 0s or 1s, a single bit assigned to each unique collection of inputs.\n",
    "\n",
    "So, there are $2^6$ slots, and each can be either a 0 or 1. There are $(2^6)^6 = 2^{36} = 68719476736$ of these truth tables.\n",
    "\n",
    "That last part is strange.\n",
    "a XOR (b AND c).\n",
    "\n"
   ]
  },
  {
   "cell_type": "code",
   "execution_count": 3,
   "id": "3615e0b5-87f0-4c6b-aa1d-08c2bf0b9882",
   "metadata": {},
   "outputs": [],
   "source": [
    "import pandas as pd\n",
    "import numpy as np"
   ]
  },
  {
   "cell_type": "code",
   "execution_count": 4,
   "id": "498aa44b-bb59-4bfa-8bf2-bb3e4a99f1e7",
   "metadata": {},
   "outputs": [
    {
     "data": {
      "text/plain": [
       "['0b0', '0b1', '0b10', '0b11', '0b100', '0b101', '0b110', '0b111']"
      ]
     },
     "execution_count": 4,
     "metadata": {},
     "output_type": "execute_result"
    }
   ],
   "source": [
    "list(map(lambda x: bin(x, \"3%\"), range(8)))"
   ]
  },
  {
   "cell_type": "code",
   "execution_count": 7,
   "id": "085f735f-e3d7-452a-807b-7a9463b6d60a",
   "metadata": {},
   "outputs": [
    {
     "data": {
      "text/plain": [
       "'3.230769230769231'"
      ]
     },
     "execution_count": 7,
     "metadata": {},
     "output_type": "execute_result"
    }
   ],
   "source": [
    "'{}'.format(42/13)"
   ]
  },
  {
   "cell_type": "code",
   "execution_count": 9,
   "id": "46d94687-5005-4641-98f3-2857d3e0b75b",
   "metadata": {},
   "outputs": [
    {
     "data": {
      "text/plain": [
       "'3.230769'"
      ]
     },
     "execution_count": 9,
     "metadata": {},
     "output_type": "execute_result"
    }
   ],
   "source": [
    "'{:f}'.format(42/13)"
   ]
  },
  {
   "cell_type": "code",
   "execution_count": 11,
   "id": "764a613d-1d70-4587-824e-caddd85e45f8",
   "metadata": {},
   "outputs": [
    {
     "data": {
      "text/plain": [
       "'                      3.230769'"
      ]
     },
     "execution_count": 11,
     "metadata": {},
     "output_type": "execute_result"
    }
   ],
   "source": [
    "'{:30f}'.format(42/13)"
   ]
  },
  {
   "cell_type": "code",
   "execution_count": 19,
   "id": "eb8aaac5-3d1a-43e9-b472-a611b1bd413e",
   "metadata": {},
   "outputs": [
    {
     "data": {
      "text/plain": [
       "'3.230769231'"
      ]
     },
     "execution_count": 19,
     "metadata": {},
     "output_type": "execute_result"
    }
   ],
   "source": [
    "'{:.10}'.format(42/13)"
   ]
  },
  {
   "cell_type": "markdown",
   "id": "06465adc-118e-4ab9-8167-10b12aa87a44",
   "metadata": {},
   "source": [
    "Let's collect all the inputs."
   ]
  },
  {
   "cell_type": "code",
   "execution_count": 51,
   "id": "6c7912c6-e6ba-4997-92a4-d14ea65446e9",
   "metadata": {},
   "outputs": [
    {
     "data": {
      "text/html": [
       "<div>\n",
       "<style scoped>\n",
       "    .dataframe tbody tr th:only-of-type {\n",
       "        vertical-align: middle;\n",
       "    }\n",
       "\n",
       "    .dataframe tbody tr th {\n",
       "        vertical-align: top;\n",
       "    }\n",
       "\n",
       "    .dataframe thead th {\n",
       "        text-align: right;\n",
       "    }\n",
       "</style>\n",
       "<table border=\"1\" class=\"dataframe\">\n",
       "  <thead>\n",
       "    <tr style=\"text-align: right;\">\n",
       "      <th></th>\n",
       "      <th>a</th>\n",
       "      <th>b</th>\n",
       "      <th>c</th>\n",
       "      <th>d</th>\n",
       "      <th>e</th>\n",
       "      <th>f</th>\n",
       "    </tr>\n",
       "  </thead>\n",
       "  <tbody>\n",
       "    <tr>\n",
       "      <th>0</th>\n",
       "      <td>0</td>\n",
       "      <td>0</td>\n",
       "      <td>0</td>\n",
       "      <td>0</td>\n",
       "      <td>0</td>\n",
       "      <td>0</td>\n",
       "    </tr>\n",
       "    <tr>\n",
       "      <th>1</th>\n",
       "      <td>0</td>\n",
       "      <td>0</td>\n",
       "      <td>0</td>\n",
       "      <td>0</td>\n",
       "      <td>0</td>\n",
       "      <td>1</td>\n",
       "    </tr>\n",
       "    <tr>\n",
       "      <th>2</th>\n",
       "      <td>0</td>\n",
       "      <td>0</td>\n",
       "      <td>0</td>\n",
       "      <td>0</td>\n",
       "      <td>1</td>\n",
       "      <td>0</td>\n",
       "    </tr>\n",
       "    <tr>\n",
       "      <th>3</th>\n",
       "      <td>0</td>\n",
       "      <td>0</td>\n",
       "      <td>0</td>\n",
       "      <td>0</td>\n",
       "      <td>1</td>\n",
       "      <td>1</td>\n",
       "    </tr>\n",
       "    <tr>\n",
       "      <th>4</th>\n",
       "      <td>0</td>\n",
       "      <td>0</td>\n",
       "      <td>0</td>\n",
       "      <td>1</td>\n",
       "      <td>0</td>\n",
       "      <td>0</td>\n",
       "    </tr>\n",
       "    <tr>\n",
       "      <th>...</th>\n",
       "      <td>...</td>\n",
       "      <td>...</td>\n",
       "      <td>...</td>\n",
       "      <td>...</td>\n",
       "      <td>...</td>\n",
       "      <td>...</td>\n",
       "    </tr>\n",
       "    <tr>\n",
       "      <th>59</th>\n",
       "      <td>1</td>\n",
       "      <td>1</td>\n",
       "      <td>1</td>\n",
       "      <td>0</td>\n",
       "      <td>1</td>\n",
       "      <td>1</td>\n",
       "    </tr>\n",
       "    <tr>\n",
       "      <th>60</th>\n",
       "      <td>1</td>\n",
       "      <td>1</td>\n",
       "      <td>1</td>\n",
       "      <td>1</td>\n",
       "      <td>0</td>\n",
       "      <td>0</td>\n",
       "    </tr>\n",
       "    <tr>\n",
       "      <th>61</th>\n",
       "      <td>1</td>\n",
       "      <td>1</td>\n",
       "      <td>1</td>\n",
       "      <td>1</td>\n",
       "      <td>0</td>\n",
       "      <td>1</td>\n",
       "    </tr>\n",
       "    <tr>\n",
       "      <th>62</th>\n",
       "      <td>1</td>\n",
       "      <td>1</td>\n",
       "      <td>1</td>\n",
       "      <td>1</td>\n",
       "      <td>1</td>\n",
       "      <td>0</td>\n",
       "    </tr>\n",
       "    <tr>\n",
       "      <th>63</th>\n",
       "      <td>1</td>\n",
       "      <td>1</td>\n",
       "      <td>1</td>\n",
       "      <td>1</td>\n",
       "      <td>1</td>\n",
       "      <td>1</td>\n",
       "    </tr>\n",
       "  </tbody>\n",
       "</table>\n",
       "<p>64 rows × 6 columns</p>\n",
       "</div>"
      ],
      "text/plain": [
       "    a  b  c  d  e  f\n",
       "0   0  0  0  0  0  0\n",
       "1   0  0  0  0  0  1\n",
       "2   0  0  0  0  1  0\n",
       "3   0  0  0  0  1  1\n",
       "4   0  0  0  1  0  0\n",
       ".. .. .. .. .. .. ..\n",
       "59  1  1  1  0  1  1\n",
       "60  1  1  1  1  0  0\n",
       "61  1  1  1  1  0  1\n",
       "62  1  1  1  1  1  0\n",
       "63  1  1  1  1  1  1\n",
       "\n",
       "[64 rows x 6 columns]"
      ]
     },
     "execution_count": 51,
     "metadata": {},
     "output_type": "execute_result"
    }
   ],
   "source": [
    "tha_inputs = np.array([\n",
    "    list('{:>06}'.format(bin(numbo).split('b')[1]))\n",
    "    for numbo in range(64)                                          \n",
    "]).astype(int)\n",
    "tdf = pd.DataFrame(tha_inputs, columns = list('abcdef'))\n",
    "tdf\n"
   ]
  },
  {
   "cell_type": "code",
   "execution_count": 65,
   "id": "bbdc60c5-0b14-4014-8271-e149d2ce6e52",
   "metadata": {},
   "outputs": [],
   "source": [
    "tdf['a^(b&c)'] = (tdf['a'] ^( tdf['b'] & tdf['c'] ))"
   ]
  },
  {
   "cell_type": "code",
   "execution_count": 66,
   "id": "2da49633-917b-4910-b093-06c6c1a4f519",
   "metadata": {},
   "outputs": [
    {
     "data": {
      "text/plain": [
       "a          32\n",
       "b          32\n",
       "c          32\n",
       "d          32\n",
       "e          32\n",
       "f          32\n",
       "a^(b&c)    32\n",
       "dtype: int64"
      ]
     },
     "execution_count": 66,
     "metadata": {},
     "output_type": "execute_result"
    }
   ],
   "source": [
    "tdf.sum()"
   ]
  },
  {
   "cell_type": "code",
   "execution_count": 68,
   "id": "2f9caadc-27e3-45f8-995a-e0ddb35f0f4d",
   "metadata": {},
   "outputs": [
    {
     "data": {
      "text/plain": [
       "a  b  c  d  e  f  a^(b&c)\n",
       "0  1  1  0  0  0  1          1\n",
       "               1  1          1\n",
       "1  1  0  1  1  0  1          1\n",
       "            0  1  1          1\n",
       "               0  1          1\n",
       "         0  1  1  1          1\n",
       "               0  1          1\n",
       "            0  1  1          1\n",
       "               0  1          1\n",
       "   0  1  1  1  1  1          1\n",
       "               0  1          1\n",
       "            0  1  1          1\n",
       "               0  1          1\n",
       "         0  1  1  1          1\n",
       "               0  1          1\n",
       "            0  1  1          1\n",
       "               0  1          1\n",
       "      0  1  1  1  1          1\n",
       "               0  1          1\n",
       "            0  1  1          1\n",
       "               0  1          1\n",
       "         0  1  1  1          1\n",
       "               0  1          1\n",
       "            0  1  1          1\n",
       "               0  1          1\n",
       "0  1  1  1  1  1  1          1\n",
       "               0  1          1\n",
       "            0  1  1          1\n",
       "               0  1          1\n",
       "         0  1  1  1          1\n",
       "               0  1          1\n",
       "1  1  0  1  1  1  1          1\n",
       "dtype: int64"
      ]
     },
     "execution_count": 68,
     "metadata": {},
     "output_type": "execute_result"
    }
   ],
   "source": [
    "tdf[tdf['a^(b&c)'] == 1]"
   ]
  },
  {
   "cell_type": "code",
   "execution_count": null,
   "id": "6e5f51b0-d7ab-42c2-baf3-2103221e051d",
   "metadata": {},
   "outputs": [],
   "source": []
  }
 ],
 "metadata": {
  "kernelspec": {
   "display_name": "Python 3 (ipykernel)",
   "language": "python",
   "name": "python3"
  },
  "language_info": {
   "codemirror_mode": {
    "name": "ipython",
    "version": 3
   },
   "file_extension": ".py",
   "mimetype": "text/x-python",
   "name": "python",
   "nbconvert_exporter": "python",
   "pygments_lexer": "ipython3",
   "version": "3.12.3"
  }
 },
 "nbformat": 4,
 "nbformat_minor": 5
}
