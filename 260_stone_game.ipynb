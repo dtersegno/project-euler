{
 "cells": [
  {
   "cell_type": "markdown",
   "id": "909d5cc3-6001-4639-a5a8-7509024c803b",
   "metadata": {},
   "source": [
    "[Stone game](https://projecteuler.net/problem=260)\n",
    "---\n",
    "\n",
    "A game is played with three piles of stones and two players.\n",
    "On each player's turn, the player may remove one or more stones from the piles. However, if the player takes stones from more than one pile, then the same number of stones must be removed from each of the selected piles.\n",
    "\n",
    "The player taking the last stone(s) wins the game.\n",
    "\n",
    "A winning configuration is one where the first player can force a win.\n",
    "For example, (0,0,13), (0,11,11) and (5,5,5) are winning configurations because the first player can immediately remove all stones.\n",
    "\n",
    "A losing configuration is one where the second player can force a win, no matter what the first player does.\n",
    "(0,1,2) and (1,3,3) are losing configurations.\n",
    "\n",
    "\n",
    "Of all losing configurations $(x_i, y_i, z_i)$ where $x_i\\leq y_i \\leq z_i \\leq 100$,\n",
    "$$ \\sum (x_i + y_i + z_i) = 173895$$\n",
    "\n",
    "\n",
    "---\n",
    "Find $(x_i + y_i + z_i)$ for losing configurations where $x_i \\leq y_i \\leq z_i \\leq 1000$."
   ]
  },
  {
   "cell_type": "markdown",
   "id": "e9b24242-4640-4a3b-a9f7-0f183ec00959",
   "metadata": {},
   "source": [
    "---\n",
    "\n",
    "Given $z$, all possible $x$ and $y$ values "
   ]
  }
 ],
 "metadata": {
  "kernelspec": {
   "display_name": "Python 3 (ipykernel)",
   "language": "python",
   "name": "python3"
  },
  "language_info": {
   "codemirror_mode": {
    "name": "ipython",
    "version": 3
   },
   "file_extension": ".py",
   "mimetype": "text/x-python",
   "name": "python",
   "nbconvert_exporter": "python",
   "pygments_lexer": "ipython3",
   "version": "3.10.7"
  }
 },
 "nbformat": 4,
 "nbformat_minor": 5
}
