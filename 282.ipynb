{
 "cells": [
  {
   "cell_type": "markdown",
   "id": "44f051c1-0c45-4c9a-8e13-3a839789c968",
   "metadata": {},
   "source": [
    "The ackermann function\n",
    "---\n",
    "\n",
    "Find \n",
    "\n",
    "$$\n",
    "\\sum_{n=0}^{6} A(n,n)\n",
    "$$\n",
    "and give the answer to mod $14^8$."
   ]
  },
  {
   "cell_type": "code",
   "execution_count": 2,
   "id": "bb5431de-7b2c-46c6-a4f3-63da1cd2fe9c",
   "metadata": {},
   "outputs": [],
   "source": [
    "import pandas as pd\n",
    "import numpy as np\n",
    "import matplotlib.pyplot as plt"
   ]
  },
  {
   "cell_type": "code",
   "execution_count": 1,
   "id": "c5bd1242-5ca0-42df-8158-78f1fe4e681a",
   "metadata": {},
   "outputs": [],
   "source": [
    "def ack(m,n):\n",
    "    if m == 0:\n",
    "        return n+1\n",
    "    elif m > 0 and n == 0:\n",
    "        return ack(m-1,1)\n",
    "    elif m > 0 and n > 0:\n",
    "        return ack(m-1, ack(m, n-1))\n",
    "    else:\n",
    "        raise(ValueError('m and n must be nonnegative.'))\n",
    "        \n",
    "def ack_df(m,n,dataframe):\n",
    "    if (m,n) not in dataframe.index:\n",
    "        dataframe.loc[(m,n), 'ack'] = np.nan\n",
    "    if dataframe.isna().loc[(m,n), 'ack']:\n",
    "        if m == 0:\n",
    "            ack_val = n+1\n",
    "            dataframe.loc[(m,n), 'ack'] = ack_val\n",
    "            return n+1\n",
    "        elif m > 0 and n == 0:\n",
    "            ack_val = ack_df(m-1,1, dataframe)\n",
    "            dataframe.loc[(m,n), 'ack'] = ack_val\n",
    "            return ack_val\n",
    "        elif m>0 and n>0:\n",
    "            ack_val = ack_df(m-1, ack_df(m, n-1, dataframe), dataframe)\n",
    "            dataframe.loc[(m,n), 'ack'] = ack_val\n",
    "            return ack_val\n",
    "    else:\n",
    "        return dataframe.loc[(m,n), 'ack']"
   ]
  },
  {
   "cell_type": "code",
   "execution_count": 3,
   "id": "6134c49f-d902-4e34-8653-b0304e5ad24e",
   "metadata": {},
   "outputs": [
    {
     "data": {
      "text/plain": [
       "2"
      ]
     },
     "execution_count": 3,
     "metadata": {},
     "output_type": "execute_result"
    }
   ],
   "source": [
    "ack(1,0)"
   ]
  },
  {
   "cell_type": "code",
   "execution_count": 4,
   "id": "b97f9d35-1079-47cd-9fcb-eb9f0114d482",
   "metadata": {},
   "outputs": [
    {
     "data": {
      "text/plain": [
       "7"
      ]
     },
     "execution_count": 4,
     "metadata": {},
     "output_type": "execute_result"
    }
   ],
   "source": [
    "ack(2,2)"
   ]
  },
  {
   "cell_type": "code",
   "execution_count": 5,
   "id": "29ff1cbf-728e-4b90-989f-3fee3ccd355e",
   "metadata": {},
   "outputs": [
    {
     "data": {
      "text/plain": [
       "125"
      ]
     },
     "execution_count": 5,
     "metadata": {},
     "output_type": "execute_result"
    }
   ],
   "source": [
    "ack(3,4)"
   ]
  },
  {
   "cell_type": "code",
   "execution_count": 6,
   "id": "cfe0c41f-4ad2-4e46-84c8-df2328acaadc",
   "metadata": {},
   "outputs": [],
   "source": [
    "df = pd.DataFrame([], columns = ['ack'], index=pd.MultiIndex.from_product([range(0,1),range(0,1)]))\n",
    "df.index.set_names(('m','n'), inplace=True)"
   ]
  },
  {
   "cell_type": "code",
   "execution_count": 7,
   "id": "6ff51b4a-7aab-4325-8a60-46ee65926516",
   "metadata": {},
   "outputs": [
    {
     "data": {
      "text/plain": [
       "61"
      ]
     },
     "execution_count": 7,
     "metadata": {},
     "output_type": "execute_result"
    }
   ],
   "source": [
    "ack_df(3,3, df)"
   ]
  },
  {
   "cell_type": "code",
   "execution_count": 8,
   "id": "a3f6c492-de8b-408f-8d36-426d22d93903",
   "metadata": {},
   "outputs": [
    {
     "data": {
      "text/plain": [
       "125"
      ]
     },
     "execution_count": 8,
     "metadata": {},
     "output_type": "execute_result"
    }
   ],
   "source": [
    "ack_df(3,4, df)"
   ]
  },
  {
   "cell_type": "code",
   "execution_count": 9,
   "id": "0a165806-e488-4b4e-bc73-4f2f6ea03971",
   "metadata": {},
   "outputs": [
    {
     "data": {
      "text/html": [
       "<div>\n",
       "<style scoped>\n",
       "    .dataframe tbody tr th:only-of-type {\n",
       "        vertical-align: middle;\n",
       "    }\n",
       "\n",
       "    .dataframe tbody tr th {\n",
       "        vertical-align: top;\n",
       "    }\n",
       "\n",
       "    .dataframe thead th {\n",
       "        text-align: right;\n",
       "    }\n",
       "</style>\n",
       "<table border=\"1\" class=\"dataframe\">\n",
       "  <thead>\n",
       "    <tr style=\"text-align: right;\">\n",
       "      <th></th>\n",
       "      <th></th>\n",
       "      <th>ack</th>\n",
       "    </tr>\n",
       "    <tr>\n",
       "      <th>m</th>\n",
       "      <th>n</th>\n",
       "      <th></th>\n",
       "    </tr>\n",
       "  </thead>\n",
       "  <tbody>\n",
       "    <tr>\n",
       "      <th rowspan=\"5\" valign=\"top\">0</th>\n",
       "      <th>0</th>\n",
       "      <td>NaN</td>\n",
       "    </tr>\n",
       "    <tr>\n",
       "      <th>1</th>\n",
       "      <td>2</td>\n",
       "    </tr>\n",
       "    <tr>\n",
       "      <th>2</th>\n",
       "      <td>3</td>\n",
       "    </tr>\n",
       "    <tr>\n",
       "      <th>3</th>\n",
       "      <td>4</td>\n",
       "    </tr>\n",
       "    <tr>\n",
       "      <th>4</th>\n",
       "      <td>5</td>\n",
       "    </tr>\n",
       "    <tr>\n",
       "      <th>...</th>\n",
       "      <th>...</th>\n",
       "      <td>...</td>\n",
       "    </tr>\n",
       "    <tr>\n",
       "      <th rowspan=\"5\" valign=\"top\">3</th>\n",
       "      <th>0</th>\n",
       "      <td>5</td>\n",
       "    </tr>\n",
       "    <tr>\n",
       "      <th>1</th>\n",
       "      <td>13</td>\n",
       "    </tr>\n",
       "    <tr>\n",
       "      <th>2</th>\n",
       "      <td>29</td>\n",
       "    </tr>\n",
       "    <tr>\n",
       "      <th>3</th>\n",
       "      <td>61</td>\n",
       "    </tr>\n",
       "    <tr>\n",
       "      <th>4</th>\n",
       "      <td>125</td>\n",
       "    </tr>\n",
       "  </tbody>\n",
       "</table>\n",
       "<p>316 rows × 1 columns</p>\n",
       "</div>"
      ],
      "text/plain": [
       "     ack\n",
       "m n     \n",
       "0 0  NaN\n",
       "  1    2\n",
       "  2    3\n",
       "  3    4\n",
       "  4    5\n",
       "..   ...\n",
       "3 0    5\n",
       "  1   13\n",
       "  2   29\n",
       "  3   61\n",
       "  4  125\n",
       "\n",
       "[316 rows x 1 columns]"
      ]
     },
     "execution_count": 9,
     "metadata": {},
     "output_type": "execute_result"
    }
   ],
   "source": [
    "df.loc[sorted(df.index)]"
   ]
  },
  {
   "cell_type": "code",
   "execution_count": 38,
   "id": "3293e0ac-0847-486f-920b-d9eccba65f0d",
   "metadata": {},
   "outputs": [],
   "source": [
    "df = df.loc[sorted(df.index)]\n",
    "df.to_csv('0282_ack.csv')"
   ]
  },
  {
   "cell_type": "code",
   "execution_count": 10,
   "id": "0af23df3-1fed-45f1-bf25-d4ca68212379",
   "metadata": {},
   "outputs": [
    {
     "data": {
      "text/html": [
       "<div>\n",
       "<style scoped>\n",
       "    .dataframe tbody tr th:only-of-type {\n",
       "        vertical-align: middle;\n",
       "    }\n",
       "\n",
       "    .dataframe tbody tr th {\n",
       "        vertical-align: top;\n",
       "    }\n",
       "\n",
       "    .dataframe thead th {\n",
       "        text-align: right;\n",
       "    }\n",
       "</style>\n",
       "<table border=\"1\" class=\"dataframe\">\n",
       "  <thead>\n",
       "    <tr style=\"text-align: right;\">\n",
       "      <th></th>\n",
       "      <th></th>\n",
       "      <th>ack</th>\n",
       "    </tr>\n",
       "    <tr>\n",
       "      <th>m</th>\n",
       "      <th>n</th>\n",
       "      <th></th>\n",
       "    </tr>\n",
       "  </thead>\n",
       "  <tbody>\n",
       "    <tr>\n",
       "      <th>0</th>\n",
       "      <th>0</th>\n",
       "      <td>NaN</td>\n",
       "    </tr>\n",
       "    <tr>\n",
       "      <th rowspan=\"4\" valign=\"top\">3</th>\n",
       "      <th>3</th>\n",
       "      <td>61</td>\n",
       "    </tr>\n",
       "    <tr>\n",
       "      <th>2</th>\n",
       "      <td>29</td>\n",
       "    </tr>\n",
       "    <tr>\n",
       "      <th>1</th>\n",
       "      <td>13</td>\n",
       "    </tr>\n",
       "    <tr>\n",
       "      <th>0</th>\n",
       "      <td>5</td>\n",
       "    </tr>\n",
       "    <tr>\n",
       "      <th>...</th>\n",
       "      <th>...</th>\n",
       "      <td>...</td>\n",
       "    </tr>\n",
       "    <tr>\n",
       "      <th>0</th>\n",
       "      <th>122</th>\n",
       "      <td>123</td>\n",
       "    </tr>\n",
       "    <tr>\n",
       "      <th rowspan=\"2\" valign=\"top\">1</th>\n",
       "      <th>123</th>\n",
       "      <td>125</td>\n",
       "    </tr>\n",
       "    <tr>\n",
       "      <th>122</th>\n",
       "      <td>124</td>\n",
       "    </tr>\n",
       "    <tr>\n",
       "      <th rowspan=\"2\" valign=\"top\">0</th>\n",
       "      <th>123</th>\n",
       "      <td>124</td>\n",
       "    </tr>\n",
       "    <tr>\n",
       "      <th>124</th>\n",
       "      <td>125</td>\n",
       "    </tr>\n",
       "  </tbody>\n",
       "</table>\n",
       "<p>316 rows × 1 columns</p>\n",
       "</div>"
      ],
      "text/plain": [
       "       ack\n",
       "m n       \n",
       "0 0    NaN\n",
       "3 3     61\n",
       "  2     29\n",
       "  1     13\n",
       "  0      5\n",
       "...    ...\n",
       "0 122  123\n",
       "1 123  125\n",
       "  122  124\n",
       "0 123  124\n",
       "  124  125\n",
       "\n",
       "[316 rows x 1 columns]"
      ]
     },
     "execution_count": 10,
     "metadata": {},
     "output_type": "execute_result"
    }
   ],
   "source": [
    "df"
   ]
  },
  {
   "cell_type": "code",
   "execution_count": null,
   "id": "41fc213a-44c8-4496-ba4d-087c6c0d1796",
   "metadata": {},
   "outputs": [],
   "source": []
  }
 ],
 "metadata": {
  "kernelspec": {
   "display_name": "Python 3 (ipykernel)",
   "language": "python",
   "name": "python3"
  },
  "language_info": {
   "codemirror_mode": {
    "name": "ipython",
    "version": 3
   },
   "file_extension": ".py",
   "mimetype": "text/x-python",
   "name": "python",
   "nbconvert_exporter": "python",
   "pygments_lexer": "ipython3",
   "version": "3.10.7"
  }
 },
 "nbformat": 4,
 "nbformat_minor": 5
}
