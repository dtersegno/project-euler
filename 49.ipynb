{
 "cells": [
  {
   "cell_type": "markdown",
   "id": "3bca67be-ab59-4c43-8adb-0f32556da9e1",
   "metadata": {},
   "source": [
    "Prime permutation\n",
    "---\n",
    "\n",
    "1487, 4817, 8147 each increase by 3330, are all prime, and are all permutations of another. What's the other like this?"
   ]
  },
  {
   "cell_type": "code",
   "execution_count": 8,
   "id": "c9c24e6d-40f1-4c1c-b9b1-046719e948f2",
   "metadata": {},
   "outputs": [],
   "source": [
    "import sympy as sp\n",
    "import numpy as np"
   ]
  },
  {
   "cell_type": "code",
   "execution_count": 6,
   "id": "ffda6d26-b69a-4d89-a1aa-5588845c018a",
   "metadata": {},
   "outputs": [],
   "source": [
    "p4d = list(sp.primerange(1000,10000))"
   ]
  },
  {
   "cell_type": "code",
   "execution_count": 7,
   "id": "e5778356-ea1f-45d5-8631-7304ec06a9fc",
   "metadata": {},
   "outputs": [
    {
     "data": {
      "text/plain": [
       "1061"
      ]
     },
     "execution_count": 7,
     "metadata": {},
     "output_type": "execute_result"
    }
   ],
   "source": [
    "len(p4d)"
   ]
  },
  {
   "cell_type": "code",
   "execution_count": 14,
   "id": "a43631c8-fe54-40f0-8569-5627b045551f",
   "metadata": {},
   "outputs": [],
   "source": [
    "diffs = np.array([ [abs(thing1 - thing2) for thing1 in p4d] for thing2 in p4d])"
   ]
  },
  {
   "cell_type": "code",
   "execution_count": 15,
   "id": "4490afa5-e4d1-43f6-9598-413d3c74ba1b",
   "metadata": {},
   "outputs": [
    {
     "data": {
      "text/plain": [
       "array([[   0,    4,   10, ..., 8940, 8958, 8964],\n",
       "       [   4,    0,    6, ..., 8936, 8954, 8960],\n",
       "       [  10,    6,    0, ..., 8930, 8948, 8954],\n",
       "       ...,\n",
       "       [8940, 8936, 8930, ...,    0,   18,   24],\n",
       "       [8958, 8954, 8948, ...,   18,    0,    6],\n",
       "       [8964, 8960, 8954, ...,   24,    6,    0]])"
      ]
     },
     "execution_count": 15,
     "metadata": {},
     "output_type": "execute_result"
    }
   ],
   "source": [
    "diffs"
   ]
  },
  {
   "cell_type": "code",
   "execution_count": 18,
   "id": "c83c533f-140a-4ad8-8f83-95634f4dbddf",
   "metadata": {},
   "outputs": [
    {
     "data": {
      "text/plain": [
       "(array([   0,    2,    4, ..., 8958, 8960, 8964]),\n",
       " array([1061,  340,  324, ...,    2,    2,    2], dtype=int64))"
      ]
     },
     "execution_count": 18,
     "metadata": {},
     "output_type": "execute_result"
    }
   ],
   "source": [
    "np.unique(diffs, return_counts=True)"
   ]
  },
  {
   "cell_type": "code",
   "execution_count": null,
   "id": "af0807d7-6428-4676-8b66-b7390be869c6",
   "metadata": {},
   "outputs": [],
   "source": []
  }
 ],
 "metadata": {
  "kernelspec": {
   "display_name": "Python 3 (ipykernel)",
   "language": "python",
   "name": "python3"
  },
  "language_info": {
   "codemirror_mode": {
    "name": "ipython",
    "version": 3
   },
   "file_extension": ".py",
   "mimetype": "text/x-python",
   "name": "python",
   "nbconvert_exporter": "python",
   "pygments_lexer": "ipython3",
   "version": "3.10.7"
  }
 },
 "nbformat": 4,
 "nbformat_minor": 5
}
