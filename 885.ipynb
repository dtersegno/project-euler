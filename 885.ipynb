{
 "cells": [
  {
   "cell_type": "markdown",
   "id": "b2d1265b-a642-45ec-94ca-4265f8991358",
   "metadata": {},
   "source": [
    "Project Euler 885\n",
    "Sorted Digits\n",
    "===\n",
    "\n",
    "\n",
    "For a positive integer $d$, let $f(d)$ be the number created by sorting the digits of $d$ in ascending order, removing any zeros. For example, $f(3403) = 334$.\n",
    "\n",
    "Let $S(n)$ be the sum of $f(d)$ for all positive integers $d$ of $n$ digits or less. You are given $S(1) =45$ and $S(5) = 1543545675.$\n",
    "\n",
    "Find $S(18)$. Give you answer modulo 1123455689."
   ]
  },
  {
   "cell_type": "code",
   "execution_count": 24,
   "id": "611822d0-84aa-4171-90e2-6ffeb1d192ee",
   "metadata": {},
   "outputs": [],
   "source": [
    "import numpy as np\n",
    "import pandas as pd\n",
    "\n",
    "def f(number):\n",
    "    \"\"\"Turn an integer into the integer with digits sorted and zeros removed\"\"\"\n",
    "    s_num = str(number)\n",
    "    return int(''.join(sorted(s_num.replace('0',''))))\n",
    "\n",
    "def S(n):\n",
    "    \"\"\"Add up all digits of all positive numbers with up to n digits.\n",
    "    \n",
    "    at the moment they \"\"\"\n",
    "    largest_number = 10**n-1\n",
    "    the_fs = np.array([\n",
    "        [number, f(number)]\n",
    "        for number in range(1, largest_number)\n",
    "    ])\n",
    "    return the_fs"
   ]
  },
  {
   "cell_type": "code",
   "execution_count": 25,
   "id": "0c56843c-9310-457b-8f36-0227f664b624",
   "metadata": {
    "scrolled": true
   },
   "outputs": [
    {
     "data": {
      "text/plain": [
       "array([[ 1,  1],\n",
       "       [ 2,  2],\n",
       "       [ 3,  3],\n",
       "       [ 4,  4],\n",
       "       [ 5,  5],\n",
       "       [ 6,  6],\n",
       "       [ 7,  7],\n",
       "       [ 8,  8],\n",
       "       [ 9,  9],\n",
       "       [10,  1],\n",
       "       [11, 11],\n",
       "       [12, 12],\n",
       "       [13, 13],\n",
       "       [14, 14],\n",
       "       [15, 15],\n",
       "       [16, 16],\n",
       "       [17, 17],\n",
       "       [18, 18],\n",
       "       [19, 19],\n",
       "       [20,  2],\n",
       "       [21, 12],\n",
       "       [22, 22],\n",
       "       [23, 23],\n",
       "       [24, 24],\n",
       "       [25, 25],\n",
       "       [26, 26],\n",
       "       [27, 27],\n",
       "       [28, 28],\n",
       "       [29, 29],\n",
       "       [30,  3],\n",
       "       [31, 13],\n",
       "       [32, 23],\n",
       "       [33, 33],\n",
       "       [34, 34],\n",
       "       [35, 35],\n",
       "       [36, 36],\n",
       "       [37, 37],\n",
       "       [38, 38],\n",
       "       [39, 39],\n",
       "       [40,  4],\n",
       "       [41, 14],\n",
       "       [42, 24],\n",
       "       [43, 34],\n",
       "       [44, 44],\n",
       "       [45, 45],\n",
       "       [46, 46],\n",
       "       [47, 47],\n",
       "       [48, 48],\n",
       "       [49, 49],\n",
       "       [50,  5],\n",
       "       [51, 15],\n",
       "       [52, 25],\n",
       "       [53, 35],\n",
       "       [54, 45],\n",
       "       [55, 55],\n",
       "       [56, 56],\n",
       "       [57, 57],\n",
       "       [58, 58],\n",
       "       [59, 59],\n",
       "       [60,  6],\n",
       "       [61, 16],\n",
       "       [62, 26],\n",
       "       [63, 36],\n",
       "       [64, 46],\n",
       "       [65, 56],\n",
       "       [66, 66],\n",
       "       [67, 67],\n",
       "       [68, 68],\n",
       "       [69, 69],\n",
       "       [70,  7],\n",
       "       [71, 17],\n",
       "       [72, 27],\n",
       "       [73, 37],\n",
       "       [74, 47],\n",
       "       [75, 57],\n",
       "       [76, 67],\n",
       "       [77, 77],\n",
       "       [78, 78],\n",
       "       [79, 79],\n",
       "       [80,  8],\n",
       "       [81, 18],\n",
       "       [82, 28],\n",
       "       [83, 38],\n",
       "       [84, 48],\n",
       "       [85, 58],\n",
       "       [86, 68],\n",
       "       [87, 78],\n",
       "       [88, 88],\n",
       "       [89, 89],\n",
       "       [90,  9],\n",
       "       [91, 19],\n",
       "       [92, 29],\n",
       "       [93, 39],\n",
       "       [94, 49],\n",
       "       [95, 59],\n",
       "       [96, 69],\n",
       "       [97, 79],\n",
       "       [98, 89]])"
      ]
     },
     "execution_count": 25,
     "metadata": {},
     "output_type": "execute_result"
    }
   ],
   "source": [
    "S(2)"
   ]
  },
  {
   "cell_type": "code",
   "execution_count": 16,
   "id": "e246c4ec-d63d-48be-9793-96ecbb40d715",
   "metadata": {},
   "outputs": [
    {
     "data": {
      "text/plain": [
       "10"
      ]
     },
     "execution_count": 16,
     "metadata": {},
     "output_type": "execute_result"
    }
   ],
   "source": [
    "len(str(_))"
   ]
  },
  {
   "cell_type": "code",
   "execution_count": 8,
   "id": "c1781ff7-b782-4c23-a542-a6f7ea9076d5",
   "metadata": {},
   "outputs": [
    {
     "data": {
      "text/plain": [
       "1223455"
      ]
     },
     "execution_count": 8,
     "metadata": {},
     "output_type": "execute_result"
    }
   ],
   "source": [
    "f(2345200105)"
   ]
  },
  {
   "cell_type": "code",
   "execution_count": 9,
   "id": "db94f22f-f131-4723-bf56-3d3fd520f173",
   "metadata": {},
   "outputs": [
    {
     "data": {
      "text/plain": [
       "334"
      ]
     },
     "execution_count": 9,
     "metadata": {},
     "output_type": "execute_result"
    }
   ],
   "source": [
    "f(3403)iii"
   ]
  },
  {
   "cell_type": "code",
   "execution_count": null,
   "id": "34aba01e-33ae-40a2-bc9d-3287acaf2ed1",
   "metadata": {},
   "outputs": [],
   "source": []
  }
 ],
 "metadata": {
  "kernelspec": {
   "display_name": "Python 3 (ipykernel)",
   "language": "python",
   "name": "python3"
  },
  "language_info": {
   "codemirror_mode": {
    "name": "ipython",
    "version": 3
   },
   "file_extension": ".py",
   "mimetype": "text/x-python",
   "name": "python",
   "nbconvert_exporter": "python",
   "pygments_lexer": "ipython3",
   "version": "3.10.11"
  }
 },
 "nbformat": 4,
 "nbformat_minor": 5
}
