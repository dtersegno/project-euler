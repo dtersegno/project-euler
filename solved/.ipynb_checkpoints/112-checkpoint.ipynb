{
 "cells": [
  {
   "cell_type": "markdown",
   "id": "75608924-59ae-411c-83e3-aaef392519d8",
   "metadata": {},
   "source": [
    "Bouncy numbers\n",
    "problem 112\n",
    "\n",
    "---\n",
    "\n",
    "Working from left-to-right if no digit is exceeded by the digit to its left it is called an increasing number; for example, 134468.\n",
    "\n",
    "Similarly if no digit is exceeded by the digit to its right it is called a decreasing number; for example, 66420.\n",
    "\n",
    "We shall call a positive integer that is neither increasing nor decreasing a \"bouncy\" number; for example, 155349.\n",
    "\n",
    "Clearly there cannot be any bouncy numbers below one-hundred, but just over half of the numbers below one-thousand (525) are bouncy. In fact, the least number for which the proportion of bouncy numbers first reaches \n",
    "50% is 538.\n",
    "\n",
    "Surprisingly, bouncy numbers become more and more common and by the time we reach 21780 the proportion of bouncy numbers is equal to 90%.\n",
    "\n",
    "Find the least number for which the proportion of bouncy numbers is exactly 99%.\n",
    "\n",
    "\n",
    "# Note on Bouncy definition\n",
    "A number with all digits the same, like `111` is considered a NON BOUNCY number."
   ]
  },
  {
   "cell_type": "code",
   "execution_count": 128,
   "id": "07326bb8-2fbd-46b9-b769-a652226fc80e",
   "metadata": {},
   "outputs": [],
   "source": [
    "import pandas as pd\n",
    "import numpy as np"
   ]
  },
  {
   "cell_type": "code",
   "execution_count": 129,
   "id": "63b85d1f-366f-4409-ac98-0a9f46ad41bb",
   "metadata": {},
   "outputs": [
    {
     "data": {
      "text/html": [
       "<div>\n",
       "<style scoped>\n",
       "    .dataframe tbody tr th:only-of-type {\n",
       "        vertical-align: middle;\n",
       "    }\n",
       "\n",
       "    .dataframe tbody tr th {\n",
       "        vertical-align: top;\n",
       "    }\n",
       "\n",
       "    .dataframe thead th {\n",
       "        text-align: right;\n",
       "    }\n",
       "</style>\n",
       "<table border=\"1\" class=\"dataframe\">\n",
       "  <thead>\n",
       "    <tr style=\"text-align: right;\">\n",
       "      <th></th>\n",
       "      <th>is_bouncy</th>\n",
       "      <th>cum_bouncy</th>\n",
       "    </tr>\n",
       "    <tr>\n",
       "      <th>number</th>\n",
       "      <th></th>\n",
       "      <th></th>\n",
       "    </tr>\n",
       "  </thead>\n",
       "  <tbody>\n",
       "  </tbody>\n",
       "</table>\n",
       "</div>"
      ],
      "text/plain": [
       "Empty DataFrame\n",
       "Columns: [is_bouncy, cum_bouncy]\n",
       "Index: []"
      ]
     },
     "execution_count": 129,
     "metadata": {},
     "output_type": "execute_result"
    }
   ],
   "source": [
    "ndf_columns = ['is_bouncy', 'cum_bouncy']\n",
    "ndf = pd.DataFrame(columns = ndf_columns)\n",
    "ndf.index.rename('number', inplace = True)\n",
    "ndf"
   ]
  },
  {
   "cell_type": "code",
   "execution_count": 130,
   "id": "7e6e4f6d-755a-4dea-9694-82dcccecf629",
   "metadata": {
    "tags": []
   },
   "outputs": [],
   "source": [
    "def split_number_into_digits(number:int, dtype = int):\n",
    "    the_string = str(number)\n",
    "    the_characters = [ char for char in the_string ]\n",
    "    if dtype == str:\n",
    "        return the_characters\n",
    "    elif dtype == int:\n",
    "        return [\n",
    "             int(character) for character in the_string   \n",
    "        ]\n",
    "    else:\n",
    "        raise(ValueError('Make that dtype, make it, makig, make it either a str or an int pleadse?'))\n",
    "\n",
    "def is_increasing(number:int):\n",
    "    digit_list = split_number_into_digits(number)\n",
    "    if len(digit_list)<2:\n",
    "        return False\n",
    "    else:\n",
    "        difs = np.diff(digit_list)\n",
    "        return np.all(difs >= 0) and not np.all(difs == 0)\n",
    "                      \n",
    "def is_decreasing(number:int):\n",
    "    digit_list = split_number_into_digits(number)\n",
    "    if len(digit_list) < 2:\n",
    "        return False\n",
    "    else:\n",
    "        difs = np.diff(digit_list)\n",
    "        return np.all(difs <= 0) and not np.all(difs == 0)\n",
    "\n",
    "def all_same_digit(number:int):\n",
    "    digit_list = split_number_into_digits(number)\n",
    "    return np.all\n",
    "    \n",
    "def is_bouncy(number:int):\n",
    "    digit_list = split_number_into_digits(number)\n",
    "    if len(digit_list) < 3:\n",
    "        return False\n",
    "    else:\n",
    "        digit_list = np.array(digit_list)\n",
    "        return not(is_increasing(number) or is_decreasing(number)) and not np.all(digit_list == digit_list[0])"
   ]
  },
  {
   "cell_type": "code",
   "execution_count": 131,
   "id": "d8c3c533-6335-446d-837d-727facc661a6",
   "metadata": {},
   "outputs": [
    {
     "data": {
      "text/plain": [
       "False"
      ]
     },
     "execution_count": 131,
     "metadata": {},
     "output_type": "execute_result"
    }
   ],
   "source": [
    "is_bouncy(111)"
   ]
  },
  {
   "cell_type": "code",
   "execution_count": 132,
   "id": "53ea705f-895e-4d13-b9b0-595501a2e092",
   "metadata": {},
   "outputs": [
    {
     "data": {
      "text/plain": [
       "array([4, 1])"
      ]
     },
     "execution_count": 132,
     "metadata": {},
     "output_type": "execute_result"
    }
   ],
   "source": [
    "np.diff(split_number_into_digits(156))"
   ]
  },
  {
   "cell_type": "code",
   "execution_count": 133,
   "id": "04dfc899-2281-420e-86df-651ddd3ba942",
   "metadata": {
    "tags": []
   },
   "outputs": [
    {
     "data": {
      "text/html": [
       "<div>\n",
       "<style scoped>\n",
       "    .dataframe tbody tr th:only-of-type {\n",
       "        vertical-align: middle;\n",
       "    }\n",
       "\n",
       "    .dataframe tbody tr th {\n",
       "        vertical-align: top;\n",
       "    }\n",
       "\n",
       "    .dataframe thead th {\n",
       "        text-align: right;\n",
       "    }\n",
       "</style>\n",
       "<table border=\"1\" class=\"dataframe\">\n",
       "  <thead>\n",
       "    <tr style=\"text-align: right;\">\n",
       "      <th></th>\n",
       "      <th>is_increasing</th>\n",
       "      <th>is_decreasing</th>\n",
       "      <th>is_bouncy</th>\n",
       "    </tr>\n",
       "  </thead>\n",
       "  <tbody>\n",
       "    <tr>\n",
       "      <th>1</th>\n",
       "      <td>False</td>\n",
       "      <td>False</td>\n",
       "      <td>False</td>\n",
       "    </tr>\n",
       "    <tr>\n",
       "      <th>2</th>\n",
       "      <td>False</td>\n",
       "      <td>False</td>\n",
       "      <td>False</td>\n",
       "    </tr>\n",
       "    <tr>\n",
       "      <th>3</th>\n",
       "      <td>False</td>\n",
       "      <td>False</td>\n",
       "      <td>False</td>\n",
       "    </tr>\n",
       "    <tr>\n",
       "      <th>4</th>\n",
       "      <td>False</td>\n",
       "      <td>False</td>\n",
       "      <td>False</td>\n",
       "    </tr>\n",
       "    <tr>\n",
       "      <th>5</th>\n",
       "      <td>False</td>\n",
       "      <td>False</td>\n",
       "      <td>False</td>\n",
       "    </tr>\n",
       "    <tr>\n",
       "      <th>...</th>\n",
       "      <td>...</td>\n",
       "      <td>...</td>\n",
       "      <td>...</td>\n",
       "    </tr>\n",
       "    <tr>\n",
       "      <th>99996</th>\n",
       "      <td>False</td>\n",
       "      <td>True</td>\n",
       "      <td>False</td>\n",
       "    </tr>\n",
       "    <tr>\n",
       "      <th>99997</th>\n",
       "      <td>False</td>\n",
       "      <td>True</td>\n",
       "      <td>False</td>\n",
       "    </tr>\n",
       "    <tr>\n",
       "      <th>99998</th>\n",
       "      <td>False</td>\n",
       "      <td>True</td>\n",
       "      <td>False</td>\n",
       "    </tr>\n",
       "    <tr>\n",
       "      <th>99999</th>\n",
       "      <td>False</td>\n",
       "      <td>False</td>\n",
       "      <td>False</td>\n",
       "    </tr>\n",
       "    <tr>\n",
       "      <th>100000</th>\n",
       "      <td>False</td>\n",
       "      <td>True</td>\n",
       "      <td>False</td>\n",
       "    </tr>\n",
       "  </tbody>\n",
       "</table>\n",
       "<p>100000 rows × 3 columns</p>\n",
       "</div>"
      ],
      "text/plain": [
       "        is_increasing  is_decreasing  is_bouncy\n",
       "1               False          False      False\n",
       "2               False          False      False\n",
       "3               False          False      False\n",
       "4               False          False      False\n",
       "5               False          False      False\n",
       "...               ...            ...        ...\n",
       "99996           False           True      False\n",
       "99997           False           True      False\n",
       "99998           False           True      False\n",
       "99999           False          False      False\n",
       "100000          False           True      False\n",
       "\n",
       "[100000 rows x 3 columns]"
      ]
     },
     "execution_count": 133,
     "metadata": {},
     "output_type": "execute_result"
    }
   ],
   "source": [
    "upper_number_limit = int(1e5)\n",
    "\n",
    "number_range = range(1, 1 + upper_number_limit)\n",
    "\n",
    "data_columns = ['is_increasing', 'is_decreasing', 'is_bouncy']\n",
    "dato = [\n",
    "    [is_increasing(numbo), is_decreasing(numbo), is_bouncy(numbo)]\n",
    "    for numbo in number_range\n",
    "]\n",
    "ndf = pd.DataFrame(dato, index = number_range, columns = data_columns)\n",
    "ndf"
   ]
  },
  {
   "cell_type": "code",
   "execution_count": 12,
   "id": "b40da43c-efde-40fe-aa82-183f8e815795",
   "metadata": {},
   "outputs": [],
   "source": [
    "ndf['cum_bouncy'] = np.cumsum(ndf['is_bouncy'])\n",
    "ndf['number'] = ndf.index\n",
    "ndf['frac_bouncy'] = ndf['cum_bouncy']/(ndf['number'])"
   ]
  },
  {
   "cell_type": "code",
   "execution_count": 15,
   "id": "107b1424-596e-4a23-b22b-21a106e1597b",
   "metadata": {},
   "outputs": [
    {
     "data": {
      "text/plain": [
       "is_increasing    False\n",
       "is_decreasing    False\n",
       "is_bouncy         True\n",
       "cum_bouncy         269\n",
       "number             538\n",
       "frac_bouncy        0.5\n",
       "Name: 538, dtype: object"
      ]
     },
     "execution_count": 15,
     "metadata": {},
     "output_type": "execute_result"
    }
   ],
   "source": [
    "ndf.loc[538]"
   ]
  },
  {
   "cell_type": "code",
   "execution_count": 16,
   "id": "847f2aa2-8e58-4346-b9fe-f7b4fabdb49c",
   "metadata": {},
   "outputs": [
    {
     "data": {
      "text/plain": [
       "<AxesSubplot:>"
      ]
     },
     "execution_count": 16,
     "metadata": {},
     "output_type": "execute_result"
    },
    {
     "data": {
      "image/png": "[encoded data removed]",
      "text/plain": [
       "<Figure size 640x480 with 1 Axes>"
      ]
     },
     "metadata": {},
     "output_type": "display_data"
    }
   ],
   "source": [
    "ndf.loc[ndf.index[500:600],'frac_bouncy'].plot()"
   ]
  },
  {
   "cell_type": "code",
   "execution_count": 19,
   "id": "d0c09278-0789-407a-b430-c68d0d556954",
   "metadata": {},
   "outputs": [
    {
     "data": {
      "text/plain": [
       "is_increasing    False\n",
       "is_decreasing    False\n",
       "is_bouncy         True\n",
       "cum_bouncy       19602\n",
       "number           21780\n",
       "frac_bouncy        0.9\n",
       "Name: 21780, dtype: object"
      ]
     },
     "execution_count": 19,
     "metadata": {},
     "output_type": "execute_result"
    }
   ],
   "source": [
    "ndf.loc[21780]"
   ]
  },
  {
   "cell_type": "code",
   "execution_count": 20,
   "id": "131aa743-2002-4f3f-beb9-230710e86422",
   "metadata": {},
   "outputs": [
    {
     "data": {
      "text/plain": [
       "is_increasing       192.000000\n",
       "is_decreasing       255.000000\n",
       "is_bouncy           525.000000\n",
       "cum_bouncy       243255.000000\n",
       "number           499500.000000\n",
       "frac_bouncy         395.883877\n",
       "dtype: float64"
      ]
     },
     "execution_count": 20,
     "metadata": {},
     "output_type": "execute_result"
    }
   ],
   "source": [
    "ndf[ndf['number']< 1000].sum()"
   ]
  },
  {
   "cell_type": "code",
   "execution_count": 21,
   "id": "fb7f6906-219e-405e-9d5b-ef68511372b7",
   "metadata": {},
   "outputs": [
    {
     "data": {
      "text/html": [
       "<div>\n",
       "<style scoped>\n",
       "    .dataframe tbody tr th:only-of-type {\n",
       "        vertical-align: middle;\n",
       "    }\n",
       "\n",
       "    .dataframe tbody tr th {\n",
       "        vertical-align: top;\n",
       "    }\n",
       "\n",
       "    .dataframe thead th {\n",
       "        text-align: right;\n",
       "    }\n",
       "</style>\n",
       "<table border=\"1\" class=\"dataframe\">\n",
       "  <thead>\n",
       "    <tr style=\"text-align: right;\">\n",
       "      <th></th>\n",
       "      <th>is_increasing</th>\n",
       "      <th>is_decreasing</th>\n",
       "      <th>is_bouncy</th>\n",
       "      <th>cum_bouncy</th>\n",
       "      <th>number</th>\n",
       "      <th>frac_bouncy</th>\n",
       "    </tr>\n",
       "  </thead>\n",
       "  <tbody>\n",
       "  </tbody>\n",
       "</table>\n",
       "</div>"
      ],
      "text/plain": [
       "Empty DataFrame\n",
       "Columns: [is_increasing, is_decreasing, is_bouncy, cum_bouncy, number, frac_bouncy]\n",
       "Index: []"
      ]
     },
     "execution_count": 21,
     "metadata": {},
     "output_type": "execute_result"
    }
   ],
   "source": [
    "ndf[ndf['frac_bouncy'] == 0.99]"
   ]
  },
  {
   "cell_type": "code",
   "execution_count": 29,
   "id": "d2bfec00-c2d9-470c-b3ed-b4cbaa1108e9",
   "metadata": {},
   "outputs": [],
   "source": [
    "new_upper_number_limit = int(2e5)\n",
    "new_lower_number_limit = int(1e5)\n",
    "\n",
    "number_range = range(new_lower_number_limit, 1 + new_upper_number_limit)\n",
    "\n",
    "data_columns = ['is_increasing', 'is_decreasing', 'is_bouncy', 'number']\n",
    "dato = [\n",
    "    [is_increasing(numbo), is_decreasing(numbo), is_bouncy(numbo), numbo]\n",
    "    for numbo in number_range\n",
    "]\n",
    "ndd = pd.concat([ndf, pd.DataFrame(dato, columns = data_columns, index = number_range)])"
   ]
  },
  {
   "cell_type": "code",
   "execution_count": 30,
   "id": "78197d48-1527-4a56-ab39-dd7017236bec",
   "metadata": {},
   "outputs": [
    {
     "data": {
      "text/html": [
       "<div>\n",
       "<style scoped>\n",
       "    .dataframe tbody tr th:only-of-type {\n",
       "        vertical-align: middle;\n",
       "    }\n",
       "\n",
       "    .dataframe tbody tr th {\n",
       "        vertical-align: top;\n",
       "    }\n",
       "\n",
       "    .dataframe thead th {\n",
       "        text-align: right;\n",
       "    }\n",
       "</style>\n",
       "<table border=\"1\" class=\"dataframe\">\n",
       "  <thead>\n",
       "    <tr style=\"text-align: right;\">\n",
       "      <th></th>\n",
       "      <th>is_increasing</th>\n",
       "      <th>is_decreasing</th>\n",
       "      <th>is_bouncy</th>\n",
       "      <th>cum_bouncy</th>\n",
       "      <th>number</th>\n",
       "      <th>frac_bouncy</th>\n",
       "    </tr>\n",
       "  </thead>\n",
       "  <tbody>\n",
       "    <tr>\n",
       "      <th>1</th>\n",
       "      <td>False</td>\n",
       "      <td>False</td>\n",
       "      <td>False</td>\n",
       "      <td>0.0</td>\n",
       "      <td>1</td>\n",
       "      <td>0.0</td>\n",
       "    </tr>\n",
       "    <tr>\n",
       "      <th>2</th>\n",
       "      <td>False</td>\n",
       "      <td>False</td>\n",
       "      <td>False</td>\n",
       "      <td>0.0</td>\n",
       "      <td>2</td>\n",
       "      <td>0.0</td>\n",
       "    </tr>\n",
       "    <tr>\n",
       "      <th>3</th>\n",
       "      <td>False</td>\n",
       "      <td>False</td>\n",
       "      <td>False</td>\n",
       "      <td>0.0</td>\n",
       "      <td>3</td>\n",
       "      <td>0.0</td>\n",
       "    </tr>\n",
       "    <tr>\n",
       "      <th>4</th>\n",
       "      <td>False</td>\n",
       "      <td>False</td>\n",
       "      <td>False</td>\n",
       "      <td>0.0</td>\n",
       "      <td>4</td>\n",
       "      <td>0.0</td>\n",
       "    </tr>\n",
       "    <tr>\n",
       "      <th>5</th>\n",
       "      <td>False</td>\n",
       "      <td>False</td>\n",
       "      <td>False</td>\n",
       "      <td>0.0</td>\n",
       "      <td>5</td>\n",
       "      <td>0.0</td>\n",
       "    </tr>\n",
       "    <tr>\n",
       "      <th>...</th>\n",
       "      <td>...</td>\n",
       "      <td>...</td>\n",
       "      <td>...</td>\n",
       "      <td>...</td>\n",
       "      <td>...</td>\n",
       "      <td>...</td>\n",
       "    </tr>\n",
       "    <tr>\n",
       "      <th>199996</th>\n",
       "      <td>False</td>\n",
       "      <td>False</td>\n",
       "      <td>True</td>\n",
       "      <td>NaN</td>\n",
       "      <td>199996</td>\n",
       "      <td>NaN</td>\n",
       "    </tr>\n",
       "    <tr>\n",
       "      <th>199997</th>\n",
       "      <td>False</td>\n",
       "      <td>False</td>\n",
       "      <td>True</td>\n",
       "      <td>NaN</td>\n",
       "      <td>199997</td>\n",
       "      <td>NaN</td>\n",
       "    </tr>\n",
       "    <tr>\n",
       "      <th>199998</th>\n",
       "      <td>False</td>\n",
       "      <td>False</td>\n",
       "      <td>True</td>\n",
       "      <td>NaN</td>\n",
       "      <td>199998</td>\n",
       "      <td>NaN</td>\n",
       "    </tr>\n",
       "    <tr>\n",
       "      <th>199999</th>\n",
       "      <td>True</td>\n",
       "      <td>False</td>\n",
       "      <td>False</td>\n",
       "      <td>NaN</td>\n",
       "      <td>199999</td>\n",
       "      <td>NaN</td>\n",
       "    </tr>\n",
       "    <tr>\n",
       "      <th>200000</th>\n",
       "      <td>False</td>\n",
       "      <td>True</td>\n",
       "      <td>False</td>\n",
       "      <td>NaN</td>\n",
       "      <td>200000</td>\n",
       "      <td>NaN</td>\n",
       "    </tr>\n",
       "  </tbody>\n",
       "</table>\n",
       "<p>200001 rows × 6 columns</p>\n",
       "</div>"
      ],
      "text/plain": [
       "        is_increasing  is_decreasing  is_bouncy  cum_bouncy  number  \\\n",
       "1               False          False      False         0.0       1   \n",
       "2               False          False      False         0.0       2   \n",
       "3               False          False      False         0.0       3   \n",
       "4               False          False      False         0.0       4   \n",
       "5               False          False      False         0.0       5   \n",
       "...               ...            ...        ...         ...     ...   \n",
       "199996          False          False       True         NaN  199996   \n",
       "199997          False          False       True         NaN  199997   \n",
       "199998          False          False       True         NaN  199998   \n",
       "199999           True          False      False         NaN  199999   \n",
       "200000          False           True      False         NaN  200000   \n",
       "\n",
       "        frac_bouncy  \n",
       "1               0.0  \n",
       "2               0.0  \n",
       "3               0.0  \n",
       "4               0.0  \n",
       "5               0.0  \n",
       "...             ...  \n",
       "199996          NaN  \n",
       "199997          NaN  \n",
       "199998          NaN  \n",
       "199999          NaN  \n",
       "200000          NaN  \n",
       "\n",
       "[200001 rows x 6 columns]"
      ]
     },
     "execution_count": 30,
     "metadata": {},
     "output_type": "execute_result"
    }
   ],
   "source": [
    "ndd"
   ]
  },
  {
   "cell_type": "code",
   "execution_count": 80,
   "id": "5efcc5a3-dad3-49b1-9011-0c561759c081",
   "metadata": {},
   "outputs": [],
   "source": [
    "import datetime as dt"
   ]
  },
  {
   "cell_type": "code",
   "execution_count": 101,
   "id": "0c091f87-d750-4d34-933f-0740328a6ab9",
   "metadata": {
    "tags": []
   },
   "outputs": [],
   "source": [
    "def update_df_with_number_up_to(the_dataframe, upper_number, lower_number = 1, verbose = True):\n",
    "    if 'datetime' not in globals():\n",
    "        import datetime\n",
    "    if verbose:\n",
    "        start_time = datetime.datetime.now()\n",
    "    new_upper_number_limit = int(upper_number)\n",
    "    new_lower_number_limit = int(lower_number)\n",
    "\n",
    "    number_range = range(new_lower_number_limit, 1 + new_upper_number_limit)\n",
    "    \n",
    "    \n",
    "    if lower_number == 1:\n",
    "        new_index = [ number for number in number_range if number not in the_dataframe.index]\n",
    "    else:\n",
    "        new_index = number_range\n",
    "        \n",
    "    if verbose:\n",
    "        print(f'Creating data for numbers between {min(new_index)} and {max(new_index)}')\n",
    "    data_columns = ['is_increasing', 'is_decreasing', 'is_bouncy', 'number']\n",
    "    dato = [\n",
    "        [is_increasing(numbo), is_decreasing(numbo), is_bouncy(numbo), numbo]\n",
    "        for numbo in new_index\n",
    "    ]\n",
    "    elapsed_time_total_seconds = (datetime.datetime.now() - start_time).total_seconds()\n",
    "    elapsed_time_min = elapsed_time_total_seconds // 60\n",
    "    elapsed_time_seconds = elapsed_time_total_seconds % 60\n",
    "    if verbose:\n",
    "        print(f'Done! The process took {elapsed_time_min} minutes {elapsed_time_seconds} seconds.')\n",
    "    \n",
    "    new_df = pd.concat([the_dataframe, pd.DataFrame(dato, columns = data_columns, index = new_index)])\n",
    "    return new_df"
   ]
  },
  {
   "cell_type": "code",
   "execution_count": 102,
   "id": "be4c352d-1ccd-46ad-8bbf-f533dbb41c28",
   "metadata": {},
   "outputs": [
    {
     "name": "stdout",
     "output_type": "stream",
     "text": [
      "Creating data for numbers between 100001 and 500000\n",
      "Done! The process took 0.0 minutes 47.514703 seconds.\n",
      "CPU times: total: 48.4 s\n",
      "Wall time: 48.5 s\n"
     ]
    },
    {
     "data": {
      "text/plain": [
       "(        is_increasing  is_decreasing  is_bouncy  cum_bouncy  number  \\\n",
       " 499996          False          False       True         NaN  499996   \n",
       " 499997          False          False       True         NaN  499997   \n",
       " 499998          False          False       True         NaN  499998   \n",
       " 499999           True          False      False         NaN  499999   \n",
       " 500000          False           True      False         NaN  500000   \n",
       " \n",
       "         frac_bouncy  \n",
       " 499996          NaN  \n",
       " 499997          NaN  \n",
       " 499998          NaN  \n",
       " 499999          NaN  \n",
       " 500000          NaN  ,\n",
       "    is_increasing  is_decreasing  is_bouncy  cum_bouncy  number  frac_bouncy\n",
       " 1          False          False      False         0.0       1          0.0\n",
       " 2          False          False      False         0.0       2          0.0\n",
       " 3          False          False      False         0.0       3          0.0\n",
       " 4          False          False      False         0.0       4          0.0\n",
       " 5          False          False      False         0.0       5          0.0)"
      ]
     },
     "execution_count": 102,
     "metadata": {},
     "output_type": "execute_result"
    }
   ],
   "source": [
    "%%time\n",
    "ndf = update_df_with_number_up_to(ndf, 5e5)\n",
    "ndf.tail(), ndf.head()"
   ]
  },
  {
   "cell_type": "code",
   "execution_count": 103,
   "id": "55209dad-2c08-4c2a-9852-2b2dd66eda12",
   "metadata": {},
   "outputs": [
    {
     "data": {
      "text/plain": [
       "500000"
      ]
     },
     "execution_count": 103,
     "metadata": {},
     "output_type": "execute_result"
    }
   ],
   "source": [
    "len(ndf)"
   ]
  },
  {
   "cell_type": "code",
   "execution_count": 104,
   "id": "e21de4cb-8c2c-4dbd-ad15-c66e96bb78e2",
   "metadata": {},
   "outputs": [
    {
     "data": {
      "text/html": [
       "<div>\n",
       "<style scoped>\n",
       "    .dataframe tbody tr th:only-of-type {\n",
       "        vertical-align: middle;\n",
       "    }\n",
       "\n",
       "    .dataframe tbody tr th {\n",
       "        vertical-align: top;\n",
       "    }\n",
       "\n",
       "    .dataframe thead th {\n",
       "        text-align: right;\n",
       "    }\n",
       "</style>\n",
       "<table border=\"1\" class=\"dataframe\">\n",
       "  <thead>\n",
       "    <tr style=\"text-align: right;\">\n",
       "      <th></th>\n",
       "      <th>is_increasing</th>\n",
       "      <th>is_decreasing</th>\n",
       "      <th>is_bouncy</th>\n",
       "      <th>cum_bouncy</th>\n",
       "      <th>number</th>\n",
       "      <th>frac_bouncy</th>\n",
       "    </tr>\n",
       "  </thead>\n",
       "  <tbody>\n",
       "    <tr>\n",
       "      <th>21780</th>\n",
       "      <td>False</td>\n",
       "      <td>False</td>\n",
       "      <td>True</td>\n",
       "      <td>19602.0</td>\n",
       "      <td>21780</td>\n",
       "      <td>0.9</td>\n",
       "    </tr>\n",
       "    <tr>\n",
       "      <th>23070</th>\n",
       "      <td>False</td>\n",
       "      <td>False</td>\n",
       "      <td>True</td>\n",
       "      <td>20763.0</td>\n",
       "      <td>23070</td>\n",
       "      <td>0.9</td>\n",
       "    </tr>\n",
       "    <tr>\n",
       "      <th>23460</th>\n",
       "      <td>False</td>\n",
       "      <td>False</td>\n",
       "      <td>True</td>\n",
       "      <td>21114.0</td>\n",
       "      <td>23460</td>\n",
       "      <td>0.9</td>\n",
       "    </tr>\n",
       "    <tr>\n",
       "      <th>23870</th>\n",
       "      <td>False</td>\n",
       "      <td>False</td>\n",
       "      <td>True</td>\n",
       "      <td>21483.0</td>\n",
       "      <td>23870</td>\n",
       "      <td>0.9</td>\n",
       "    </tr>\n",
       "    <tr>\n",
       "      <th>23890</th>\n",
       "      <td>False</td>\n",
       "      <td>False</td>\n",
       "      <td>True</td>\n",
       "      <td>21501.0</td>\n",
       "      <td>23890</td>\n",
       "      <td>0.9</td>\n",
       "    </tr>\n",
       "    <tr>\n",
       "      <th>23900</th>\n",
       "      <td>False</td>\n",
       "      <td>False</td>\n",
       "      <td>True</td>\n",
       "      <td>21510.0</td>\n",
       "      <td>23900</td>\n",
       "      <td>0.9</td>\n",
       "    </tr>\n",
       "  </tbody>\n",
       "</table>\n",
       "</div>"
      ],
      "text/plain": [
       "       is_increasing  is_decreasing  is_bouncy  cum_bouncy  number  \\\n",
       "21780          False          False       True     19602.0   21780   \n",
       "23070          False          False       True     20763.0   23070   \n",
       "23460          False          False       True     21114.0   23460   \n",
       "23870          False          False       True     21483.0   23870   \n",
       "23890          False          False       True     21501.0   23890   \n",
       "23900          False          False       True     21510.0   23900   \n",
       "\n",
       "       frac_bouncy  \n",
       "21780          0.9  \n",
       "23070          0.9  \n",
       "23460          0.9  \n",
       "23870          0.9  \n",
       "23890          0.9  \n",
       "23900          0.9  "
      ]
     },
     "execution_count": 104,
     "metadata": {},
     "output_type": "execute_result"
    }
   ],
   "source": [
    "ndf[ndf['frac_bouncy'] == 0.9]"
   ]
  },
  {
   "cell_type": "code",
   "execution_count": 105,
   "id": "b5c64805-a5ff-458d-8006-f505210b638e",
   "metadata": {},
   "outputs": [
    {
     "data": {
      "text/html": [
       "<div>\n",
       "<style scoped>\n",
       "    .dataframe tbody tr th:only-of-type {\n",
       "        vertical-align: middle;\n",
       "    }\n",
       "\n",
       "    .dataframe tbody tr th {\n",
       "        vertical-align: top;\n",
       "    }\n",
       "\n",
       "    .dataframe thead th {\n",
       "        text-align: right;\n",
       "    }\n",
       "</style>\n",
       "<table border=\"1\" class=\"dataframe\">\n",
       "  <thead>\n",
       "    <tr style=\"text-align: right;\">\n",
       "      <th></th>\n",
       "      <th>is_increasing</th>\n",
       "      <th>is_decreasing</th>\n",
       "      <th>is_bouncy</th>\n",
       "      <th>cum_bouncy</th>\n",
       "      <th>number</th>\n",
       "      <th>frac_bouncy</th>\n",
       "    </tr>\n",
       "  </thead>\n",
       "  <tbody>\n",
       "  </tbody>\n",
       "</table>\n",
       "</div>"
      ],
      "text/plain": [
       "Empty DataFrame\n",
       "Columns: [is_increasing, is_decreasing, is_bouncy, cum_bouncy, number, frac_bouncy]\n",
       "Index: []"
      ]
     },
     "execution_count": 105,
     "metadata": {},
     "output_type": "execute_result"
    }
   ],
   "source": [
    "ndf[ndf['frac_bouncy'] == 0.99 ]"
   ]
  },
  {
   "cell_type": "markdown",
   "id": "d23f3b57-651e-4aa9-bca4-9675ff0476e3",
   "metadata": {},
   "source": [
    "The number isn't less than 500k! Let's see if we can predict around where it'll be."
   ]
  },
  {
   "cell_type": "code",
   "execution_count": 108,
   "id": "3e8b5d8c-8e74-40b9-a8f8-4c3b7c5bc47f",
   "metadata": {},
   "outputs": [
    {
     "data": {
      "text/plain": [
       "<AxesSubplot:>"
      ]
     },
     "execution_count": 108,
     "metadata": {},
     "output_type": "execute_result"
    },
    {
     "data": {
      "image/png": "[encoded data removed]",
      "text/plain": [
       "<Figure size 640x480 with 1 Axes>"
      ]
     },
     "metadata": {},
     "output_type": "display_data"
    }
   ],
   "source": [
    "ndf['frac_bouncy'][10000:].plot()"
   ]
  },
  {
   "cell_type": "code",
   "execution_count": 110,
   "id": "72032c53-2ec3-4273-817a-f504d28c1a45",
   "metadata": {},
   "outputs": [],
   "source": [
    "ndf['cum_bouncy'] = np.cumsum(ndf['is_bouncy'])\n",
    "ndf['number'] = ndf.index\n",
    "ndf['frac_bouncy'] = ndf['cum_bouncy']/(ndf['number'])"
   ]
  },
  {
   "cell_type": "code",
   "execution_count": 113,
   "id": "54b5fef7-843b-4b79-9848-0ce6eaffc67f",
   "metadata": {},
   "outputs": [
    {
     "data": {
      "text/plain": [
       "<AxesSubplot:>"
      ]
     },
     "execution_count": 113,
     "metadata": {},
     "output_type": "execute_result"
    },
    {
     "data": {
      "image/png": "[encoded data removed]",
      "text/plain": [
       "<Figure size 640x480 with 1 Axes>"
      ]
     },
     "metadata": {},
     "output_type": "display_data"
    }
   ],
   "source": [
    "ndf['frac_bouncy'][300000:].plot()"
   ]
  },
  {
   "cell_type": "code",
   "execution_count": 117,
   "id": "1859b40d-3016-456a-85e3-e8c512c2b186",
   "metadata": {},
   "outputs": [],
   "source": [
    "average_increase = (ndf.loc[500000,'frac_bouncy'] - ndf.loc[300000, 'frac_bouncy'])/(500000-300000)"
   ]
  },
  {
   "cell_type": "code",
   "execution_count": 119,
   "id": "7c8fe6f7-0453-46ad-9165-1ca7c1432c6d",
   "metadata": {},
   "outputs": [
    {
     "data": {
      "text/plain": [
       "154906.41945076143"
      ]
     },
     "execution_count": 119,
     "metadata": {},
     "output_type": "execute_result"
    }
   ],
   "source": [
    "# ndf.loc[500000, 'frac_bouncy'] + average_increase * x == 0.99\n",
    "\n",
    "(0.99 - ndf.loc[500000, 'frac_bouncy'])/average_increase"
   ]
  },
  {
   "cell_type": "code",
   "execution_count": 134,
   "id": "76dd1fa8-0f87-435a-81a8-4a9359cdf28f",
   "metadata": {},
   "outputs": [
    {
     "name": "stdout",
     "output_type": "stream",
     "text": [
      "Creating data for numbers between 100000 and 1000000\n",
      "Done! The process took 1.0 minutes 39.663196 seconds.\n",
      "CPU times: total: 1min 40s\n",
      "Wall time: 1min 41s\n"
     ]
    },
    {
     "data": {
      "text/plain": [
       "(         is_increasing  is_decreasing  is_bouncy     number\n",
       " 999996           False           True      False   999996.0\n",
       " 999997           False           True      False   999997.0\n",
       " 999998           False           True      False   999998.0\n",
       " 999999           False          False      False   999999.0\n",
       " 1000000          False           True      False  1000000.0,\n",
       "    is_increasing  is_decreasing  is_bouncy  number\n",
       " 1          False          False      False     NaN\n",
       " 2          False          False      False     NaN\n",
       " 3          False          False      False     NaN\n",
       " 4          False          False      False     NaN\n",
       " 5          False          False      False     NaN)"
      ]
     },
     "execution_count": 134,
     "metadata": {},
     "output_type": "execute_result"
    }
   ],
   "source": [
    "%%time\n",
    "ndf = update_df_with_number_up_to(ndf, 1e6, 1e5)\n",
    "ndf.tail(), ndf.head()"
   ]
  },
  {
   "cell_type": "code",
   "execution_count": 135,
   "id": "dd417547-ff70-4d5e-9437-8be11b0703f8",
   "metadata": {},
   "outputs": [],
   "source": [
    "ndf['cum_bouncy'] = np.cumsum(ndf['is_bouncy'])\n",
    "ndf['number'] = ndf.index\n",
    "ndf['frac_bouncy'] = ndf['cum_bouncy']/(ndf['number'])"
   ]
  },
  {
   "cell_type": "code",
   "execution_count": 136,
   "id": "530ede58-5366-4200-b6cc-0866aabb9911",
   "metadata": {},
   "outputs": [
    {
     "data": {
      "text/html": [
       "<div>\n",
       "<style scoped>\n",
       "    .dataframe tbody tr th:only-of-type {\n",
       "        vertical-align: middle;\n",
       "    }\n",
       "\n",
       "    .dataframe tbody tr th {\n",
       "        vertical-align: top;\n",
       "    }\n",
       "\n",
       "    .dataframe thead th {\n",
       "        text-align: right;\n",
       "    }\n",
       "</style>\n",
       "<table border=\"1\" class=\"dataframe\">\n",
       "  <thead>\n",
       "    <tr style=\"text-align: right;\">\n",
       "      <th></th>\n",
       "      <th>is_increasing</th>\n",
       "      <th>is_decreasing</th>\n",
       "      <th>is_bouncy</th>\n",
       "      <th>number</th>\n",
       "      <th>cum_bouncy</th>\n",
       "      <th>frac_bouncy</th>\n",
       "    </tr>\n",
       "  </thead>\n",
       "  <tbody>\n",
       "  </tbody>\n",
       "</table>\n",
       "</div>"
      ],
      "text/plain": [
       "Empty DataFrame\n",
       "Columns: [is_increasing, is_decreasing, is_bouncy, number, cum_bouncy, frac_bouncy]\n",
       "Index: []"
      ]
     },
     "execution_count": 136,
     "metadata": {},
     "output_type": "execute_result"
    }
   ],
   "source": [
    "ndf[ndf['frac_bouncy'] >= 0.99]"
   ]
  },
  {
   "cell_type": "code",
   "execution_count": 137,
   "id": "fca36fa9-b0bd-4003-91a2-71b1a0e72456",
   "metadata": {},
   "outputs": [
    {
     "data": {
      "text/plain": [
       "<AxesSubplot:>"
      ]
     },
     "execution_count": 137,
     "metadata": {},
     "output_type": "execute_result"
    },
    {
     "data": {
      "image/png": "[encoded data removed]",
      "text/plain": [
       "<Figure size 640x480 with 1 Axes>"
      ]
     },
     "metadata": {},
     "output_type": "display_data"
    }
   ],
   "source": [
    "ndf['frac_bouncy'].plot()"
   ]
  },
  {
   "cell_type": "code",
   "execution_count": 138,
   "id": "7bf731fe-8883-4766-bfdb-3c2d17ce33c4",
   "metadata": {},
   "outputs": [
    {
     "data": {
      "text/plain": [
       "999996     0.987052\n",
       "999997     0.987051\n",
       "999998     0.987050\n",
       "999999     0.987049\n",
       "1000000    0.987048\n",
       "Name: frac_bouncy, dtype: float64"
      ]
     },
     "execution_count": 138,
     "metadata": {},
     "output_type": "execute_result"
    }
   ],
   "source": [
    "ndf['frac_bouncy'].tail()"
   ]
  },
  {
   "cell_type": "code",
   "execution_count": 142,
   "id": "ac306fcb-8674-4f78-8e4c-830a270e8100",
   "metadata": {},
   "outputs": [
    {
     "data": {
      "text/plain": [
       "<AxesSubplot:>"
      ]
     },
     "execution_count": 142,
     "metadata": {},
     "output_type": "execute_result"
    },
    {
     "data": {
      "image/png": "[encoded data removed]",
      "text/plain": [
       "<Figure size 640x480 with 1 Axes>"
      ]
     },
     "metadata": {},
     "output_type": "display_data"
    }
   ],
   "source": [
    "ndf[ndf['frac_bouncy'] > 0.98]['frac_bouncy'].plot()"
   ]
  },
  {
   "cell_type": "code",
   "execution_count": 143,
   "id": "482c534a-a5a1-4cb6-af5d-d0f6c5714e7c",
   "metadata": {},
   "outputs": [
    {
     "name": "stdout",
     "output_type": "stream",
     "text": [
      "Creating data for numbers between 1000000 and 2000000\n",
      "Done! The process took 1.0 minutes 56.323781 seconds.\n",
      "CPU times: total: 1min 56s\n",
      "Wall time: 1min 57s\n"
     ]
    }
   ],
   "source": [
    "%%time\n",
    "ndf = update_df_with_number_up_to(ndf, 2e6, 1e6)\n",
    "ndf.tail(), ndf.head()\n",
    "\n",
    "ndf['cum_bouncy'] = np.cumsum(ndf['is_bouncy'])\n",
    "ndf['number'] = ndf.index\n",
    "ndf['frac_bouncy'] = ndf['cum_bouncy']/(ndf['number'])"
   ]
  },
  {
   "cell_type": "code",
   "execution_count": 144,
   "id": "7cb6445e-b375-4506-9f96-b35f2dab7146",
   "metadata": {},
   "outputs": [
    {
     "data": {
      "text/plain": [
       "<AxesSubplot:>"
      ]
     },
     "execution_count": 144,
     "metadata": {},
     "output_type": "execute_result"
    },
    {
     "data": {
      "image/png": "[encoded data removed]",
      "text/plain": [
       "<Figure size 640x480 with 1 Axes>"
      ]
     },
     "metadata": {},
     "output_type": "display_data"
    }
   ],
   "source": [
    "ndf[ndf['frac_bouncy'] > 0.98]['frac_bouncy'].plot()"
   ]
  },
  {
   "cell_type": "code",
   "execution_count": 145,
   "id": "041948a9-5437-4a03-8edd-83f311d6abf7",
   "metadata": {},
   "outputs": [
    {
     "data": {
      "text/html": [
       "<div>\n",
       "<style scoped>\n",
       "    .dataframe tbody tr th:only-of-type {\n",
       "        vertical-align: middle;\n",
       "    }\n",
       "\n",
       "    .dataframe tbody tr th {\n",
       "        vertical-align: top;\n",
       "    }\n",
       "\n",
       "    .dataframe thead th {\n",
       "        text-align: right;\n",
       "    }\n",
       "</style>\n",
       "<table border=\"1\" class=\"dataframe\">\n",
       "  <thead>\n",
       "    <tr style=\"text-align: right;\">\n",
       "      <th></th>\n",
       "      <th>is_increasing</th>\n",
       "      <th>is_decreasing</th>\n",
       "      <th>is_bouncy</th>\n",
       "      <th>number</th>\n",
       "      <th>cum_bouncy</th>\n",
       "      <th>frac_bouncy</th>\n",
       "    </tr>\n",
       "  </thead>\n",
       "  <tbody>\n",
       "    <tr>\n",
       "      <th>1587000</th>\n",
       "      <td>False</td>\n",
       "      <td>False</td>\n",
       "      <td>True</td>\n",
       "      <td>1587000</td>\n",
       "      <td>1571130</td>\n",
       "      <td>0.99</td>\n",
       "    </tr>\n",
       "  </tbody>\n",
       "</table>\n",
       "</div>"
      ],
      "text/plain": [
       "         is_increasing  is_decreasing  is_bouncy   number  cum_bouncy  \\\n",
       "1587000          False          False       True  1587000     1571130   \n",
       "\n",
       "         frac_bouncy  \n",
       "1587000         0.99  "
      ]
     },
     "execution_count": 145,
     "metadata": {},
     "output_type": "execute_result"
    }
   ],
   "source": [
    "ndf[ndf['frac_bouncy'] == 0.99]"
   ]
  },
  {
   "cell_type": "code",
   "execution_count": null,
   "id": "7d6a1c4b-f413-4b8d-baa1-2b22751e3e39",
   "metadata": {},
   "outputs": [],
   "source": []
  }
 ],
 "metadata": {
  "kernelspec": {
   "display_name": "Python 3 (ipykernel)",
   "language": "python",
   "name": "python3"
  },
  "language_info": {
   "codemirror_mode": {
    "name": "ipython",
    "version": 3
   },
   "file_extension": ".py",
   "mimetype": "text/x-python",
   "name": "python",
   "nbconvert_exporter": "python",
   "pygments_lexer": "ipython3",
   "version": "3.10.7"
  }
 },
 "nbformat": 4,
 "nbformat_minor": 5
}
