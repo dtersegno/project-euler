{
 "cells": [
  {
   "cell_type": "markdown",
   "id": "c66df8ba-58f0-4e41-a4ec-0cf94df8ced4",
   "metadata": {},
   "source": [
    "Distinct powers\n",
    "---\n",
    "\n",
    "consider all integer combinations of $a^b$ for $a,b \\in \\left[2,5\\right]$."
   ]
  },
  {
   "cell_type": "code",
   "execution_count": null,
   "id": "d458e961-48e8-4bd5-9bc5-83b7ae2695a6",
   "metadata": {},
   "outputs": [],
   "source": []
  }
 ],
 "metadata": {
  "kernelspec": {
   "display_name": "Python 3 (ipykernel)",
   "language": "python",
   "name": "python3"
  },
  "language_info": {
   "codemirror_mode": {
    "name": "ipython",
    "version": 3
   },
   "file_extension": ".py",
   "mimetype": "text/x-python",
   "name": "python",
   "nbconvert_exporter": "python",
   "pygments_lexer": "ipython3",
   "version": "3.10.7"
  }
 },
 "nbformat": 4,
 "nbformat_minor": 5
}
