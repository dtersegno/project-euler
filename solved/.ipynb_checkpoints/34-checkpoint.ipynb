{
 "cells": [
  {
   "cell_type": "markdown",
   "id": "7bc1cc1a-6495-47be-9271-4bf601066aac",
   "metadata": {},
   "source": [
    "Digit factorials\n",
    "---\n",
    "\n",
    "145 is a curious number, as $1! + 4! + 5! = 1 + 24 + 120 = 145$.\n",
    "\n",
    "Find the sum of all numbers which are equal to the sum of the factorial of their digits.\n",
    "\n",
    "(note: as 1! = 1 and 2! = 2 are not sum, they are not included)."
   ]
  },
  {
   "cell_type": "code",
   "execution_count": 54,
   "id": "c8d4ec34-7948-4826-adad-0f6aacbf906b",
   "metadata": {},
   "outputs": [
    {
     "data": {
      "text/html": [
       "<div>\n",
       "<style scoped>\n",
       "    .dataframe tbody tr th:only-of-type {\n",
       "        vertical-align: middle;\n",
       "    }\n",
       "\n",
       "    .dataframe tbody tr th {\n",
       "        vertical-align: top;\n",
       "    }\n",
       "\n",
       "    .dataframe thead th {\n",
       "        text-align: right;\n",
       "    }\n",
       "</style>\n",
       "<table border=\"1\" class=\"dataframe\">\n",
       "  <thead>\n",
       "    <tr style=\"text-align: right;\">\n",
       "      <th></th>\n",
       "      <th>factorial</th>\n",
       "    </tr>\n",
       "  </thead>\n",
       "  <tbody>\n",
       "    <tr>\n",
       "      <th>2</th>\n",
       "      <td>2</td>\n",
       "    </tr>\n",
       "    <tr>\n",
       "      <th>3</th>\n",
       "      <td>6</td>\n",
       "    </tr>\n",
       "    <tr>\n",
       "      <th>4</th>\n",
       "      <td>24</td>\n",
       "    </tr>\n",
       "    <tr>\n",
       "      <th>5</th>\n",
       "      <td>120</td>\n",
       "    </tr>\n",
       "    <tr>\n",
       "      <th>6</th>\n",
       "      <td>720</td>\n",
       "    </tr>\n",
       "    <tr>\n",
       "      <th>7</th>\n",
       "      <td>5040</td>\n",
       "    </tr>\n",
       "    <tr>\n",
       "      <th>8</th>\n",
       "      <td>40320</td>\n",
       "    </tr>\n",
       "    <tr>\n",
       "      <th>9</th>\n",
       "      <td>362880</td>\n",
       "    </tr>\n",
       "  </tbody>\n",
       "</table>\n",
       "</div>"
      ],
      "text/plain": [
       "   factorial\n",
       "2          2\n",
       "3          6\n",
       "4         24\n",
       "5        120\n",
       "6        720\n",
       "7       5040\n",
       "8      40320\n",
       "9     362880"
      ]
     },
     "execution_count": 54,
     "metadata": {},
     "output_type": "execute_result"
    }
   ],
   "source": [
    "import numpy as np\n",
    "import pandas as pd\n",
    "\n",
    "def fact(num, dataframe):\n",
    "    if num < 0:\n",
    "        raise(ValueError(\"Can't take factorial of a negative number without getting a mathematician too excited. Turn back.\"))\n",
    "    elif num == 0:\n",
    "        return 1\n",
    "    elif num == 1:\n",
    "        return 1\n",
    "    elif num in dataframe.index:\n",
    "        return int(dataframe.loc[num, 'factorial'])\n",
    "    else:\n",
    "        factorial = int(num * fact(num-1, dataframe))\n",
    "        dataframe.loc[num, 'factorial'] = factorial\n",
    "        return factorial\n",
    "    \n",
    "def digit_factorial_sum(number, df):\n",
    "    stringed_num = str(number)\n",
    "    the_facts = map(lambda numbo: fact(int(numbo), df), [digit for digit in stringed_num])\n",
    "    summed_facts = sum(the_facts)\n",
    "    return summed_facts\n",
    "\n",
    "fdf = pd.DataFrame([2], columns = ['factorial'], index = [2]).astype(int)\n",
    "\n",
    "fact(9, fdf)\n",
    "fdf = fdf.astype(int)\n",
    "fdf"
   ]
  },
  {
   "cell_type": "code",
   "execution_count": 51,
   "id": "3457bbc9-07fe-434b-95ad-712c2b921823",
   "metadata": {},
   "outputs": [
    {
     "data": {
      "text/plain": [
       "145"
      ]
     },
     "execution_count": 51,
     "metadata": {},
     "output_type": "execute_result"
    }
   ],
   "source": [
    "digit_factorial_sum(145, fdf)"
   ]
  },
  {
   "cell_type": "markdown",
   "id": "5f77d24e-9787-4919-81df-0bb8c1e8af4f",
   "metadata": {},
   "source": [
    "It seems that a number of all 2s will never rise high enough.\n",
    "A number of all 9s is always going to be too big a sum.\n",
    "\n",
    "No number less than 5040 can have a 7 in it and be the sum of its digit factorials.\n",
    "No number less than 40320 can have an 8 in it and...\n",
    "No number less than 362880 can have a 9 in it and ...\n",
    "\n",
    "999000 might be something close to its factorial sum."
   ]
  },
  {
   "cell_type": "code",
   "execution_count": 57,
   "id": "017878b6-65c0-4d4c-b1d1-83335edca54c",
   "metadata": {},
   "outputs": [
    {
     "data": {
      "text/plain": [
       "1088643"
      ]
     },
     "execution_count": 57,
     "metadata": {},
     "output_type": "execute_result"
    }
   ],
   "source": [
    "digit_factorial_sum(999000,fdf)"
   ]
  },
  {
   "cell_type": "markdown",
   "id": "ea51cc87-7957-4a54-bd60-2a8a7998ddc0",
   "metadata": {},
   "source": [
    "only off by about 90k."
   ]
  },
  {
   "cell_type": "markdown",
   "id": "4684097d-e131-4385-ab48-22454e49aabf",
   "metadata": {},
   "source": [
    "But there must be a largest number that works, right? Let's just look at the lowest..."
   ]
  },
  {
   "cell_type": "code",
   "execution_count": 74,
   "id": "064dca7b-879f-44bd-9edc-0f2766133b1d",
   "metadata": {},
   "outputs": [
    {
     "name": "stdout",
     "output_type": "stream",
     "text": [
      "CPU times: total: 0 ns\n",
      "Wall time: 0 ns\n"
     ]
    },
    {
     "data": {
      "text/html": [
       "<div>\n",
       "<style scoped>\n",
       "    .dataframe tbody tr th:only-of-type {\n",
       "        vertical-align: middle;\n",
       "    }\n",
       "\n",
       "    .dataframe tbody tr th {\n",
       "        vertical-align: top;\n",
       "    }\n",
       "\n",
       "    .dataframe thead th {\n",
       "        text-align: right;\n",
       "    }\n",
       "</style>\n",
       "<table border=\"1\" class=\"dataframe\">\n",
       "  <thead>\n",
       "    <tr style=\"text-align: right;\">\n",
       "      <th></th>\n",
       "      <th>number</th>\n",
       "      <th>factorial_sum</th>\n",
       "      <th>fact_sum_equal</th>\n",
       "    </tr>\n",
       "  </thead>\n",
       "  <tbody>\n",
       "    <tr>\n",
       "      <th>0</th>\n",
       "      <td>10</td>\n",
       "      <td>2</td>\n",
       "      <td>False</td>\n",
       "    </tr>\n",
       "    <tr>\n",
       "      <th>1</th>\n",
       "      <td>11</td>\n",
       "      <td>2</td>\n",
       "      <td>False</td>\n",
       "    </tr>\n",
       "    <tr>\n",
       "      <th>2</th>\n",
       "      <td>12</td>\n",
       "      <td>3</td>\n",
       "      <td>False</td>\n",
       "    </tr>\n",
       "    <tr>\n",
       "      <th>3</th>\n",
       "      <td>13</td>\n",
       "      <td>7</td>\n",
       "      <td>False</td>\n",
       "    </tr>\n",
       "    <tr>\n",
       "      <th>4</th>\n",
       "      <td>14</td>\n",
       "      <td>25</td>\n",
       "      <td>False</td>\n",
       "    </tr>\n",
       "    <tr>\n",
       "      <th>...</th>\n",
       "      <td>...</td>\n",
       "      <td>...</td>\n",
       "      <td>...</td>\n",
       "    </tr>\n",
       "    <tr>\n",
       "      <th>999986</th>\n",
       "      <td>999996</td>\n",
       "      <td>1815120</td>\n",
       "      <td>False</td>\n",
       "    </tr>\n",
       "    <tr>\n",
       "      <th>999987</th>\n",
       "      <td>999997</td>\n",
       "      <td>1819440</td>\n",
       "      <td>False</td>\n",
       "    </tr>\n",
       "    <tr>\n",
       "      <th>999988</th>\n",
       "      <td>999998</td>\n",
       "      <td>1854720</td>\n",
       "      <td>False</td>\n",
       "    </tr>\n",
       "    <tr>\n",
       "      <th>999989</th>\n",
       "      <td>999999</td>\n",
       "      <td>2177280</td>\n",
       "      <td>False</td>\n",
       "    </tr>\n",
       "    <tr>\n",
       "      <th>999990</th>\n",
       "      <td>1000000</td>\n",
       "      <td>7</td>\n",
       "      <td>False</td>\n",
       "    </tr>\n",
       "  </tbody>\n",
       "</table>\n",
       "<p>999991 rows × 3 columns</p>\n",
       "</div>"
      ],
      "text/plain": [
       "         number  factorial_sum  fact_sum_equal\n",
       "0            10              2           False\n",
       "1            11              2           False\n",
       "2            12              3           False\n",
       "3            13              7           False\n",
       "4            14             25           False\n",
       "...         ...            ...             ...\n",
       "999986   999996        1815120           False\n",
       "999987   999997        1819440           False\n",
       "999988   999998        1854720           False\n",
       "999989   999999        2177280           False\n",
       "999990  1000000              7           False\n",
       "\n",
       "[999991 rows x 3 columns]"
      ]
     },
     "execution_count": 74,
     "metadata": {},
     "output_type": "execute_result"
    }
   ],
   "source": [
    "df = pd.DataFrame( np.transpose(range(10, 1000001)), columns = ['number'])\n",
    "df['factorial_sum'] = df['number'].apply(lambda x: digit_factorial_sum(x, fdf))\n",
    "df['fact_sum_equal'] = df['factorial_sum'] == df['number']\n",
    "df\n",
    "\n",
    "%time"
   ]
  },
  {
   "cell_type": "code",
   "execution_count": null,
   "id": "0eab1ae7-e4e5-4b14-b43f-6f2389522907",
   "metadata": {},
   "outputs": [],
   "source": [
    "df[df['fact_sum_equal']]"
   ]
  },
  {
   "cell_type": "code",
   "execution_count": null,
   "id": "f8ec2fd2-9e71-4416-ab88-df2c4f98a147",
   "metadata": {},
   "outputs": [],
   "source": []
  }
 ],
 "metadata": {
  "kernelspec": {
   "display_name": "Python 3 (ipykernel)",
   "language": "python",
   "name": "python3"
  },
  "language_info": {
   "codemirror_mode": {
    "name": "ipython",
    "version": 3
   },
   "file_extension": ".py",
   "mimetype": "text/x-python",
   "name": "python",
   "nbconvert_exporter": "python",
   "pygments_lexer": "ipython3",
   "version": "3.10.7"
  }
 },
 "nbformat": 4,
 "nbformat_minor": 5
}
