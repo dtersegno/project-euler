{
 "cells": [
  {
   "cell_type": "markdown",
   "id": "ab8e17c7-fe91-4115-a256-6eed52706923",
   "metadata": {
    "tags": []
   },
   "source": [
    "Double base palindromes\n",
    "---\n",
    "\n",
    "The decimal number, $585 = 1001001001_2$\n",
    " (binary), is palindromic in both bases.\n",
    "\n",
    "Find the sum of all numbers, less than one million, which are palindromic in base 10 and base 2.\n",
    "\n",
    "(Please note that the palindromic number, in either base, may not include leading zeros.)"
   ]
  },
  {
   "cell_type": "code",
   "execution_count": null,
   "id": "c8b65019-9673-4dc6-a38d-72c937e1bc02",
   "metadata": {},
   "outputs": [],
   "source": [
    "def palindromic(number, base = 10):\n",
    "    if base == 10:\n",
    "        \n",
    "    elif base == 2:\n",
    "        \n",
    "    else:\n",
    "        print('Only bases 10 and 2 supported :( sorwy')"
   ]
  },
  {
   "cell_type": "code",
   "execution_count": 2,
   "id": "171a69c1-2df2-4e8b-92fb-7600c32ed0cb",
   "metadata": {},
   "outputs": [
    {
     "data": {
      "text/plain": [
       "'0b1010'"
      ]
     },
     "execution_count": 2,
     "metadata": {},
     "output_type": "execute_result"
    }
   ],
   "source": [
    "#track palindromic numbers in base 10.\n",
    "max_number = 1e6\n"
   ]
  },
  {
   "cell_type": "code",
   "execution_count": 7,
   "id": "b56c9c4a-a593-474f-9732-ddca17349b82",
   "metadata": {},
   "outputs": [
    {
     "data": {
      "text/plain": [
       "True"
      ]
     },
     "execution_count": 7,
     "metadata": {},
     "output_type": "execute_result"
    }
   ],
   "source": [
    "str(585) == str(585)[::-1]"
   ]
  },
  {
   "cell_type": "code",
   "execution_count": null,
   "id": "cd077c80-9d48-47f1-8a73-b1cd5b953b81",
   "metadata": {},
   "outputs": [],
   "source": []
  }
 ],
 "metadata": {
  "kernelspec": {
   "display_name": "Python 3 (ipykernel)",
   "language": "python",
   "name": "python3"
  },
  "language_info": {
   "codemirror_mode": {
    "name": "ipython",
    "version": 3
   },
   "file_extension": ".py",
   "mimetype": "text/x-python",
   "name": "python",
   "nbconvert_exporter": "python",
   "pygments_lexer": "ipython3",
   "version": "3.10.7"
  }
 },
 "nbformat": 4,
 "nbformat_minor": 5
}
