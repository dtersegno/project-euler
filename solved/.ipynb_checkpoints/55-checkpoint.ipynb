{
 "cells": [
  {
   "cell_type": "markdown",
   "id": "d56bcc74-1ac2-473e-8f5e-865b749b5c2d",
   "metadata": {
    "tags": []
   },
   "source": [
    "Lychrel Numbers\n",
    "---\n",
    "\n",
    "If we take 47, reverse and add, 47 + 74 = 121, which is palindromic.\n",
    "\n",
    "Not all numbers produce palindromes so quickly. For example,\n",
    "\n",
    "349 + 943 = 1292\n",
    "\n",
    "1292 + 2921 = 4213\n",
    "\n",
    "4213 + 3124 = 773\n",
    "\n",
    "That is, 349 took three iterations to arrive at a palindrome.\n",
    "\n",
    "Although no one has proved it yet, it is thought that some numbers, like 196, never produce a palindrome. A number that never forms a palindrome through the reverse and add process is called a *Lychrel number*. Due to the theoretical nature of these numbers, and for the purpose of this problem, we shall assume that a number is Lychrel until proven otherwise. In addition you are given that for every number below ten-thousand, it will either (i) become a palindrome in less than fifty iterations, or, (ii) no one, with all the computing power that exists, has managed so far to map it to a palindrome. In fact, 10677 is the first number to be shown to require over fifty iterations before producing a palindrome. (52 iterations, 28 digits.)\n",
    "\n",
    "Surprisingly, there are palindromic numbers that are themselves Lychrel numbers; the first example is 4994.\n",
    "\n",
    "How many Lychrel numbers are there below ten-thousand?\n",
    "\n",
    "NOTE: Wording was modified slightly on 24 April 2007 to emphasise the theoretical nature of Lychrel numbers."
   ]
  },
  {
   "cell_type": "code",
   "execution_count": 15,
   "id": "b52f659a-47b7-41a8-aefe-bba2d5ed154b",
   "metadata": {},
   "outputs": [],
   "source": [
    "import numpy as np\n",
    "import scipy as sp\n",
    "import pandas as pd\n",
    "import matplotlib.pyplot as plt\n",
    "\n",
    "\n",
    "#test if a number is palindromic.\n",
    "def is_palindromic(number:int):\n",
    "    num_string = str(number)\n",
    "    return num_string == num_string[::-1]\n",
    "\n",
    "# def make_permutations(number):\n",
    "#     num_string = str(number)\n",
    "#     num_digits = len(num_string)\n",
    "#     digit_index = np.arange(num_digits)\n",
    "#     return digit_index\n",
    "\n",
    "def reverse_and_add(number):\n",
    "    num_string = int(str(number)[::-1])\n",
    "    reversed_number = int(num_string[::-1])\n",
    "    return number + reversed_number"
   ]
  },
  {
   "cell_type": "code",
   "execution_count": 18,
   "id": "bf0803d1-0b17-48e8-a32b-30c63f75e493",
   "metadata": {},
   "outputs": [
    {
     "ename": "TypeError",
     "evalue": "int() argument must be a string, a bytes-like object or a real number, not 'reversed'",
     "output_type": "error",
     "traceback": [
      "\u001b[1;31m---------------------------------------------------------------------------\u001b[0m",
      "\u001b[1;31mTypeError\u001b[0m                                 Traceback (most recent call last)",
      "Cell \u001b[1;32mIn [18], line 1\u001b[0m\n\u001b[1;32m----> 1\u001b[0m \u001b[38;5;28;43mint\u001b[39;49m\u001b[43m(\u001b[49m\u001b[38;5;28;43mreversed\u001b[39;49m\u001b[43m(\u001b[49m\u001b[38;5;124;43m'\u001b[39;49m\u001b[38;5;124;43m123\u001b[39;49m\u001b[38;5;124;43m'\u001b[39;49m\u001b[43m)\u001b[49m\u001b[43m)\u001b[49m\n",
      "\u001b[1;31mTypeError\u001b[0m: int() argument must be a string, a bytes-like object or a real number, not 'reversed'"
     ]
    }
   ],
   "source": [
    "int(reversed('123'))"
   ]
  },
  {
   "cell_type": "code",
   "execution_count": 14,
   "id": "54374cae-ea6a-4281-8905-3abc1397d293",
   "metadata": {
    "tags": []
   },
   "outputs": [
    {
     "data": {
      "text/plain": [
       "array([0, 1, 2])"
      ]
     },
     "execution_count": 14,
     "metadata": {},
     "output_type": "execute_result"
    }
   ],
   "source": [
    "make_permutations(123)"
   ]
  },
  {
   "cell_type": "markdown",
   "id": "20759279-62d6-436a-8f69-d0a9de61296e",
   "metadata": {},
   "source": [
    "first off, I'"
   ]
  }
 ],
 "metadata": {
  "kernelspec": {
   "display_name": "Python 3 (ipykernel)",
   "language": "python",
   "name": "python3"
  },
  "language_info": {
   "codemirror_mode": {
    "name": "ipython",
    "version": 3
   },
   "file_extension": ".py",
   "mimetype": "text/x-python",
   "name": "python",
   "nbconvert_exporter": "python",
   "pygments_lexer": "ipython3",
   "version": "3.10.7"
  }
 },
 "nbformat": 4,
 "nbformat_minor": 5
}
