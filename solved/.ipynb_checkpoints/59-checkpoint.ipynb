{
 "cells": [
  {
   "cell_type": "markdown",
   "id": "e5b47afd-47a0-4603-8dec-79e9a279e8f9",
   "metadata": {},
   "source": [
    "[59 XOR Decryption](https://projecteuler.net/problem=59)\n",
    "\n",
    "Each character on a computer is assigned a unique code and the preferred standard is ASCII (American Standard Code for Information Interchange). For example, uppercase A = 65, asterisk (*) = 42, and lowercase k = 107.\n",
    "\n",
    "A modern encryption method is to take a text file, convert the bytes to ASCII, then XOR each byte with a given value, taken from a secret key. The advantage with the XOR function is that using the same encryption key on the cipher text, restores the plain text; for example, 65 XOR 42 = 107, then 107 XOR 42 = 65.\n",
    "\n",
    "For unbreakable encryption, the key is the same length as the plain text message, and the key is made up of random bytes. The user would keep the encrypted message and the encryption key in different locations, and without both \"halves\", it is impossible to decrypt the message.\n",
    "\n",
    "Unfortunately, this method is impractical for most users, so the modified method is to use a password as a key. If the password is shorter than the message, which is likely, the key is repeated cyclically throughout the message. The balance for this method is using a sufficiently long password key for security, but short enough to be memorable.\n",
    "\n",
    "Your task has been made easy, as the encryption key consists of three lower case characters. Using 0059_cipher.txt (right click and 'Save Link/Target As...'), a file containing the encrypted ASCII codes, and the knowledge that the plain text must contain common English words, decrypt the message and find the sum of the ASCII values in the original text."
   ]
  },
  {
   "cell_type": "code",
   "execution_count": 1,
   "id": "081fa28d-606e-4178-829b-34f4cfbf951a",
   "metadata": {
    "tags": []
   },
   "outputs": [],
   "source": [
    "import numpy as np\n",
    "import re\n",
    "import os\n",
    "import io\n",
    "\n",
    "file = './0059_cipher.txt'\n",
    "\n",
    "with io.open(file, 'r') as tha_file:\n",
    "    data = tha_file.read()\n",
    "    tha_file.close()\n",
    "    \n",
    "data = np.array(\n",
    "    data.split(','),\n",
    "    dtype = int\n",
    ")"
   ]
  },
  {
   "cell_type": "code",
   "execution_count": 2,
   "id": "171a9ded-e366-4e77-9f0c-1b84bbac0f2a",
   "metadata": {},
   "outputs": [
    {
     "data": {
      "text/plain": [
       "(97, 122)"
      ]
     },
     "execution_count": 2,
     "metadata": {},
     "output_type": "execute_result"
    }
   ],
   "source": [
    "# get all collections of possible codes. Three lower case characters.\n",
    "ord('a'), ord('z')"
   ]
  },
  {
   "cell_type": "code",
   "execution_count": 3,
   "id": "da5949f0-6883-4fdb-ad5a-0ed683f419ce",
   "metadata": {},
   "outputs": [
    {
     "data": {
      "text/plain": [
       "array([['a', 'a', 'a'],\n",
       "       ['a', 'a', 'b'],\n",
       "       ['a', 'a', 'c'],\n",
       "       ...,\n",
       "       ['z', 'z', 'x'],\n",
       "       ['z', 'z', 'y'],\n",
       "       ['z', 'z', 'z']], dtype='<U1')"
      ]
     },
     "execution_count": 3,
     "metadata": {},
     "output_type": "execute_result"
    }
   ],
   "source": [
    "possible_characters = list(map(chr, range(97,122+1)))\n",
    "\n",
    "possible_codes = np.array(\n",
    "    [\n",
    "            [a,b,c]\n",
    "        for a in possible_characters\n",
    "        for b in possible_characters\n",
    "        for c in possible_characters\n",
    "    ]\n",
    ")\n",
    "possible_codes"
   ]
  },
  {
   "cell_type": "code",
   "execution_count": 4,
   "id": "9fbde2f9-d202-48a2-9b91-63f32bdb0215",
   "metadata": {},
   "outputs": [
    {
     "data": {
      "text/plain": [
       "17576"
      ]
     },
     "execution_count": 4,
     "metadata": {},
     "output_type": "execute_result"
    }
   ],
   "source": [
    "len(possible_codes)"
   ]
  },
  {
   "cell_type": "code",
   "execution_count": 5,
   "id": "d8cbee9d-d3d0-4762-9249-3166152f2c8c",
   "metadata": {},
   "outputs": [
    {
     "data": {
      "text/plain": [
       "array([36, 22, 80, ..., 23, 11, 94])"
      ]
     },
     "execution_count": 5,
     "metadata": {},
     "output_type": "execute_result"
    }
   ],
   "source": [
    "data"
   ]
  },
  {
   "cell_type": "code",
   "execution_count": 6,
   "id": "91fdb62c-4a95-489b-8fa6-25e6cd986003",
   "metadata": {},
   "outputs": [
    {
     "data": {
      "text/plain": [
       "array([['a', 'a', 'a'],\n",
       "       ['a', 'a', 'b'],\n",
       "       ['a', 'a', 'c'],\n",
       "       ...,\n",
       "       ['z', 'z', 'x'],\n",
       "       ['z', 'z', 'y'],\n",
       "       ['z', 'z', 'z']], dtype='<U1')"
      ]
     },
     "execution_count": 6,
     "metadata": {},
     "output_type": "execute_result"
    }
   ],
   "source": [
    "possible_codes"
   ]
  },
  {
   "cell_type": "markdown",
   "id": "0ef0711c-a16e-45e6-adce-ec0c1f88a932",
   "metadata": {},
   "source": [
    "Game plan:\n",
    "- XOR each possible code with the data\n",
    "- count the number of the common english words that show up."
   ]
  },
  {
   "cell_type": "code",
   "execution_count": 31,
   "id": "fd90c4fb-0703-4756-b7b6-95014ec26d1a",
   "metadata": {},
   "outputs": [],
   "source": [
    "common_english_words = ['the', 'and', 'an', 'be', 'to', 'of', 'in', 'that', 'have']"
   ]
  },
  {
   "cell_type": "code",
   "execution_count": 59,
   "id": "f9f3dc40-c9a2-4de5-be21-b250c12ea17c",
   "metadata": {},
   "outputs": [],
   "source": [
    "def repeat_code_to_length(code:list, new_length:int):\n",
    "    num_times_multiply = 1 + int(np.ceil(new_length / len(code)))\n",
    "    # return num_times_multiply\n",
    "    new_list = (list(code)*num_times_multiply)[:new_length]\n",
    "    return new_list\n",
    "\n",
    "def code_list_to_ord(code_list):\n",
    "    ord_list = [\n",
    "        ord(character)\n",
    "        for character in code_list\n",
    "    ]\n",
    "    return ord_list\n",
    "\n",
    "def ord_list_to_code(ord_list):\n",
    "    code_list = [\n",
    "        chr(ordinal)\n",
    "        for ordinal in ord_list\n",
    "    ]\n",
    "    return ''.join(code_list)"
   ]
  },
  {
   "cell_type": "code",
   "execution_count": 45,
   "id": "878de0b2-7cf2-4a31-882d-d8e311660b34",
   "metadata": {},
   "outputs": [
    {
     "data": {
      "text/plain": [
       "['a', 'a', 'a']"
      ]
     },
     "execution_count": 45,
     "metadata": {},
     "output_type": "execute_result"
    }
   ],
   "source": [
    "list(possible_codes[0])"
   ]
  },
  {
   "cell_type": "code",
   "execution_count": 56,
   "id": "61e3f3c5-9bfd-4a72-8bf2-a5cb974106f7",
   "metadata": {
    "tags": []
   },
   "outputs": [],
   "source": [
    "possible_codes_extended = [\n",
    "    code_list_to_ord(\n",
    "        repeat_code_to_length(\n",
    "            this_code,\n",
    "            len(data)\n",
    "        )\n",
    "    )\n",
    "    \n",
    "    for this_code in possible_codes\n",
    "]"
   ]
  },
  {
   "cell_type": "code",
   "execution_count": 70,
   "id": "cd03977f-c2e5-43b6-8b23-2c76769b12eb",
   "metadata": {},
   "outputs": [],
   "source": [
    "decoded_datas = [\n",
    "    ord_list_to_code(data^this_code)\n",
    "    for this_code in possible_codes_extended\n",
    "]"
   ]
  },
  {
   "cell_type": "code",
   "execution_count": 72,
   "id": "ed93fd6a-d644-4dfc-af9f-c5efbf35cd38",
   "metadata": {},
   "outputs": [
    {
     "data": {
      "text/plain": [
       "'Ew1aaevxrp9eertj9wvv|$mya9xjmck}dgmxkw1k\\x7f1kwt$vw$\\\\dh|c#j1ivbp9rautfkpp|u$ipt|cw51&]t$jditxw9bakxakdi9cazxtk~gxcqt3$B^j9el|1wl|w9~b9bakxaj1k\\x7f1v|rmickzphjL>9X$qpr|1v|raweh`1bvdj}=$hdmmt$l\\x7faaaazea}}}51ew1autcx\\x7fp9t|icajbmv\\x7f$\\x7f~v9el|1awemkt$jdi9~b9elpb$jtvptw9 $2156%$2156($2156 29:$|eg7=$nymzy$}tt|\\x7f`j1kw1pqt$hde}cemdv|1k\\x7f1pqt$zxvz}a51wv1pqpp9xb9el|1pkda9bqt1k\\x7f1pqxw9bakxaj1mj1k{eep\\x7fa}=$\\x7fckt1mm1em1kwra9el|1ulp`kpplca9~b9el|1gpcgut$\\x7f~hu~sj?$Wpi|}}51M9yeot$\\x7f~qwu$myem1pqt$jdi9~b9elpb$jtvptw9xw9p$jx|my$ipvm1k\\x7f1pqt$j`qxca9~b9el|1t|cmttp|c$vw$mya9rmkrh|1sq~w|1`ppi|eak1mj15\"1kk1f`1tlepp\\x7fc9el|1wl|$vw$mymj1w|cm|b$|`qx}$m~$j=$pe$qpw9el|1vxemv1whcp1\\'-9|quemi}m|u${h$j1pv159~b9el|1t|cmttp|c$m~$mya9umx|amtv71M9fmu}$j~kw1wq~s9elxe$mya9bqt1k\\x7f1pqxw9bakxaj1pv1f|1eiavvimtpp|}}9 */%0 \"0)\\'2!%6+\\'0*\\'0\"1ewu$\\x7fckt1il}ppah`xj~1pqxw9\\x7fqtsak1f`1wpi(9pj}1pqtj9eerxj~1pqt$j`qxca9ckve(9el|1jl|f|c$*?5- 1 #2,\"1!(3 \"6*)$pb$p\\x7f`|t`9avvuqzt`51sqxgq1aaav|bw|b$mya9aakxi|eak1k\\x7f1e9rmkrh|1sq~w|1`ppi|eak1mj1571Bv}hvfmwv$xvep\\x7f$mya9bett$jeaib${h$nymzy$P1lxu$xcvpga}1em1pqxw9bqt=$P1lxga9umjrkotv|u$myem1pqt$jdi9~b9el|1w|cm|b$(1/9 +(\\'$2156)59:$(>6,\\'$2156\\'6,1/9tpz?$x}wv1`|aawuw9~j9el|1ulp`kpplca9~b9el|1gpcgut*9_etth`=$mya9bqt1k\\x7f1pqxw9|quemi}m|u${h$ !$~xr|b$mya9smhde}cemt$1wklcpq1tvfak8$vw$mya9rmkrqtwaktjzt$vw$mya9aakxi|eak1k\\x7f1e9rmkrh|1sq~w|1`ppi|eak1mj1571Ewu${h$jxip}ek1v|pwv\\x7fmwv$P1lxga9}mrtspba9sa|\\x7f$xsh|1pv1`|eak|mwt$mya9bqtb$vw$mya9bq{bahdawe$jtvptw9xj9flprl9el|1aaakwtjmb$xca9tr|\\x7f$wdi{tvj?'"
      ]
     },
     "execution_count": 72,
     "metadata": {},
     "output_type": "execute_result"
    }
   ],
   "source": [
    "decoded_datas[0]"
   ]
  },
  {
   "cell_type": "code",
   "execution_count": 85,
   "id": "914d0580-8558-4b58-b0a4-8f8e30317c92",
   "metadata": {},
   "outputs": [],
   "source": [
    "def count_common_english_words(text, common_words, total = True):\n",
    "    word_counts = [\n",
    "        len(re.findall(word, text))\n",
    "        for word in common_words\n",
    "    ]\n",
    "    if total:\n",
    "        return list(map(len, word_counts))\n",
    "    else:\n",
    "        return word_counts"
   ]
  },
  {
   "cell_type": "code",
   "execution_count": 86,
   "id": "19f3652b-bcca-45c0-bb78-cffb7148d49e",
   "metadata": {},
   "outputs": [
    {
     "data": {
      "text/plain": [
       "['hvfm']"
      ]
     },
     "execution_count": 86,
     "metadata": {},
     "output_type": "execute_result"
    }
   ],
   "source": [
    "re.findall('hvfm',decoded_datas[0])"
   ]
  },
  {
   "cell_type": "code",
   "execution_count": 92,
   "id": "6e583a82-5681-4e82-ac2f-dd228e165726",
   "metadata": {},
   "outputs": [],
   "source": [
    "english_word_counts = list(map(sum,[\n",
    "    count_common_english_words(decoded_data, common_english_words, False)\n",
    "    for decoded_data in decoded_datas\n",
    "]))"
   ]
  },
  {
   "cell_type": "code",
   "execution_count": 94,
   "id": "f6486832-6eb1-4b6a-b95b-7f0ff4f04bf3",
   "metadata": {},
   "outputs": [
    {
     "data": {
      "text/plain": [
       "3317"
      ]
     },
     "execution_count": 94,
     "metadata": {},
     "output_type": "execute_result"
    }
   ],
   "source": [
    "np.argmax(english_word_counts)"
   ]
  },
  {
   "cell_type": "code",
   "execution_count": 89,
   "id": "f5495e41-f54a-48c7-967a-9974cca37888",
   "metadata": {},
   "outputs": [
    {
     "data": {
      "text/plain": [
       "[2, 0, 0, 0, 0, 0, 0, 0, 0]"
      ]
     },
     "execution_count": 89,
     "metadata": {},
     "output_type": "execute_result"
    }
   ],
   "source": [
    "count_common_english_words('the boy is the fox', common_english_words, False)"
   ]
  },
  {
   "cell_type": "code",
   "execution_count": 95,
   "id": "1f8958aa-2092-4434-8033-6ca7268b1293",
   "metadata": {},
   "outputs": [
    {
     "data": {
      "text/plain": [
       "'An extract taken from the introduction of one of Euler\\'s most celebrated papers, \"De summis serierum reciprocarum\" [On the sums of series of reciprocals]: I have recently found, quite unexpectedly, an elegant expression for the entire sum of this series 1 + 1/4 + 1/9 + 1/16 + etc., which depends on the quadrature of the circle, so that if the true sum of this series is obtained, from it at once the quadrature of the circle follows. Namely, I have found that the sum of this series is a sixth part of the square of the perimeter of the circle whose diameter is 1; or by putting the sum of this series equal to s, it has the ratio sqrt(6) multiplied by s to 1 of the perimeter to the diameter. I will soon show that the sum of this series to be approximately 1.644934066842264364; and from multiplying this number by six, and then taking the square root, the number 3.141592653589793238 is indeed produced, which expresses the perimeter of a circle whose diameter is 1. Following again the same steps by which I had arrived at this sum, I have discovered that the sum of the series 1 + 1/16 + 1/81 + 1/256 + 1/625 + etc. also depends on the quadrature of the circle. Namely, the sum of this multiplied by 90 gives the biquadrate (fourth power) of the circumference of the perimeter of a circle whose diameter is 1. And by similar reasoning I have likewise been able to determine the sums of the subsequent series in which the exponents are even numbers.'"
      ]
     },
     "execution_count": 95,
     "metadata": {},
     "output_type": "execute_result"
    }
   ],
   "source": [
    "decoded_datas[3317]"
   ]
  },
  {
   "cell_type": "code",
   "execution_count": 96,
   "id": "cd591e35-28f9-49a7-8555-a12328730c94",
   "metadata": {},
   "outputs": [
    {
     "ename": "IndexError",
     "evalue": "index 3317 is out of bounds for axis 0 with size 1455",
     "output_type": "error",
     "traceback": [
      "\u001b[1;31m---------------------------------------------------------------------------\u001b[0m",
      "\u001b[1;31mIndexError\u001b[0m                                Traceback (most recent call last)",
      "Cell \u001b[1;32mIn [96], line 1\u001b[0m\n\u001b[1;32m----> 1\u001b[0m \u001b[43mdata\u001b[49m\u001b[43m[\u001b[49m\u001b[38;5;241;43m3317\u001b[39;49m\u001b[43m]\u001b[49m\n",
      "\u001b[1;31mIndexError\u001b[0m: index 3317 is out of bounds for axis 0 with size 1455"
     ]
    }
   ],
   "source": [
    "data[3317]"
   ]
  },
  {
   "cell_type": "code",
   "execution_count": 98,
   "id": "9e74ad75-896f-44c4-a64b-63392f985674",
   "metadata": {},
   "outputs": [
    {
     "data": {
      "text/plain": [
       "129448"
      ]
     },
     "execution_count": 98,
     "metadata": {},
     "output_type": "execute_result"
    }
   ],
   "source": [
    "unorded_datas = [\n",
    "    data^this_code\n",
    "    for this_code in possible_codes_extended\n",
    "]\n",
    "sum(unorded_datas[3317])"
   ]
  },
  {
   "cell_type": "code",
   "execution_count": null,
   "id": "3455f986-7fed-49e2-98c4-4b1e055c143c",
   "metadata": {},
   "outputs": [],
   "source": []
  }
 ],
 "metadata": {
  "kernelspec": {
   "display_name": "Python 3 (ipykernel)",
   "language": "python",
   "name": "python3"
  },
  "language_info": {
   "codemirror_mode": {
    "name": "ipython",
    "version": 3
   },
   "file_extension": ".py",
   "mimetype": "text/x-python",
   "name": "python",
   "nbconvert_exporter": "python",
   "pygments_lexer": "ipython3",
   "version": "3.10.7"
  }
 },
 "nbformat": 4,
 "nbformat_minor": 5
}
