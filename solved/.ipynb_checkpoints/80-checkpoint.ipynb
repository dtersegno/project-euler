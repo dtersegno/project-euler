{
 "cells": [
  {
   "cell_type": "markdown",
   "id": "9293b936-429e-4ca6-93ef-3682ab59c22f",
   "metadata": {},
   "source": [
    "Square root digital expansion\n",
    "---\n",
    "\n",
    "It is well known that if the square root of a natural number is not an integer, then it is irrational. The decimal expansion of such square roots is infinite without any repeating pattern at all.\n",
    "\n",
    "The digital sum of the first one hundred decimal digits of the square root of two is 475.\n",
    "\n",
    "For the first one hundred natural numbers, find the total of the digital sums of the first one hundred decimal digits for all the irrational square roots."
   ]
  },
  {
   "cell_type": "code",
   "execution_count": 199,
   "id": "2716b6e5-d31f-480d-9281-5593b7e17884",
   "metadata": {},
   "outputs": [],
   "source": [
    "import numpy as np\n",
    "import decimal as dc\n",
    "\n",
    "dc.getcontext().prec = 200"
   ]
  },
  {
   "cell_type": "code",
   "execution_count": 200,
   "id": "13930c3f-bb41-4d91-9a17-04be49282930",
   "metadata": {},
   "outputs": [],
   "source": [
    "def has_irrational_sqrt(num):\n",
    "    \"\"\"\n",
    "    Give whether the number's square root is irrational, and the square root to 102 precision.\n",
    "    \"\"\"\n",
    "    if num != int(num):\n",
    "        raise(ValueError('Give a natural number.'))\n",
    "    else:\n",
    "        decimal_number = dc.Decimal(num)\n",
    "        deciroot = decimal_number.sqrt()\n",
    "        is_irrational = deciroot != int(deciroot)\n",
    "        return is_irrational, deciroot\n",
    "\n",
    "    #IT INCLUDES THE PRE-DECIMAL DIGIT?\n",
    "def digital_sum(number, num_digits = 100, include_pre_decimal = True):\n",
    "    n = str(number)\n",
    "    if include_pre_decimal:\n",
    "        decimal_digits = ''.join(n.split('.'))\n",
    "    else:\n",
    "        decimal_digits = n.split('.')[1]\n",
    "    # print(decimal_digits)\n",
    "    if len(decimal_digits) < num_digits:\n",
    "        raise(ValueError(f'Less than 100 decimal digits for {number}.'))\n",
    "    else:\n",
    "        return sum(list(map(int, [digit for digit in decimal_digits[:num_digits]])))"
   ]
  },
  {
   "cell_type": "code",
   "execution_count": 201,
   "id": "f5762dc8-2791-4657-b670-7b0d52270977",
   "metadata": {},
   "outputs": [
    {
     "data": {
      "text/plain": [
       "475"
      ]
     },
     "execution_count": 201,
     "metadata": {},
     "output_type": "execute_result"
    }
   ],
   "source": [
    "digital_sum(has_irrational_sqrt(2)[1])"
   ]
  },
  {
   "cell_type": "code",
   "execution_count": 206,
   "id": "32c4e150-3fd5-4d47-a1b2-17112b3240ee",
   "metadata": {},
   "outputs": [
    {
     "data": {
      "text/plain": [
       "475"
      ]
     },
     "execution_count": 206,
     "metadata": {},
     "output_type": "execute_result"
    }
   ],
   "source": [
    "digital_sum(has_irrational_sqrt(2)[1], 100, include_pre_decimal=True)"
   ]
  },
  {
   "cell_type": "code",
   "execution_count": 219,
   "id": "19471017-c227-4f29-a7bd-0d97ff02348d",
   "metadata": {},
   "outputs": [],
   "source": [
    "roots = []\n",
    "total = 0\n",
    "for number in range(0,101):\n",
    "    roots.append(has_irrational_sqrt(number))\n",
    "    if roots[-1][0]:\n",
    "        total += digital_sum(roots[-1][1])\n",
    "roots = np.array(roots)"
   ]
  },
  {
   "cell_type": "code",
   "execution_count": 218,
   "id": "e385205c-26b4-47bf-a066-f4d0ea60cb3e",
   "metadata": {},
   "outputs": [
    {
     "data": {
      "text/plain": [
       "40886"
      ]
     },
     "execution_count": 218,
     "metadata": {},
     "output_type": "execute_result"
    }
   ],
   "source": [
    "total"
   ]
  },
  {
   "cell_type": "code",
   "execution_count": null,
   "id": "23f3224d-d85b-4786-9f04-f1c7ff9a8610",
   "metadata": {},
   "outputs": [],
   "source": []
  }
 ],
 "metadata": {
  "kernelspec": {
   "display_name": "Python 3 (ipykernel)",
   "language": "python",
   "name": "python3"
  },
  "language_info": {
   "codemirror_mode": {
    "name": "ipython",
    "version": 3
   },
   "file_extension": ".py",
   "mimetype": "text/x-python",
   "name": "python",
   "nbconvert_exporter": "python",
   "pygments_lexer": "ipython3",
   "version": "3.10.7"
  }
 },
 "nbformat": 4,
 "nbformat_minor": 5
}
