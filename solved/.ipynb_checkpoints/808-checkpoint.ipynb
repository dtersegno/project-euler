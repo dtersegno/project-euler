{
 "cells": [
  {
   "cell_type": "markdown",
   "id": "7857a8a3-4be7-4433-8e49-bbb359da7ce1",
   "metadata": {},
   "source": [
    "Reversible Prime Squares\n",
    "---\n",
    "\n",
    "Both 169 and 961 are the square of a prime. 169 is the reverse of 961.\n",
    "\n",
    "- We call a number a reversible prime square if\n",
    "    - It is not a palindrome,\n",
    "    - It is the square of a prime, and\n",
    "    - its reverse is also the square of a prime\n",
    "    \n",
    "169 and 961 are not palindromes, so they are both reversible prime squares.\n",
    "\n",
    "Find the sum of the first 50 reversible prime squares."
   ]
  },
  {
   "cell_type": "code",
   "execution_count": 6,
   "id": "f113f6ab-fe29-48c1-8aac-ebe94ed23c7f",
   "metadata": {},
   "outputs": [],
   "source": [
    "import sympy as sp\n",
    "import numpy as np"
   ]
  },
  {
   "cell_type": "code",
   "execution_count": 73,
   "id": "635af0a0-d701-43b8-8261-7de1eea052af",
   "metadata": {
    "tags": []
   },
   "outputs": [],
   "source": [
    "primes1M = list(sp.primerange(1e6))"
   ]
  },
  {
   "cell_type": "code",
   "execution_count": 76,
   "id": "de948485-1c71-43d9-9c27-1d6bb104eaf0",
   "metadata": {},
   "outputs": [],
   "source": [
    "def get_mirror(number):\n",
    "    the_other_number = str(number)[::-1]\n",
    "    return int(the_other_number)\n",
    "\n",
    "def has_mirror_twin(number, the_list):\n",
    "    the_other_number = get_mirror(number)\n",
    "    does_it_have_a_mirror_twin = the_other_number in the_list\n",
    "    return does_it_have_a_mirror_twin\n",
    "\n",
    "def is_palindrome(number):\n",
    "    pal = int(str(number[::-1]))\n",
    "\n",
    "def the_reversible_prime_squares(list_of_prime_squares):\n",
    "    the_reversibles = [\n",
    "            number for number in list_of_prime_squares\n",
    "            if has_mirror_twin(number, list_of_prime_squares)\n",
    "    ]\n",
    "    return the_reversibles\n",
    "\n",
    "def is_reversible_square(the_number):\n",
    "    mirror_twin = get_mirror(the_number)"
   ]
  },
  {
   "cell_type": "code",
   "execution_count": 100,
   "id": "8b83e433-39ed-4b03-a47c-1df54946cc92",
   "metadata": {},
   "outputs": [
    {
     "data": {
      "text/plain": [
       "21859"
      ]
     },
     "execution_count": 100,
     "metadata": {},
     "output_type": "execute_result"
    }
   ],
   "source": [
    "sp.prime(2452)"
   ]
  },
  {
   "cell_type": "code",
   "execution_count": 99,
   "id": "e0b00105-8e6c-4582-a2cd-95b11edd2e4e",
   "metadata": {},
   "outputs": [
    {
     "data": {
      "text/plain": [
       "[21859]"
      ]
     },
     "execution_count": 99,
     "metadata": {},
     "output_type": "execute_result"
    }
   ],
   "source": [
    "sp.primefactors(sp.prime(2452))"
   ]
  },
  {
   "cell_type": "code",
   "execution_count": 98,
   "id": "39377446-c0b3-4567-85c2-7153900f5f23",
   "metadata": {},
   "outputs": [
    {
     "data": {
      "text/plain": [
       "[7, 335033]"
      ]
     },
     "execution_count": 98,
     "metadata": {},
     "output_type": "execute_result"
    }
   ],
   "source": [
    "sp.primefactors(2345231)"
   ]
  },
  {
   "cell_type": "code",
   "execution_count": 130,
   "id": "cf9a3dc0-c778-45e5-80f9-7b015c785316",
   "metadata": {
    "tags": []
   },
   "outputs": [
    {
     "name": "stdout",
     "output_type": "stream",
     "text": [
      "Checking primes above 10.\n",
      "Checking primes above 100.\n",
      "Checking primes above 1000.\n",
      "Checking primes above 10000.\n",
      "Checking primes above 100000.\n",
      "Checking primes above 1000000.\n",
      "Checking primes above 10000000.\n"
     ]
    },
    {
     "data": {
      "text/plain": [
       "[169,\n",
       " 961,\n",
       " 12769,\n",
       " 96721,\n",
       " 1042441,\n",
       " 1062961,\n",
       " 1216609,\n",
       " 1442401,\n",
       " 1692601,\n",
       " 9066121,\n",
       " 121066009,\n",
       " 900660121,\n",
       " 12148668841,\n",
       " 12367886521,\n",
       " 12568876321,\n",
       " 14886684121,\n",
       " 1000422044521,\n",
       " 1002007006009,\n",
       " 1020506060401,\n",
       " 1040606050201,\n",
       " 1210684296721,\n",
       " 1212427816609,\n",
       " 1212665666521,\n",
       " 1214648656321,\n",
       " 1234367662441,\n",
       " 1236568464121,\n",
       " 1254402240001,\n",
       " 1256665662121,\n",
       " 1276924860121,\n",
       " 1442667634321,\n",
       " 9006007002001,\n",
       " 9066187242121,\n",
       " 100042424498641,\n",
       " 100222143232201,\n",
       " 100240164024001,\n",
       " 100402824854641,\n",
       " 100420461042001,\n",
       " 102012282612769,\n",
       " 102014060240401,\n",
       " 102232341222001,\n",
       " 104042060410201,\n",
       " 121002486012769,\n",
       " 121264386264121,\n",
       " 121462683462121,\n",
       " 123212686214641,\n",
       " 146412686212321,\n",
       " 146458428204001,\n",
       " 146894424240001,\n",
       " 967210684200121,\n",
       " 967216282210201]"
      ]
     },
     "execution_count": 130,
     "metadata": {},
     "output_type": "execute_result"
    }
   ],
   "source": [
    "target_size = 50\n",
    "reversible_prime_squares = []\n",
    "still_looking = True\n",
    "current_prime = 1\n",
    "current_log = 1\n",
    "while still_looking:\n",
    "    if len(reversible_prime_squares) >= target_size:\n",
    "        still_looking = False\n",
    "    else:\n",
    "        next_prime = sp.nextprime(current_prime)\n",
    "        current_prime = next_prime\n",
    "        if next_prime > 10**current_log:\n",
    "            print(f'Checking primes above {10**current_log}.')\n",
    "            current_log += 1\n",
    "        the_square = current_prime**2\n",
    "        the_mirror = get_mirror(the_square)\n",
    "        if the_square != the_mirror:\n",
    "            reverse_prime_factors = sp.primefactors(the_mirror)\n",
    "            num_next_prime_factors = len(reverse_prime_factors)\n",
    "            if num_next_prime_factors == 1 and reverse_prime_factors[0] == np.sqrt(the_mirror):\n",
    "                reversible_prime_squares.append(the_square)\n",
    "reversible_prime_squares\n",
    "            "
   ]
  },
  {
   "cell_type": "code",
   "execution_count": 131,
   "id": "72e8f7ce-dd8d-46e9-b4a1-1093d938e542",
   "metadata": {
    "collapsed": true,
    "jupyter": {
     "outputs_hidden": true
    },
    "tags": []
   },
   "outputs": [
    {
     "data": {
      "text/plain": [
       "50"
      ]
     },
     "execution_count": 131,
     "metadata": {},
     "output_type": "execute_result"
    }
   ],
   "source": [
    "len(reversible_prime_squares)"
   ]
  },
  {
   "cell_type": "code",
   "execution_count": 134,
   "id": "3aa139af-01af-4090-999a-7b4c5a751f34",
   "metadata": {},
   "outputs": [
    {
     "data": {
      "text/plain": [
       "True"
      ]
     },
     "execution_count": 134,
     "metadata": {},
     "output_type": "execute_result"
    }
   ],
   "source": [
    "np.all([ np.sqrt(square) == sp.primefactors(np.sqrt(square))[0] for square in reversible_prime_squares ])"
   ]
  },
  {
   "cell_type": "code",
   "execution_count": 135,
   "id": "684d09c6-ff96-4dd1-a045-dbbab18f73db",
   "metadata": {},
   "outputs": [
    {
     "data": {
      "text/plain": [
       "3807504276997394"
      ]
     },
     "execution_count": 135,
     "metadata": {},
     "output_type": "execute_result"
    }
   ],
   "source": [
    "sum(reversible_prime_squares)"
   ]
  },
  {
   "cell_type": "code",
   "execution_count": null,
   "id": "2a58c053-68b4-48d0-b0c9-da3da523da69",
   "metadata": {},
   "outputs": [],
   "source": []
  }
 ],
 "metadata": {
  "kernelspec": {
   "display_name": "Python 3 (ipykernel)",
   "language": "python",
   "name": "python3"
  },
  "language_info": {
   "codemirror_mode": {
    "name": "ipython",
    "version": 3
   },
   "file_extension": ".py",
   "mimetype": "text/x-python",
   "name": "python",
   "nbconvert_exporter": "python",
   "pygments_lexer": "ipython3",
   "version": "3.10.7"
  }
 },
 "nbformat": 4,
 "nbformat_minor": 5
}
