{
 "cells": [
  {
   "cell_type": "markdown",
   "id": "a290a9c8-eea8-44cd-bccf-1182d37c9d87",
   "metadata": {},
   "source": [
    "Square Digit Chains\n",
    "---\n",
    "\n",
    "A number chain is created by continuously adding the square of the digits in a number to form a new number until it has been seen before.\n",
    "\n",
    "ex: 44 -> 32 -> 13 -> 10 -> 1 -> 1 ...\n",
    "\n",
    "85 -> 89 -> 145 -> 42 -> 20 -> 4 -> 16 -> 37 -> 58 -> 89 -> 89 ...\n",
    "\n",
    "Therefore any chain that arrives at 1 or 89 will become stuck in an endless loop. What is most amazing is that EVERY starting number will eventually arrive at one of these two.\n",
    "\n",
    "How many starting numbers below ten million will arrive at \n",
    "?\n",
    "\n"
   ]
  }
 ],
 "metadata": {
  "kernelspec": {
   "display_name": "Python 3 (ipykernel)",
   "language": "python",
   "name": "python3"
  },
  "language_info": {
   "codemirror_mode": {
    "name": "ipython",
    "version": 3
   },
   "file_extension": ".py",
   "mimetype": "text/x-python",
   "name": "python",
   "nbconvert_exporter": "python",
   "pygments_lexer": "ipython3",
   "version": "3.10.7"
  }
 },
 "nbformat": 4,
 "nbformat_minor": 5
}
