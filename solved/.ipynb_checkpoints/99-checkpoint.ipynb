{
 "cells": [
  {
   "cell_type": "markdown",
   "id": "4fd20c74-6112-4a42-b179-384b449ed243",
   "metadata": {},
   "source": [
    "Largest Exponential\n",
    "---\n",
    "\n",
    "Using base_exp.txt (right click and 'Save Link/Target As...'), a 22K text file containing one thousand lines with a base/exponent pair on each line, determine which line number has the greatest numerical value.\n",
    "\n",
    "NOTE: The first two lines in the file represent the numbers in the example given above."
   ]
  },
  {
   "cell_type": "code",
   "execution_count": 5,
   "id": "0373d407-06e1-4d50-97ce-75204d0cbe06",
   "metadata": {},
   "outputs": [],
   "source": [
    "import numpy as np\n",
    "import pandas as pd\n",
    "from IPython.display import clear_output"
   ]
  },
  {
   "cell_type": "code",
   "execution_count": 6,
   "id": "ea4425a5-c03b-4825-b2c6-a08764dbd313",
   "metadata": {},
   "outputs": [
    {
     "data": {
      "text/plain": [
       "14.671730639551429"
      ]
     },
     "execution_count": 6,
     "metadata": {},
     "output_type": "execute_result"
    }
   ],
   "source": [
    "np.math.log(2354245)"
   ]
  },
  {
   "cell_type": "markdown",
   "id": "7963d9ec-3b8d-45b8-b8dd-96235ea3d5ad",
   "metadata": {},
   "source": [
    "Game plan: put the numbers in the same base and simply compare the exponents.\n",
    "\n",
    "They'll also be in the same order as ln(b) x ln(a)"
   ]
  },
  {
   "cell_type": "markdown",
   "id": "55b13ee9-9fd3-4ae6-b30a-2e7e1b0dbe6d",
   "metadata": {
    "tags": []
   },
   "source": [
    "Since a number\n",
    "$$\n",
    "a^b = (e^{\\ln a})^b = e^{b \\ln a},\n",
    "$$\n",
    "Let's just compare b ln a.\n",
    "\n",
    "No. even better. ln b * ln a."
   ]
  },
  {
   "cell_type": "code",
   "execution_count": 26,
   "id": "eb6c02da-65c8-49b0-8ec6-00dc4b0b1e51",
   "metadata": {},
   "outputs": [
    {
     "data": {
      "text/html": [
       "<div>\n",
       "<style scoped>\n",
       "    .dataframe tbody tr th:only-of-type {\n",
       "        vertical-align: middle;\n",
       "    }\n",
       "\n",
       "    .dataframe tbody tr th {\n",
       "        vertical-align: top;\n",
       "    }\n",
       "\n",
       "    .dataframe thead th {\n",
       "        text-align: right;\n",
       "    }\n",
       "</style>\n",
       "<table border=\"1\" class=\"dataframe\">\n",
       "  <thead>\n",
       "    <tr style=\"text-align: right;\">\n",
       "      <th></th>\n",
       "      <th>a</th>\n",
       "      <th>b</th>\n",
       "      <th>log_a</th>\n",
       "      <th>blna</th>\n",
       "      <th>log_b</th>\n",
       "      <th>lnblna</th>\n",
       "    </tr>\n",
       "  </thead>\n",
       "  <tbody>\n",
       "    <tr>\n",
       "      <th>0</th>\n",
       "      <td>519432</td>\n",
       "      <td>525806</td>\n",
       "      <td>13.160491</td>\n",
       "      <td>6.919865e+06</td>\n",
       "      <td>13.172688</td>\n",
       "      <td>173.359039</td>\n",
       "    </tr>\n",
       "    <tr>\n",
       "      <th>1</th>\n",
       "      <td>632382</td>\n",
       "      <td>518061</td>\n",
       "      <td>13.357249</td>\n",
       "      <td>6.919870e+06</td>\n",
       "      <td>13.157848</td>\n",
       "      <td>175.752655</td>\n",
       "    </tr>\n",
       "    <tr>\n",
       "      <th>2</th>\n",
       "      <td>78864</td>\n",
       "      <td>613712</td>\n",
       "      <td>11.275480</td>\n",
       "      <td>6.919897e+06</td>\n",
       "      <td>13.327281</td>\n",
       "      <td>150.271493</td>\n",
       "    </tr>\n",
       "    <tr>\n",
       "      <th>3</th>\n",
       "      <td>466580</td>\n",
       "      <td>530130</td>\n",
       "      <td>13.053185</td>\n",
       "      <td>6.919885e+06</td>\n",
       "      <td>13.180878</td>\n",
       "      <td>172.052430</td>\n",
       "    </tr>\n",
       "    <tr>\n",
       "      <th>4</th>\n",
       "      <td>780495</td>\n",
       "      <td>510032</td>\n",
       "      <td>13.567684</td>\n",
       "      <td>6.919953e+06</td>\n",
       "      <td>13.142229</td>\n",
       "      <td>178.309602</td>\n",
       "    </tr>\n",
       "    <tr>\n",
       "      <th>...</th>\n",
       "      <td>...</td>\n",
       "      <td>...</td>\n",
       "      <td>...</td>\n",
       "      <td>...</td>\n",
       "      <td>...</td>\n",
       "      <td>...</td>\n",
       "    </tr>\n",
       "    <tr>\n",
       "      <th>995</th>\n",
       "      <td>667229</td>\n",
       "      <td>515991</td>\n",
       "      <td>13.410889</td>\n",
       "      <td>6.919898e+06</td>\n",
       "      <td>13.153845</td>\n",
       "      <td>176.404745</td>\n",
       "    </tr>\n",
       "    <tr>\n",
       "      <th>996</th>\n",
       "      <td>672276</td>\n",
       "      <td>515708</td>\n",
       "      <td>13.418424</td>\n",
       "      <td>6.919989e+06</td>\n",
       "      <td>13.153296</td>\n",
       "      <td>176.496506</td>\n",
       "    </tr>\n",
       "    <tr>\n",
       "      <th>997</th>\n",
       "      <td>325361</td>\n",
       "      <td>545187</td>\n",
       "      <td>12.692691</td>\n",
       "      <td>6.919890e+06</td>\n",
       "      <td>13.208884</td>\n",
       "      <td>167.656280</td>\n",
       "    </tr>\n",
       "    <tr>\n",
       "      <th>998</th>\n",
       "      <td>172115</td>\n",
       "      <td>573985</td>\n",
       "      <td>12.055918</td>\n",
       "      <td>6.919916e+06</td>\n",
       "      <td>13.260359</td>\n",
       "      <td>159.865797</td>\n",
       "    </tr>\n",
       "    <tr>\n",
       "      <th>999</th>\n",
       "      <td>13846</td>\n",
       "      <td>725685</td>\n",
       "      <td>9.535752</td>\n",
       "      <td>6.919952e+06</td>\n",
       "      <td>13.494871</td>\n",
       "      <td>128.683742</td>\n",
       "    </tr>\n",
       "  </tbody>\n",
       "</table>\n",
       "<p>1000 rows × 6 columns</p>\n",
       "</div>"
      ],
      "text/plain": [
       "          a       b      log_a          blna      log_b      lnblna\n",
       "0    519432  525806  13.160491  6.919865e+06  13.172688  173.359039\n",
       "1    632382  518061  13.357249  6.919870e+06  13.157848  175.752655\n",
       "2     78864  613712  11.275480  6.919897e+06  13.327281  150.271493\n",
       "3    466580  530130  13.053185  6.919885e+06  13.180878  172.052430\n",
       "4    780495  510032  13.567684  6.919953e+06  13.142229  178.309602\n",
       "..      ...     ...        ...           ...        ...         ...\n",
       "995  667229  515991  13.410889  6.919898e+06  13.153845  176.404745\n",
       "996  672276  515708  13.418424  6.919989e+06  13.153296  176.496506\n",
       "997  325361  545187  12.692691  6.919890e+06  13.208884  167.656280\n",
       "998  172115  573985  12.055918  6.919916e+06  13.260359  159.865797\n",
       "999   13846  725685   9.535752  6.919952e+06  13.494871  128.683742\n",
       "\n",
       "[1000 rows x 6 columns]"
      ]
     },
     "execution_count": 26,
     "metadata": {},
     "output_type": "execute_result"
    }
   ],
   "source": [
    "df = pd.read_csv('0099_base_exp.txt', header=None)\n",
    "df.columns = ['a', 'b']\n",
    "df['log_a'] = df['a'].apply(np.math.log)\n",
    "df['blna'] = df.apply(lambda row: row['log_a']*row['b'], axis = 1)\n",
    "df['log_b'] = df['b'].apply(np.math.log)\n",
    "df['lnblna'] = df.apply(lambda row: row['log_a']*row['log_b'], axis = 1)\n",
    "df"
   ]
  },
  {
   "cell_type": "code",
   "execution_count": 22,
   "id": "0520a7d4-1649-491f-bb79-089f1c886acf",
   "metadata": {},
   "outputs": [
    {
     "data": {
      "text/plain": [
       "6919884.844444524"
      ]
     },
     "execution_count": 22,
     "metadata": {},
     "output_type": "execute_result"
    }
   ],
   "source": [
    "df.loc[3,'blna']"
   ]
  },
  {
   "cell_type": "code",
   "execution_count": null,
   "id": "7de50aaa-8ade-4430-86c6-5b5a3d22797d",
   "metadata": {},
   "outputs": [],
   "source": []
  }
 ],
 "metadata": {
  "kernelspec": {
   "display_name": "Python 3 (ipykernel)",
   "language": "python",
   "name": "python3"
  },
  "language_info": {
   "codemirror_mode": {
    "name": "ipython",
    "version": 3
   },
   "file_extension": ".py",
   "mimetype": "text/x-python",
   "name": "python",
   "nbconvert_exporter": "python",
   "pygments_lexer": "ipython3",
   "version": "3.10.7"
  }
 },
 "nbformat": 4,
 "nbformat_minor": 5
}
