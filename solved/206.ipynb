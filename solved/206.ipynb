{
 "cells": [
  {
   "cell_type": "markdown",
   "id": "d3c242d7-30e1-474f-aedf-67012d383daa",
   "metadata": {},
   "source": [
    "Concealed Square\n",
    "---\n",
    "\n",
    "Find the unique positive number whose square has the form '1_2_3_4_5_6_7_8_9_0' where each '_' is a single digit."
   ]
  },
  {
   "cell_type": "code",
   "execution_count": 3,
   "id": "636143ef-7f50-4880-81ea-b90f1e7e985e",
   "metadata": {},
   "outputs": [
    {
     "data": {
      "text/plain": [
       "('1_2_3_4_5_6_7_8_9_0', 19)"
      ]
     },
     "execution_count": 3,
     "metadata": {},
     "output_type": "execute_result"
    }
   ],
   "source": [
    "digits = '_'.join('1234567890')\n",
    "digits, len(digits)"
   ]
  },
  {
   "cell_type": "markdown",
   "id": "df21ce8d-b5a5-4f30-b8b5-fd00f0a0567e",
   "metadata": {},
   "source": [
    "It's a number with 19 digits and a leading 1. There are only so many options for the square root."
   ]
  },
  {
   "cell_type": "code",
   "execution_count": 35,
   "id": "88b8f45a-8d9e-4b1d-99b9-cf962cb007da",
   "metadata": {},
   "outputs": [
    {
     "data": {
      "text/plain": [
       "1.9293949594027843e+18"
      ]
     },
     "execution_count": 35,
     "metadata": {},
     "output_type": "execute_result"
    }
   ],
   "source": [
    "upper**2"
   ]
  },
  {
   "cell_type": "code",
   "execution_count": 83,
   "id": "0e8947ad-27ce-46ac-8c9d-18044629ca10",
   "metadata": {},
   "outputs": [
    {
     "data": {
      "text/plain": [
       "1389026623.0"
      ]
     },
     "execution_count": 83,
     "metadata": {},
     "output_type": "execute_result"
    }
   ],
   "source": [
    "import numpy as np\n",
    "# upper bound\n",
    "\n",
    "upper = int(digits.replace('_','9'))**(1/2)\n",
    "upper = np.floor(upper)\n",
    "upper"
   ]
  },
  {
   "cell_type": "code",
   "execution_count": 84,
   "id": "edb48290-40b4-40e8-ba69-a81f26e0a266",
   "metadata": {},
   "outputs": [
    {
     "data": {
      "text/plain": [
       "1010101010.0"
      ]
     },
     "execution_count": 84,
     "metadata": {},
     "output_type": "execute_result"
    }
   ],
   "source": [
    "# lower bound\n",
    "lower = int(digits.replace('_','0'))**(1/2)\n",
    "lower = np.floor(lower)\n",
    "lower"
   ]
  },
  {
   "cell_type": "code",
   "execution_count": 85,
   "id": "c2441c75-66a9-4f50-ae93-6d2fd6db66bc",
   "metadata": {},
   "outputs": [
    {
     "data": {
      "text/plain": [
       "1020304050403020100"
      ]
     },
     "execution_count": 85,
     "metadata": {},
     "output_type": "execute_result"
    }
   ],
   "source": [
    "1010101010**2"
   ]
  },
  {
   "cell_type": "code",
   "execution_count": 86,
   "id": "9659aab2-d47f-4900-9b31-4876a6cadd50",
   "metadata": {},
   "outputs": [
    {
     "data": {
      "text/plain": [
       "378925613.0"
      ]
     },
     "execution_count": 86,
     "metadata": {},
     "output_type": "execute_result"
    }
   ],
   "source": [
    "#search space width:\n",
    "upper - lower"
   ]
  },
  {
   "cell_type": "markdown",
   "id": "6bd0637f-6c8b-45c5-95b9-ecbdcd250ec3",
   "metadata": {},
   "source": [
    "The last zero shows its divisible by 10. So it is divisible by 5 and 2. So the square root must also be. And so this square must also be divisible by 25 and 4. The second to last digit is 0."
   ]
  },
  {
   "cell_type": "code",
   "execution_count": 25,
   "id": "9810e749-9251-4e32-99da-6f82bf3699b7",
   "metadata": {},
   "outputs": [
    {
     "data": {
      "text/plain": [
       "'1_2_3_4_5_6_7_8_900'"
      ]
     },
     "execution_count": 25,
     "metadata": {},
     "output_type": "execute_result"
    }
   ],
   "source": [
    "digits = '_'.join('123456789') + '00'\n",
    "digits"
   ]
  },
  {
   "cell_type": "markdown",
   "id": "76cdae96-6a3c-436f-b1ea-8c7ab09206e4",
   "metadata": {},
   "source": [
    "Now we see it's also divisible by 3. This excludes some values as well."
   ]
  },
  {
   "cell_type": "code",
   "execution_count": 34,
   "id": "709ffb76-7ffd-4844-be91-9b78f146bd2b",
   "metadata": {},
   "outputs": [
    {
     "data": {
      "text/plain": [
       "12630854"
      ]
     },
     "execution_count": 34,
     "metadata": {},
     "output_type": "execute_result"
    }
   ],
   "source": [
    "numbos = []\n",
    "for number in range(int(lower),int( upper+1)):\n",
    "    if number/3 == number//3 and number//2 == number/2 and number//5 == number/5:\n",
    "        numbos.append(number)\n",
    "# numbos # see small numbers divisible by these\n",
    "len(numbos)"
   ]
  },
  {
   "cell_type": "markdown",
   "id": "37267a3f-921d-4aa3-86ca-02674d7a457b",
   "metadata": {},
   "source": [
    "This is brute forcable in a couple minutes. There's likely another trick."
   ]
  },
  {
   "cell_type": "code",
   "execution_count": 104,
   "id": "6015e1ac-36eb-4083-8b86-8cc88cdd021a",
   "metadata": {},
   "outputs": [],
   "source": [
    "def is_form(number):\n",
    "    snum = str(number)\n",
    "    return '12345678900' == ''.join([snum[character] for character in range(0,len(snum),2)]) + snum[-1]"
   ]
  },
  {
   "cell_type": "code",
   "execution_count": 105,
   "id": "ce6818dc-18b8-4d08-9173-ae4ca2285997",
   "metadata": {},
   "outputs": [
    {
     "data": {
      "text/plain": [
       "True"
      ]
     },
     "execution_count": 105,
     "metadata": {},
     "output_type": "execute_result"
    }
   ],
   "source": [
    "is_form('1_2_3_4_5_6_7_8_9_0'.replace('_','6'))"
   ]
  },
  {
   "cell_type": "code",
   "execution_count": 106,
   "id": "85c6f731-4c8a-46d9-ae96-c6561a2ae906",
   "metadata": {},
   "outputs": [
    {
     "name": "stdout",
     "output_type": "stream",
     "text": [
      "1020000000\n",
      "1030000000\n",
      "1040000000\n",
      "1050000000\n",
      "1060000000\n",
      "1070000000\n",
      "1080000000\n",
      "1090000000\n",
      "1100000000\n",
      "1110000000\n",
      "1120000000\n",
      "1130000000\n",
      "1140000000\n",
      "1150000000\n",
      "1160000000\n",
      "1170000000\n",
      "1180000000\n",
      "1190000000\n",
      "1200000000\n",
      "1210000000\n",
      "1220000000\n",
      "1230000000\n",
      "1240000000\n",
      "1250000000\n",
      "1260000000\n",
      "1270000000\n",
      "1280000000\n",
      "1290000000\n",
      "1300000000\n",
      "1310000000\n",
      "1320000000\n",
      "1330000000\n",
      "1340000000\n",
      "1350000000\n",
      "1360000000\n",
      "1370000000\n",
      "1380000000\n"
     ]
    },
    {
     "data": {
      "text/plain": [
       "1389019170"
      ]
     },
     "execution_count": 106,
     "metadata": {},
     "output_type": "execute_result"
    }
   ],
   "source": [
    "for number in range(int(lower), int(upper)+1,10):\n",
    "    if number%int(1e7) == 0:\n",
    "        print(number)\n",
    "    if is_form(number**2):\n",
    "        answer = number\n",
    "        break\n",
    "answer"
   ]
  },
  {
   "cell_type": "code",
   "execution_count": 107,
   "id": "af880a63-336c-4e97-959e-690eaed04996",
   "metadata": {},
   "outputs": [
    {
     "data": {
      "text/plain": [
       "1929374254627488900"
      ]
     },
     "execution_count": 107,
     "metadata": {},
     "output_type": "execute_result"
    }
   ],
   "source": [
    "1389019170**2"
   ]
  },
  {
   "cell_type": "code",
   "execution_count": null,
   "id": "b2591b3e-b602-4773-845a-eafaa47e0a36",
   "metadata": {},
   "outputs": [],
   "source": []
  }
 ],
 "metadata": {
  "kernelspec": {
   "display_name": "Python 3 (ipykernel)",
   "language": "python",
   "name": "python3"
  },
  "language_info": {
   "codemirror_mode": {
    "name": "ipython",
    "version": 3
   },
   "file_extension": ".py",
   "mimetype": "text/x-python",
   "name": "python",
   "nbconvert_exporter": "python",
   "pygments_lexer": "ipython3",
   "version": "3.10.7"
  }
 },
 "nbformat": 4,
 "nbformat_minor": 5
}
