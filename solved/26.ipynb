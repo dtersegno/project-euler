{
 "cells": [
  {
   "cell_type": "markdown",
   "id": "ed1879fc-8731-458b-ab16-75dd7da1e957",
   "metadata": {},
   "source": [
    "Reciprocal Cycles\n",
    "---\n",
    "[Project Euler 26](https://projecteuler.net/problem=26)\n",
    "\n",
    "A unit fraction contains 1 in the numerator. The decimal representation of the unit fractions with denominators \n",
    " to \n",
    " are given.\n",
    "\n",
    "Find the value of \n",
    " for which \n",
    " contains the longest recurring cycle in its decimal fraction part."
   ]
  },
  {
   "cell_type": "markdown",
   "id": "24d52d6b-9591-477e-a0ac-966ac6ceb392",
   "metadata": {},
   "source": [
    "Let the fraction $x$ have a recurring cycle after the first $l$ leading decimal digits. $x\\cdot10^l - x = x(10^l - 1)$ isolates these digits.\n",
    "\n",
    "Can show that if \n",
    "$$\n",
    "\\frac1d = 0.(L)(P)\n",
    "$$\n",
    "with $L$ the leading part and $P$ the repeating part,\n",
    "$$\n",
    "\\frac{10^l-L}{d}10^p - P = \\frac{10^l}{d}-L\n",
    "$$\n",
    "So can we verify this is true?"
   ]
  },
  {
   "cell_type": "code",
   "execution_count": 97,
   "id": "c13d3ca1-e82a-462c-93c1-5d4bb8a3f6ff",
   "metadata": {},
   "outputs": [],
   "source": [
    "def is_prime(numbo):\n",
    "    potential_factors = np.arange(2,numbo//2)\n",
    "    divisors = np.array([numbo / potential_factor != numbo // potential_factor for potential_factor in potential_factors])\n",
    "    return np.all(divisors)\n",
    "\n",
    "def divisors(numbo):\n",
    "    potential_factors = np.arange(2,numbo//2)\n",
    "    divisors = np.array([numbo / potential_factor == numbo // potential_factor for potential_factor in potential_factors])\n",
    "    return potential_factors[divisors]\n",
    "\n",
    "def equation_check(d, l, p):\n",
    "    L = int((1/d)*10**l)\n",
    "    P = (1/d)*10**l - L\n",
    "    lhs = 10**p*(10**l-L)/d-P\n",
    "    rhs = (10**l)/d - L\n",
    "    return lhs == rhs\n",
    "\n",
    "dees = range(2,1000)\n",
    "ells = range(0,50)\n",
    "pees = range(6,50)\n",
    "\n",
    "results = np.array([\n",
    "    [d, 1/d, l, p, equation_check(d,l,p)]\n",
    "    for l in ells\n",
    "    for p in pees\n",
    "    for d in dees\n",
    "])"
   ]
  },
  {
   "cell_type": "code",
   "execution_count": 98,
   "id": "ca6e85ce-57ce-41ed-aae3-2f9b5a50f985",
   "metadata": {},
   "outputs": [],
   "source": [
    "import decimal as D\n",
    "import pandas as pd\n",
    "import numpy as np"
   ]
  },
  {
   "cell_type": "code",
   "execution_count": 99,
   "id": "2bb6a8be-bf79-4894-b9af-42b3a2a326cd",
   "metadata": {},
   "outputs": [
    {
     "data": {
      "text/plain": [
       "array([[2.00000000e+00, 5.00000000e-01, 0.00000000e+00, 6.00000000e+00,\n",
       "        0.00000000e+00],\n",
       "       [3.00000000e+00, 3.33333333e-01, 0.00000000e+00, 6.00000000e+00,\n",
       "        0.00000000e+00],\n",
       "       [4.00000000e+00, 2.50000000e-01, 0.00000000e+00, 6.00000000e+00,\n",
       "        0.00000000e+00],\n",
       "       ...,\n",
       "       [9.97000000e+02, 1.00300903e-03, 4.90000000e+01, 4.90000000e+01,\n",
       "        0.00000000e+00],\n",
       "       [9.98000000e+02, 1.00200401e-03, 4.90000000e+01, 4.90000000e+01,\n",
       "        0.00000000e+00],\n",
       "       [9.99000000e+02, 1.00100100e-03, 4.90000000e+01, 4.90000000e+01,\n",
       "        0.00000000e+00]])"
      ]
     },
     "execution_count": 99,
     "metadata": {},
     "output_type": "execute_result"
    }
   ],
   "source": [
    "results"
   ]
  },
  {
   "cell_type": "markdown",
   "id": "553ca40a-1440-44e5-9f05-2628ed6a1dea",
   "metadata": {},
   "source": [
    "- Start with a number $d$\n",
    "- pick a lead length $l$\n",
    "- take $10^l / d$ for a potential lead of length l\n",
    "- set the non decimal part to L\n",
    "- subtract L to get $(10^l / d)-L$\n",
    "- pick a repeat length $p$\n",
    "- chek if the decimal remainder $r$ repeats.\n",
    "    - $r\\cdot10^p - P = r$?"
   ]
  },
  {
   "cell_type": "code",
   "execution_count": 312,
   "id": "e657f13c-b9a3-40d5-8179-eeb8dc384829",
   "metadata": {},
   "outputs": [
    {
     "data": {
      "text/plain": [
       "range(2, 1000)"
      ]
     },
     "execution_count": 312,
     "metadata": {},
     "output_type": "execute_result"
    }
   ],
   "source": [
    "def get_L(num, l):\n",
    "    Num = str(num*10**l)\n",
    "    \n",
    "\n",
    "[\n",
    "    [d, l, p, divide(1,d), \n",
    "    for p in pees\n",
    "    for l in ells\n",
    "    for d in dees\n",
    "]"
   ]
  },
  {
   "cell_type": "code",
   "execution_count": 118,
   "id": "90ddec21-8d61-4eff-a0e8-dccc7bd6cc75",
   "metadata": {},
   "outputs": [
    {
     "data": {
      "text/plain": [
       "(Decimal('0.1428571428571428571429'),\n",
       " Decimal('0.1428571428571428571428571429'))"
      ]
     },
     "execution_count": 118,
     "metadata": {},
     "output_type": "execute_result"
    }
   ],
   "source": [
    "(D.Decimal(1)/D.Decimal(7))*D.Decimal(D.Decimal(10)**D.Decimal(6)) - D.Decimal(142857) , D.Decimal(1)/D.Decimal(7)"
   ]
  },
  {
   "cell_type": "code",
   "execution_count": 119,
   "id": "d115dc06-a382-469c-bf07-0aa76a275955",
   "metadata": {},
   "outputs": [],
   "source": [
    "import sympy as sp"
   ]
  },
  {
   "cell_type": "code",
   "execution_count": 134,
   "id": "2f76410f-bd7c-48cd-a792-1897bc047e99",
   "metadata": {},
   "outputs": [],
   "source": [
    "b = sp.symbols('b')"
   ]
  },
  {
   "cell_type": "code",
   "execution_count": 135,
   "id": "1b11a4a9-9e38-4986-83ff-6a19b96706c5",
   "metadata": {},
   "outputs": [
    {
     "data": {
      "text/plain": [
       "True"
      ]
     },
     "execution_count": 135,
     "metadata": {},
     "output_type": "execute_result"
    }
   ],
   "source": [
    "sp.Symbol('b') == b"
   ]
  },
  {
   "cell_type": "code",
   "execution_count": 127,
   "id": "849383a2-baf7-4c88-bb7b-d521c706dde1",
   "metadata": {},
   "outputs": [],
   "source": [
    "f = sp.Function('f')"
   ]
  },
  {
   "cell_type": "code",
   "execution_count": 128,
   "id": "73d27ee3-c3c0-4ab7-a744-ca5f6381d697",
   "metadata": {},
   "outputs": [
    {
     "data": {
      "text/latex": [
       "$\\displaystyle f{\\left(b \\right)}$"
      ],
      "text/plain": [
       "f(b)"
      ]
     },
     "execution_count": 128,
     "metadata": {},
     "output_type": "execute_result"
    }
   ],
   "source": [
    "f(b)"
   ]
  },
  {
   "cell_type": "markdown",
   "id": "d39459c7-2ebb-4774-8da9-c1c33e6830f1",
   "metadata": {},
   "source": [
    "# Long division"
   ]
  },
  {
   "cell_type": "code",
   "execution_count": 136,
   "id": "5e44fd9a-c955-4ab9-8f14-a96afa8bf908",
   "metadata": {},
   "outputs": [
    {
     "data": {
      "text/plain": [
       "0.16666666666666666"
      ]
     },
     "execution_count": 136,
     "metadata": {},
     "output_type": "execute_result"
    }
   ],
   "source": [
    "1/6"
   ]
  },
  {
   "cell_type": "code",
   "execution_count": 392,
   "id": "496d1d2e-103c-4da5-aba6-ef27ee5f621a",
   "metadata": {},
   "outputs": [],
   "source": [
    "def divide(num, denom, running_results = [], previously_encountered_pairs = [], max_depth = 100):\n",
    "    updated_encountered_pairs = previously_encountered_pairs.copy()\n",
    "    if len(running_results) <= max_depth:\n",
    "        digit = num//denom\n",
    "        remainder = num - denom*digit\n",
    "        if (num, denom) not in updated_encountered_pairs:\n",
    "            updated_encountered_pairs.append((num, denom))\n",
    "            return divide(remainder*10**len(str(digit)), denom, running_results + [str(digit)+'.'], updated_encountered_pairs, max_depth)\n",
    "        else:\n",
    "            position = updated_encountered_pairs.index((num, denom))\n",
    "            result = ''.join(running_results)\n",
    "            # print(result)\n",
    "            result = result.split('.')\n",
    "            L = result[0]\n",
    "            # print(result)\n",
    "            result = L + '.' + ''.join(result[1:])\n",
    "            result = result[:len(L) + position] + '(' + result[len(L) + position:] + ')'\n",
    "            return result#, updated_encountered_pairs, num, denom\n",
    "    else:\n",
    "        result = ''.join(running_results)\n",
    "        # print(result)\n",
    "        result = result.split('.')\n",
    "        # print(result)\n",
    "        result = result[0] + '.' + ''.join(result[1:])\n",
    "        return result"
   ]
  },
  {
   "cell_type": "code",
   "execution_count": 384,
   "id": "4240dc2d-f40c-493f-9d5a-5aed15b05062",
   "metadata": {
    "tags": []
   },
   "outputs": [
    {
     "data": {
      "text/plain": [
       "('0.(017094)',\n",
       " [(4, 234),\n",
       "  (40, 234),\n",
       "  (400, 234),\n",
       "  (1660, 234),\n",
       "  (220, 234),\n",
       "  (2200, 234),\n",
       "  (940, 234)],\n",
       " 40,\n",
       " 234)"
      ]
     },
     "execution_count": 384,
     "metadata": {},
     "output_type": "execute_result"
    }
   ],
   "source": [
    "divide(4,234)"
   ]
  },
  {
   "cell_type": "code",
   "execution_count": 422,
   "id": "2f37b2b8-1b59-4930-bf97-e77a86d486d5",
   "metadata": {},
   "outputs": [
    {
     "data": {
      "text/plain": [
       "'0.(0588235294117647)'"
      ]
     },
     "execution_count": 422,
     "metadata": {},
     "output_type": "execute_result"
    }
   ],
   "source": [
    "divide(1,17)"
   ]
  },
  {
   "cell_type": "code",
   "execution_count": 448,
   "id": "e27d505f-adea-4812-8720-e2e700c723cf",
   "metadata": {},
   "outputs": [
    {
     "data": {
      "text/plain": [
       "'0.(142857)'"
      ]
     },
     "execution_count": 448,
     "metadata": {},
     "output_type": "execute_result"
    }
   ],
   "source": [
    "divide(1,7)"
   ]
  },
  {
   "cell_type": "code",
   "execution_count": 458,
   "id": "7855a570-90f9-44c0-9c9b-e7a93756bc2f",
   "metadata": {},
   "outputs": [],
   "source": [
    "results = np.array([\n",
    "    [d, 1/d, len(divide(1,d, max_depth=1500000).split('(')[1])-1]\n",
    "    for d in dees\n",
    "    if '(' in divide(1,d, max_depth = 1500000)\n",
    "])"
   ]
  },
  {
   "cell_type": "code",
   "execution_count": 460,
   "id": "aa7d137c-590c-455a-8256-da43c6e83c2b",
   "metadata": {},
   "outputs": [
    {
     "data": {
      "text/plain": [
       "array([9.830000e+02, 1.017294e-03, 9.820000e+02])"
      ]
     },
     "execution_count": 460,
     "metadata": {},
     "output_type": "execute_result"
    }
   ],
   "source": [
    "results[np.argmax(results[:,2])]"
   ]
  },
  {
   "cell_type": "code",
   "execution_count": 457,
   "id": "c7c842f1-2119-4a7e-98dd-5a5b12de88b4",
   "metadata": {},
   "outputs": [
    {
     "data": {
      "text/plain": [
       "'0.(001011122345803842264914054600606673407482305358948432760364004044489383215369059656218402426693629929221435793731041456016177957532861476238624873609706774519716885743174924165824064711830131445904954499494438827098078867542972699696663296258847320525783619817997977755308392315470171890798786653185035389282103134479271991911021233569261880687563195146612740141557128412537917087967644084934277047522750252780586450960566228513650151668351870576339737108190091)'"
      ]
     },
     "execution_count": 457,
     "metadata": {},
     "output_type": "execute_result"
    }
   ],
   "source": [
    "divide(1,989, max_depth=100000)"
   ]
  },
  {
   "cell_type": "code",
   "execution_count": 444,
   "id": "4759bdde-2686-4565-8b68-b161215e4dae",
   "metadata": {},
   "outputs": [
    {
     "data": {
      "text/plain": [
       "Decimal('0.001100110011001100110011001100')"
      ]
     },
     "execution_count": 444,
     "metadata": {},
     "output_type": "execute_result"
    }
   ],
   "source": [
    "D.Decimal(1)/D.Decimal(909)"
   ]
  },
  {
   "cell_type": "code",
   "execution_count": 411,
   "id": "413be787-7bca-43e9-8cf5-b4c9146f4a83",
   "metadata": {},
   "outputs": [
    {
     "data": {
      "text/plain": [
       "'0.(005025125628140703517587939698492462311557788944723618090452261306532663316582914572864321608040201)'"
      ]
     },
     "execution_count": 411,
     "metadata": {},
     "output_type": "execute_result"
    }
   ],
   "source": [
    "divide(1,199)"
   ]
  },
  {
   "cell_type": "code",
   "execution_count": 445,
   "id": "afbae8b1-696e-4e0c-bdc1-26e93ce30b4f",
   "metadata": {},
   "outputs": [
    {
     "name": "stdout",
     "output_type": "stream",
     "text": [
      "3) 0.3333333333333333 --> 16\n",
      "9) 0.1111111111111111 --> 16\n",
      "73) 0.0136986301369863 --> 16\n",
      "219) 0.0045662100456621 --> 16\n",
      "657) 0.0015220700152207 --> 16\n",
      "909) 0.0011001100110011 --> 16\n"
     ]
    }
   ],
   "source": [
    " arr = []\n",
    "\n",
    "for d in range(1, 1000):\n",
    "    num = 1/d\n",
    "    if len(str(num)) >= 1:\n",
    "        arr.append(num)\n",
    "\n",
    "\n",
    "cnt = 0\n",
    "\n",
    "for ch in arr:\n",
    "    cnt += 1\n",
    "    if len(str(ch)[2:]) == 16:\n",
    "        if str(ch)[2:10] == str(ch)[10:18]:\n",
    "            print(f'{cnt}) {ch} --> {len(str(ch)[2:])}')"
   ]
  },
  {
   "cell_type": "code",
   "execution_count": 446,
   "id": "241695d0-b69f-46a5-a008-29dc787cac1e",
   "metadata": {},
   "outputs": [
    {
     "data": {
      "text/plain": [
       "'0.0(714285)'"
      ]
     },
     "execution_count": 446,
     "metadata": {},
     "output_type": "execute_result"
    }
   ],
   "source": [
    "divide(1,14)"
   ]
  },
  {
   "cell_type": "code",
   "execution_count": 447,
   "id": "d9c28ba0-10f1-4542-8104-1e07e42eb717",
   "metadata": {},
   "outputs": [
    {
     "data": {
      "text/plain": [
       "'0.0010172939979654120040691759918616480162767039674465920651068158697863682604272634791454730417090539'"
      ]
     },
     "execution_count": 447,
     "metadata": {},
     "output_type": "execute_result"
    }
   ],
   "source": [
    "divide(1,983)"
   ]
  },
  {
   "cell_type": "code",
   "execution_count": null,
   "id": "3f9e2900-a72d-4d57-ab2a-3608ab2d0274",
   "metadata": {},
   "outputs": [],
   "source": []
  }
 ],
 "metadata": {
  "kernelspec": {
   "display_name": "Python 3 (ipykernel)",
   "language": "python",
   "name": "python3"
  },
  "language_info": {
   "codemirror_mode": {
    "name": "ipython",
    "version": 3
   },
   "file_extension": ".py",
   "mimetype": "text/x-python",
   "name": "python",
   "nbconvert_exporter": "python",
   "pygments_lexer": "ipython3",
   "version": "3.10.7"
  }
 },
 "nbformat": 4,
 "nbformat_minor": 5
}
