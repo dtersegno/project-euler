{
 "cells": [
  {
   "cell_type": "markdown",
   "id": "c66df8ba-58f0-4e41-a4ec-0cf94df8ced4",
   "metadata": {},
   "source": [
    "Distinct powers\n",
    "---\n",
    "\n",
    "Consider all integer combinations of $a^b$ for $a,b \\in \\left[2,5\\right]$. If placed in numerical order and remove repeats, we get the following sequence of 15 distinct terms:\n",
    "$4,8,9,16,25,27,32,64,81,125,243,256,625,1024,3125$\n",
    "\n",
    "How many distinct terms are in the sequence generated for $a,b \\in [2,100]$?"
   ]
  },
  {
   "cell_type": "code",
   "execution_count": 1,
   "id": "d458e961-48e8-4bd5-9bc5-83b7ae2695a6",
   "metadata": {},
   "outputs": [],
   "source": [
    "import numpy as np"
   ]
  },
  {
   "cell_type": "code",
   "execution_count": 3,
   "id": "438dae62-cf8d-41da-a8f2-cece9827be51",
   "metadata": {},
   "outputs": [
    {
     "data": {
      "text/plain": [
       "array([4, 8, 9, ...,\n",
       "       13261955589475318753308980958435182616922905831015351444050494533312509010756375490958520845863725759086387552664739214251402218000635896969959420366494800836445520178642939314417801334276044804325376,\n",
       "       36603234127322950493061602657251738618971207663892369140595737269931704475072474818719654351002695040066156910065284327471823569680179941585710535449170757427389035006098270837114978219916760849490001,\n",
       "       100000000000000000000000000000000000000000000000000000000000000000000000000000000000000000000000000000000000000000000000000000000000000000000000000000000000000000000000000000000000000000000000000000000],\n",
       "      dtype=object)"
      ]
     },
     "execution_count": 3,
     "metadata": {},
     "output_type": "execute_result"
    }
   ],
   "source": [
    "terms = []\n",
    "np.unique([\n",
    "    a**b\n",
    "    for a in range(2,101)\n",
    "    for b in range(2,101)\n",
    "])"
   ]
  },
  {
   "cell_type": "code",
   "execution_count": 4,
   "id": "df7a6fd0-01be-49a9-be69-2ead7cc15f58",
   "metadata": {},
   "outputs": [
    {
     "data": {
      "text/plain": [
       "9183"
      ]
     },
     "execution_count": 4,
     "metadata": {},
     "output_type": "execute_result"
    }
   ],
   "source": [
    "len(_)"
   ]
  },
  {
   "cell_type": "code",
   "execution_count": null,
   "id": "2002acf2-e04c-4a5e-a49a-19398f15c0f7",
   "metadata": {},
   "outputs": [],
   "source": []
  }
 ],
 "metadata": {
  "kernelspec": {
   "display_name": "Python 3 (ipykernel)",
   "language": "python",
   "name": "python3"
  },
  "language_info": {
   "codemirror_mode": {
    "name": "ipython",
    "version": 3
   },
   "file_extension": ".py",
   "mimetype": "text/x-python",
   "name": "python",
   "nbconvert_exporter": "python",
   "pygments_lexer": "ipython3",
   "version": "3.10.7"
  }
 },
 "nbformat": 4,
 "nbformat_minor": 5
}
