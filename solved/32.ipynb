{
 "cells": [
  {
   "cell_type": "markdown",
   "id": "39e04573-9fbc-4f8f-8e55-675b4ff0ff5b",
   "metadata": {},
   "source": [
    "pandigital products\n",
    "---\n",
    "We shall say that an n-digit number is pandigital if it makes use of all the digits 1 to n exactly once; for example, the 5-digit number 15234, is 1 through 5 pandigital.\n",
    "\n",
    "The product 7254 is unusual, as the identity, 39 x 186 = 7254, containing multiplicand, multiplier, and product is 1 through 9 pandigital.\n",
    "\n",
    "Find the sum of all products whose multiplicand/multiplier/product identity can be written as a 1 through 9 pandigital.\n",
    "\n",
    "HINT: Some products can be obtained in more than one way so be sure to only include it once in your sum."
   ]
  },
  {
   "cell_type": "code",
   "execution_count": 1,
   "id": "3edac52d-a188-420f-a0b6-0bbfadec33dc",
   "metadata": {},
   "outputs": [],
   "source": [
    "import numpy as np\n",
    "import pandas as pd"
   ]
  },
  {
   "cell_type": "code",
   "execution_count": 2,
   "id": "50d382db-ee9b-485c-99d6-061b300e901d",
   "metadata": {},
   "outputs": [
    {
     "data": {
      "text/plain": [
       "['1', '2', '3', '4', '5', '6', '7', '8', '9']"
      ]
     },
     "execution_count": 2,
     "metadata": {},
     "output_type": "execute_result"
    }
   ],
   "source": [
    "digits = list(map(str, range(1, 10)))\n",
    "digits"
   ]
  },
  {
   "cell_type": "code",
   "execution_count": 20,
   "id": "cf41a887-e0ab-4ce8-b44c-2eb1e167d288",
   "metadata": {},
   "outputs": [],
   "source": [
    "def is_pandigital_product(factor1, factor2):\n",
    "    f1_digits = [digit for digit in str(factor1)]\n",
    "    f2_digits = [digit for digit in str(factor2)]\n",
    "    #check if there's any overlap. Not a pandigital product automatically.\n",
    "    if len(np.intersect1d(f1_digits, f2_digits)) > 0:\n",
    "        return False\n",
    "    product = factor1*factor2\n",
    "    product_digits = [digit for digit in str(product)]\n",
    "    all_digits = f1_digits + f2_digits + product_digits\n",
    "    return set(all_digits) == set(digits) and len(all_digits) == len(digits)"
   ]
  },
  {
   "cell_type": "code",
   "execution_count": 22,
   "id": "87b477da-b3af-42d4-9760-4d2711001628",
   "metadata": {},
   "outputs": [
    {
     "data": {
      "text/plain": [
       "True"
      ]
     },
     "execution_count": 22,
     "metadata": {},
     "output_type": "execute_result"
    }
   ],
   "source": [
    "is_pandigital_product(39, 186)"
   ]
  },
  {
   "cell_type": "code",
   "execution_count": 14,
   "id": "df55d0f2-9c2b-4977-b246-eb89b431d970",
   "metadata": {},
   "outputs": [
    {
     "data": {
      "text/plain": [
       "array(['1', '2', '3', '4', '5', '6', '7', '8', '9'], dtype='<U1')"
      ]
     },
     "execution_count": 14,
     "metadata": {},
     "output_type": "execute_result"
    }
   ],
   "source": [
    "np.unique(Out[9])"
   ]
  },
  {
   "cell_type": "code",
   "execution_count": 16,
   "id": "d2bdd0f5-c5b4-4b19-b7b9-22435f9de115",
   "metadata": {},
   "outputs": [
    {
     "data": {
      "text/plain": [
       "{'1', '2', '3', '4', '5', '6', '7', '8', '9'}"
      ]
     },
     "execution_count": 16,
     "metadata": {},
     "output_type": "execute_result"
    }
   ],
   "source": [
    "set(np.unique(digits))"
   ]
  },
  {
   "cell_type": "markdown",
   "id": "9da2f2cb-c5b6-404c-9dc7-77edce9abcad",
   "metadata": {},
   "source": [
    "What's the largest possible pandigital product? Can there be any numbers in the 100k range?\n",
    "I don't think so. "
   ]
  },
  {
   "cell_type": "code",
   "execution_count": 25,
   "id": "79a4b16d-b40b-488e-8078-10cbc70f97a2",
   "metadata": {},
   "outputs": [
    {
     "data": {
      "text/plain": [
       "351.363060095964"
      ]
     },
     "execution_count": 25,
     "metadata": {},
     "output_type": "execute_result"
    }
   ],
   "source": [
    "np.sqrt(123456)"
   ]
  },
  {
   "cell_type": "markdown",
   "id": "571a216b-0b8c-4526-b6b8-2e3b941baf42",
   "metadata": {},
   "source": [
    "how about 10k?"
   ]
  },
  {
   "cell_type": "code",
   "execution_count": 27,
   "id": "e34e1d9c-f32e-4892-8aad-a52e84ec2e7c",
   "metadata": {},
   "outputs": [
    {
     "data": {
      "text/plain": [
       "111.1080555135405"
      ]
     },
     "execution_count": 27,
     "metadata": {},
     "output_type": "execute_result"
    }
   ],
   "source": [
    "np.sqrt(12345)"
   ]
  },
  {
   "cell_type": "markdown",
   "id": "67635431-3249-4499-9d6f-6fdf83b352be",
   "metadata": {},
   "source": [
    "Possibly."
   ]
  },
  {
   "cell_type": "code",
   "execution_count": 28,
   "id": "baccf413-064c-47cc-be45-78117796d0fe",
   "metadata": {},
   "outputs": [
    {
     "data": {
      "text/plain": [
       "2345678"
      ]
     },
     "execution_count": 28,
     "metadata": {},
     "output_type": "execute_result"
    }
   ],
   "source": [
    "1*2345678"
   ]
  },
  {
   "cell_type": "code",
   "execution_count": 29,
   "id": "e6c5044e-a439-46d7-8032-1fb70add9bdf",
   "metadata": {},
   "outputs": [],
   "source": [
    "import sympy as sp"
   ]
  },
  {
   "cell_type": "code",
   "execution_count": 33,
   "id": "3b9253a1-eb75-4055-976c-ca9052380e8d",
   "metadata": {},
   "outputs": [
    {
     "data": {
      "text/plain": [
       "[2, 3, 13, 31]"
      ]
     },
     "execution_count": 33,
     "metadata": {},
     "output_type": "execute_result"
    }
   ],
   "source": [
    "sp.primefactors(7254)"
   ]
  },
  {
   "cell_type": "code",
   "execution_count": 32,
   "id": "dbbcaea5-8904-494c-8185-83dac0ad78f9",
   "metadata": {},
   "outputs": [
    {
     "data": {
      "text/plain": [
       "7254"
      ]
     },
     "execution_count": 32,
     "metadata": {},
     "output_type": "execute_result"
    }
   ],
   "source": [
    "_*3"
   ]
  },
  {
   "cell_type": "code",
   "execution_count": 34,
   "id": "648fe52a-b5db-41b3-9284-b4c1d7fef47f",
   "metadata": {},
   "outputs": [],
   "source": [
    "pandf = pd.DataFrame([], columns = ['number', 'factors'])"
   ]
  },
  {
   "cell_type": "code",
   "execution_count": 46,
   "id": "b3aecd1f-d3b8-499e-b2fa-9e5a586a45e2",
   "metadata": {},
   "outputs": [
    {
     "name": "stdout",
     "output_type": "stream",
     "text": [
      "Checking factors above 100.\n",
      "Checking factors above 1000.\n"
     ]
    }
   ],
   "source": [
    "current_log = 2\n",
    "for factor1 in range(int(10**2),int( 1e4)):\n",
    "    if factor1 >= 10**current_log:\n",
    "        print(f'Checking factors above {10**current_log}.')\n",
    "        current_log += 1\n",
    "    for factor2 in range(factor1, int(1e4)):\n",
    "        if is_pandigital_product(factor1, factor2):\n",
    "            print(f'Found pandigital product:\\t{factor1}\\tx\\t{factor2}\\t=\\t{factor1*factor2}')\n",
    "            pandf = pd.concat([pandf, pd.DataFrame([[factor1*factor2, [factor1,factor2]]], columns = ['number', 'factors'])], ignore_index = True)"
   ]
  },
  {
   "cell_type": "code",
   "execution_count": 47,
   "id": "3024f855-f5ac-4191-9ce4-fba545ea20bb",
   "metadata": {},
   "outputs": [
    {
     "data": {
      "text/html": [
       "<div>\n",
       "<style scoped>\n",
       "    .dataframe tbody tr th:only-of-type {\n",
       "        vertical-align: middle;\n",
       "    }\n",
       "\n",
       "    .dataframe tbody tr th {\n",
       "        vertical-align: top;\n",
       "    }\n",
       "\n",
       "    .dataframe thead th {\n",
       "        text-align: right;\n",
       "    }\n",
       "</style>\n",
       "<table border=\"1\" class=\"dataframe\">\n",
       "  <thead>\n",
       "    <tr style=\"text-align: right;\">\n",
       "      <th></th>\n",
       "      <th>number</th>\n",
       "      <th>factors</th>\n",
       "    </tr>\n",
       "  </thead>\n",
       "  <tbody>\n",
       "    <tr>\n",
       "      <th>0</th>\n",
       "      <td>6952</td>\n",
       "      <td>[4, 1738]</td>\n",
       "    </tr>\n",
       "    <tr>\n",
       "      <th>1</th>\n",
       "      <td>7852</td>\n",
       "      <td>[4, 1963]</td>\n",
       "    </tr>\n",
       "    <tr>\n",
       "      <th>2</th>\n",
       "      <td>6952</td>\n",
       "      <td>[4, 1738]</td>\n",
       "    </tr>\n",
       "    <tr>\n",
       "      <th>3</th>\n",
       "      <td>7852</td>\n",
       "      <td>[4, 1963]</td>\n",
       "    </tr>\n",
       "    <tr>\n",
       "      <th>4</th>\n",
       "      <td>5796</td>\n",
       "      <td>[12, 483]</td>\n",
       "    </tr>\n",
       "    <tr>\n",
       "      <th>5</th>\n",
       "      <td>5346</td>\n",
       "      <td>[18, 297]</td>\n",
       "    </tr>\n",
       "    <tr>\n",
       "      <th>6</th>\n",
       "      <td>5346</td>\n",
       "      <td>[27, 198]</td>\n",
       "    </tr>\n",
       "    <tr>\n",
       "      <th>7</th>\n",
       "      <td>4396</td>\n",
       "      <td>[28, 157]</td>\n",
       "    </tr>\n",
       "    <tr>\n",
       "      <th>8</th>\n",
       "      <td>7254</td>\n",
       "      <td>[39, 186]</td>\n",
       "    </tr>\n",
       "    <tr>\n",
       "      <th>9</th>\n",
       "      <td>5796</td>\n",
       "      <td>[42, 138]</td>\n",
       "    </tr>\n",
       "    <tr>\n",
       "      <th>10</th>\n",
       "      <td>7632</td>\n",
       "      <td>[48, 159]</td>\n",
       "    </tr>\n",
       "    <tr>\n",
       "      <th>11</th>\n",
       "      <td>6952</td>\n",
       "      <td>[4, 1738]</td>\n",
       "    </tr>\n",
       "    <tr>\n",
       "      <th>12</th>\n",
       "      <td>7852</td>\n",
       "      <td>[4, 1963]</td>\n",
       "    </tr>\n",
       "    <tr>\n",
       "      <th>13</th>\n",
       "      <td>5796</td>\n",
       "      <td>[12, 483]</td>\n",
       "    </tr>\n",
       "    <tr>\n",
       "      <th>14</th>\n",
       "      <td>5346</td>\n",
       "      <td>[18, 297]</td>\n",
       "    </tr>\n",
       "    <tr>\n",
       "      <th>15</th>\n",
       "      <td>5346</td>\n",
       "      <td>[27, 198]</td>\n",
       "    </tr>\n",
       "    <tr>\n",
       "      <th>16</th>\n",
       "      <td>4396</td>\n",
       "      <td>[28, 157]</td>\n",
       "    </tr>\n",
       "  </tbody>\n",
       "</table>\n",
       "</div>"
      ],
      "text/plain": [
       "   number    factors\n",
       "0    6952  [4, 1738]\n",
       "1    7852  [4, 1963]\n",
       "2    6952  [4, 1738]\n",
       "3    7852  [4, 1963]\n",
       "4    5796  [12, 483]\n",
       "5    5346  [18, 297]\n",
       "6    5346  [27, 198]\n",
       "7    4396  [28, 157]\n",
       "8    7254  [39, 186]\n",
       "9    5796  [42, 138]\n",
       "10   7632  [48, 159]\n",
       "11   6952  [4, 1738]\n",
       "12   7852  [4, 1963]\n",
       "13   5796  [12, 483]\n",
       "14   5346  [18, 297]\n",
       "15   5346  [27, 198]\n",
       "16   4396  [28, 157]"
      ]
     },
     "execution_count": 47,
     "metadata": {},
     "output_type": "execute_result"
    }
   ],
   "source": [
    "pandf"
   ]
  },
  {
   "cell_type": "code",
   "execution_count": 49,
   "id": "8b1ff713-c8ba-4426-8aec-484d46d8dab6",
   "metadata": {},
   "outputs": [
    {
     "data": {
      "text/plain": [
       "45228"
      ]
     },
     "execution_count": 49,
     "metadata": {},
     "output_type": "execute_result"
    }
   ],
   "source": [
    "sum(pandf['number'].unique())"
   ]
  },
  {
   "cell_type": "code",
   "execution_count": 40,
   "id": "1f5ffe50-3e91-4444-83da-88aa9a424d16",
   "metadata": {},
   "outputs": [
    {
     "data": {
      "text/html": [
       "<div>\n",
       "<style scoped>\n",
       "    .dataframe tbody tr th:only-of-type {\n",
       "        vertical-align: middle;\n",
       "    }\n",
       "\n",
       "    .dataframe tbody tr th {\n",
       "        vertical-align: top;\n",
       "    }\n",
       "\n",
       "    .dataframe thead th {\n",
       "        text-align: right;\n",
       "    }\n",
       "</style>\n",
       "<table border=\"1\" class=\"dataframe\">\n",
       "  <thead>\n",
       "    <tr style=\"text-align: right;\">\n",
       "      <th></th>\n",
       "      <th>number</th>\n",
       "      <th>factors</th>\n",
       "    </tr>\n",
       "  </thead>\n",
       "  <tbody>\n",
       "    <tr>\n",
       "      <th>0</th>\n",
       "      <td>21</td>\n",
       "      <td>[3, 7]</td>\n",
       "    </tr>\n",
       "  </tbody>\n",
       "</table>\n",
       "</div>"
      ],
      "text/plain": [
       "  number factors\n",
       "0     21  [3, 7]"
      ]
     },
     "execution_count": 40,
     "metadata": {},
     "output_type": "execute_result"
    }
   ],
   "source": [
    "pd.concat([pandf, pd.DataFrame([[3*7, [3,7]]], columns = ['number','factors'])], ignore_index=True)"
   ]
  }
 ],
 "metadata": {
  "kernelspec": {
   "display_name": "Python 3 (ipykernel)",
   "language": "python",
   "name": "python3"
  },
  "language_info": {
   "codemirror_mode": {
    "name": "ipython",
    "version": 3
   },
   "file_extension": ".py",
   "mimetype": "text/x-python",
   "name": "python",
   "nbconvert_exporter": "python",
   "pygments_lexer": "ipython3",
   "version": "3.10.7"
  }
 },
 "nbformat": 4,
 "nbformat_minor": 5
}
