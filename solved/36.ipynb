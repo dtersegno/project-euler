{
 "cells": [
  {
   "cell_type": "markdown",
   "id": "ab8e17c7-fe91-4115-a256-6eed52706923",
   "metadata": {
    "tags": []
   },
   "source": [
    "Double base palindromes\n",
    "---\n",
    "\n",
    "The decimal number, $585 = 1001001001_2$\n",
    " (binary), is palindromic in both bases.\n",
    "\n",
    "Find the sum of all numbers, less than one million, which are palindromic in base 10 and base 2.\n",
    "\n",
    "(Please note that the palindromic number, in either base, may not include leading zeros.)"
   ]
  },
  {
   "cell_type": "code",
   "execution_count": 8,
   "id": "c8b65019-9673-4dc6-a38d-72c937e1bc02",
   "metadata": {},
   "outputs": [],
   "source": [
    "def palindromic(number, base = 10):\n",
    "    if base == 10:\n",
    "        return str(number) == str(number)[::-1]\n",
    "    elif base == 2:\n",
    "        bin_number = bin(number)[2:]\n",
    "        return bin_number == bin_number[::-1]\n",
    "    else:\n",
    "        print('Only bases 10 and 2 supported :( sorwy')"
   ]
  },
  {
   "cell_type": "code",
   "execution_count": 9,
   "id": "a7b14a5e-c221-4fb8-a0fa-b8e1b0f54e31",
   "metadata": {},
   "outputs": [
    {
     "data": {
      "text/plain": [
       "True"
      ]
     },
     "execution_count": 9,
     "metadata": {},
     "output_type": "execute_result"
    }
   ],
   "source": [
    "palindromic(585)"
   ]
  },
  {
   "cell_type": "code",
   "execution_count": 12,
   "id": "a568426a-fc47-429b-98c2-178a3dda5af6",
   "metadata": {},
   "outputs": [
    {
     "data": {
      "text/plain": [
       "True"
      ]
     },
     "execution_count": 12,
     "metadata": {},
     "output_type": "execute_result"
    }
   ],
   "source": [
    "palindromic(585, 2)"
   ]
  },
  {
   "cell_type": "code",
   "execution_count": 15,
   "id": "171a69c1-2df2-4e8b-92fb-7600c32ed0cb",
   "metadata": {},
   "outputs": [],
   "source": [
    "#track palindromic numbers in base 10.\n",
    "max_number = int(1e6)\n",
    "palindromic_tens = [\n",
    "    number\n",
    "    for number in range(max_number)\n",
    "    if palindromic(number, 10)\n",
    "]"
   ]
  },
  {
   "cell_type": "code",
   "execution_count": 17,
   "id": "d680d74a-1e4d-4fdf-bc1e-e8ba8a36c234",
   "metadata": {},
   "outputs": [
    {
     "data": {
      "text/plain": [
       "[995599, 996699, 997799, 998899, 999999]"
      ]
     },
     "execution_count": 17,
     "metadata": {},
     "output_type": "execute_result"
    }
   ],
   "source": [
    "palindromic_tens[-5:]"
   ]
  },
  {
   "cell_type": "code",
   "execution_count": 18,
   "id": "cd077c80-9d48-47f1-8a73-b1cd5b953b81",
   "metadata": {},
   "outputs": [
    {
     "data": {
      "text/plain": [
       "[0,\n",
       " 1,\n",
       " 3,\n",
       " 5,\n",
       " 7,\n",
       " 9,\n",
       " 33,\n",
       " 99,\n",
       " 313,\n",
       " 585,\n",
       " 717,\n",
       " 7447,\n",
       " 9009,\n",
       " 15351,\n",
       " 32223,\n",
       " 39993,\n",
       " 53235,\n",
       " 53835,\n",
       " 73737,\n",
       " 585585]"
      ]
     },
     "execution_count": 18,
     "metadata": {},
     "output_type": "execute_result"
    }
   ],
   "source": [
    "palindromic_twos_and_tens = [\n",
    "    number\n",
    "    for number in palindromic_tens\n",
    "    if palindromic(number, 2)\n",
    "]\n",
    "palindromic_twos_and_tens"
   ]
  },
  {
   "cell_type": "code",
   "execution_count": 20,
   "id": "7612bf69-5f33-4ae0-8ec1-f3276a5075e0",
   "metadata": {},
   "outputs": [
    {
     "data": {
      "text/plain": [
       "872187"
      ]
     },
     "execution_count": 20,
     "metadata": {},
     "output_type": "execute_result"
    }
   ],
   "source": [
    "sum(palindromic_twos_and_tens)"
   ]
  },
  {
   "cell_type": "code",
   "execution_count": null,
   "id": "92432840-c4b5-4979-9ffb-36040cfeb73a",
   "metadata": {},
   "outputs": [],
   "source": []
  }
 ],
 "metadata": {
  "kernelspec": {
   "display_name": "Python 3 (ipykernel)",
   "language": "python",
   "name": "python3"
  },
  "language_info": {
   "codemirror_mode": {
    "name": "ipython",
    "version": 3
   },
   "file_extension": ".py",
   "mimetype": "text/x-python",
   "name": "python",
   "nbconvert_exporter": "python",
   "pygments_lexer": "ipython3",
   "version": "3.10.7"
  }
 },
 "nbformat": 4,
 "nbformat_minor": 5
}
