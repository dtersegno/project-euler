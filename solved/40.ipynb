{
 "cells": [
  {
   "cell_type": "markdown",
   "id": "cd93b62f-d36a-4dff-8906-0a2a03d3e853",
   "metadata": {},
   "source": [
    "Champernowne's Constant\n",
    "---\n",
    "\n",
    "By brute force."
   ]
  },
  {
   "cell_type": "code",
   "execution_count": 30,
   "id": "2ebc27ee-fff7-42c5-bc7d-b96f14b7f9c8",
   "metadata": {},
   "outputs": [],
   "source": [
    "def generate_concatenated_digits(decimal_depth = 1000):\n",
    "    number = '0.'\n",
    "    decimal_parts = ''.join(map(str,list(range(1,decimal_depth))))\n",
    "    return number + decimal_parts[:decimal_depth]\n",
    "\n",
    "def get_nth_digit(n, the_string):\n",
    "    return int(the_string[n+2-1])"
   ]
  },
  {
   "cell_type": "code",
   "execution_count": 31,
   "id": "dce9639e-ee07-45dd-aeb5-79b86542d073",
   "metadata": {},
   "outputs": [],
   "source": [
    "a_big_string = generate_concatenated_digits(1000002)\n",
    "numbos = [\n",
    "    [n, get_nth_digit(n, a_big_string)]\n",
    "    for n in [10**i for i in range(7)]\n",
    "]"
   ]
  },
  {
   "cell_type": "code",
   "execution_count": 32,
   "id": "d0909aa1-10c3-4c88-bfb5-e87b693cd7d2",
   "metadata": {},
   "outputs": [
    {
     "data": {
      "text/plain": [
       "[[1, 1], [10, 1], [100, 5], [1000, 3], [10000, 7], [100000, 2], [1000000, 1]]"
      ]
     },
     "execution_count": 32,
     "metadata": {},
     "output_type": "execute_result"
    }
   ],
   "source": [
    "numbos"
   ]
  },
  {
   "cell_type": "code",
   "execution_count": 33,
   "id": "0f15a8b5-45b1-4e3e-989b-c6cc557d229c",
   "metadata": {},
   "outputs": [
    {
     "data": {
      "text/plain": [
       "70"
      ]
     },
     "execution_count": 33,
     "metadata": {},
     "output_type": "execute_result"
    }
   ],
   "source": [
    "5*7*2"
   ]
  },
  {
   "cell_type": "code",
   "execution_count": null,
   "id": "6fa59fd8-ca1a-42a4-8f59-d3a8410c9aa5",
   "metadata": {},
   "outputs": [],
   "source": []
  }
 ],
 "metadata": {
  "kernelspec": {
   "display_name": "Python 3 (ipykernel)",
   "language": "python",
   "name": "python3"
  },
  "language_info": {
   "codemirror_mode": {
    "name": "ipython",
    "version": 3
   },
   "file_extension": ".py",
   "mimetype": "text/x-python",
   "name": "python",
   "nbconvert_exporter": "python",
   "pygments_lexer": "ipython3",
   "version": "3.10.7"
  }
 },
 "nbformat": 4,
 "nbformat_minor": 5
}
