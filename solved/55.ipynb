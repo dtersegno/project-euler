{
 "cells": [
  {
   "cell_type": "markdown",
   "id": "d56bcc74-1ac2-473e-8f5e-865b749b5c2d",
   "metadata": {
    "tags": []
   },
   "source": [
    "Lychrel Numbers\n",
    "---\n",
    "\n",
    "If we take 47, reverse and add, 47 + 74 = 121, which is palindromic.\n",
    "\n",
    "Not all numbers produce palindromes so quickly. For example,\n",
    "\n",
    "349 + 943 = 1292\n",
    "\n",
    "1292 + 2921 = 4213\n",
    "\n",
    "4213 + 3124 = 773\n",
    "\n",
    "That is, 349 took three iterations to arrive at a palindrome.\n",
    "\n",
    "Although no one has proved it yet, it is thought that some numbers, like 196, never produce a palindrome. A number that never forms a palindrome through the reverse and add process is called a *Lychrel number*. Due to the theoretical nature of these numbers, and for the purpose of this problem, we shall assume that a number is Lychrel until proven otherwise. In addition you are given that for every number below ten-thousand, it will either (i) become a palindrome in less than fifty iterations, or, (ii) no one, with all the computing power that exists, has managed so far to map it to a palindrome. In fact, 10677 is the first number to be shown to require over fifty iterations before producing a palindrome. (52 iterations, 28 digits.)\n",
    "\n",
    "Surprisingly, there are palindromic numbers that are themselves Lychrel numbers; the first example is 4994.\n",
    "\n",
    "How many Lychrel numbers are there below ten-thousand?\n",
    "\n",
    "NOTE: Wording was modified slightly on 24 April 2007 to emphasise the theoretical nature of Lychrel numbers."
   ]
  },
  {
   "cell_type": "code",
   "execution_count": 1,
   "id": "b52f659a-47b7-41a8-aefe-bba2d5ed154b",
   "metadata": {},
   "outputs": [],
   "source": [
    "import numpy as np\n",
    "import scipy as sp\n",
    "import pandas as pd\n",
    "import matplotlib.pyplot as plt\n",
    "from IPython.display import clear_output\n",
    "\n",
    "#test if a number is palindromic.\n",
    "def is_palindromic(number:int):\n",
    "    num_string = str(number)\n",
    "    return num_string == num_string[::-1]\n",
    "\n",
    "# def make_permutations(number):\n",
    "#     num_string = str(number)\n",
    "#     num_digits = len(num_string)\n",
    "#     digit_index = np.arange(num_digits)\n",
    "#     return digit_index\n",
    "\n",
    "def reverse_and_add(number):\n",
    "    num_string = str(number)\n",
    "    reversed_number = int(num_string[::-1])\n",
    "    return number + reversed_number"
   ]
  },
  {
   "cell_type": "markdown",
   "id": "484d8669-39fe-4e64-9a68-09fda46a00f1",
   "metadata": {},
   "source": [
    "How many Lychrel numbers are below 10k?\n",
    "I believe any Lychrel number's reverse will be a Lychrel number. So I only need to check the first 500 and get their reverses as well."
   ]
  },
  {
   "cell_type": "code",
   "execution_count": 2,
   "id": "1648a76a-fd34-4eee-b819-7b5dc826f2b8",
   "metadata": {
    "tags": []
   },
   "outputs": [
    {
     "name": "stdout",
     "output_type": "stream",
     "text": [
      "[***************************************************************************************************]\n"
     ]
    },
    {
     "data": {
      "text/plain": [
       "array([[   0,    0,    1],\n",
       "       [   1,    1,    1],\n",
       "       [   2,    2,    1],\n",
       "       ...,\n",
       "       [9997, 7999,   13],\n",
       "       [9998, 8999,    6],\n",
       "       [9999, 9999,   51]])"
      ]
     },
     "execution_count": 2,
     "metadata": {},
     "output_type": "execute_result"
    }
   ],
   "source": [
    "lychrels = []\n",
    "iteration_limit = 50\n",
    "for numbo in range(10000):\n",
    "    clear_output(wait = True)\n",
    "    print(f'[{\"*\"*(numbo//100)}{\"-\"*((10000-numbo)//100)}]')\n",
    "    iterations = 0\n",
    "    concluded = False\n",
    "    running_sum = numbo\n",
    "    while not concluded:\n",
    "        iterations += 1\n",
    "        running_sum = reverse_and_add(running_sum)\n",
    "        if is_palindromic(running_sum) or iterations > iteration_limit:\n",
    "            lychrels.append([numbo, int(str(numbo)[::-1]), iterations])\n",
    "            concluded = True\n",
    "lychrels = np.array(lychrels)\n",
    "lychrels"
   ]
  },
  {
   "cell_type": "code",
   "execution_count": 8,
   "id": "bdb9d8b5-7a40-4660-9bc3-c72aa6b891fe",
   "metadata": {},
   "outputs": [
    {
     "data": {
      "text/plain": [
       "249"
      ]
     },
     "execution_count": 8,
     "metadata": {},
     "output_type": "execute_result"
    }
   ],
   "source": [
    "len(lychrels[lychrels[:,2]>49])"
   ]
  },
  {
   "cell_type": "code",
   "execution_count": 97,
   "id": "bf99ef63-41b6-4f7e-b9fb-cdd76f20ff61",
   "metadata": {},
   "outputs": [
    {
     "data": {
      "text/plain": [
       "(array([  97,  196,  295,  394,  493,  496,  498,  586,  588,  592,  676,\n",
       "         678,  689,  691,  766,  768,  788,  790,  856,  858,  879,  887,\n",
       "         946,  948,  978,  986,  998, 1495, 1497, 1585, 1587, 1675, 1677,\n",
       "        1765, 1767, 1855, 1857, 1945, 1947, 1997, 2494, 2496, 2584, 2586,\n",
       "        2674, 2676, 2764, 2766, 2854, 2856, 2944, 2946, 2996, 3493, 3495,\n",
       "        3583, 3585, 3673, 3675, 3763, 3765, 3853, 3855, 3943, 3945, 3995,\n",
       "        4079, 4169, 4259, 4349, 4439, 4492, 4494, 4529, 4582, 4584, 4619,\n",
       "        4672, 4674, 4709, 4762, 4764, 4799, 4852, 4854, 4889, 4942, 4944,\n",
       "        4979, 4994, 5078, 5168, 5258, 5348, 5438, 5491, 5493, 5528, 5581,\n",
       "        5583, 5618, 5671, 5673, 5708, 5761, 5763, 5798, 5851, 5853, 5888,\n",
       "        5941, 5943, 5978, 5993, 6077, 6167, 6257, 6347, 6437, 6490, 6492,\n",
       "        6527, 6580, 6582, 6617, 6670, 6672, 6707, 6760, 6762, 6797, 6850,\n",
       "        6852, 6887, 6940, 6942, 6977, 6992, 7059, 7076, 7149, 7166, 7239,\n",
       "        7256, 7329, 7346, 7419, 7436, 7491, 7509, 7526, 7581, 7599, 7616,\n",
       "        7671, 7689, 7706, 7761, 7779, 7796, 7851, 7869, 7886, 7941, 7959,\n",
       "        7976, 7991, 8058, 8075, 8079, 8089, 8148, 8165, 8169, 8179, 8238,\n",
       "        8255, 8259, 8269, 8328, 8345, 8349, 8359, 8418, 8435, 8439, 8449,\n",
       "        8490, 8508, 8525, 8529, 8539, 8580, 8598, 8615, 8619, 8629, 8670,\n",
       "        8688, 8705, 8709, 8719, 8760, 8778, 8795, 8799, 8809, 8850, 8868,\n",
       "        8885, 8889, 8899, 8940, 8958, 8975, 8979, 8989, 8990, 9057, 9074,\n",
       "        9078, 9088, 9147, 9164, 9168, 9178, 9237, 9254, 9258, 9268, 9327,\n",
       "        9344, 9348, 9358, 9417, 9434, 9438, 9448, 9507, 9524, 9528, 9538,\n",
       "        9597, 9614, 9618, 9628, 9687, 9704, 9708, 9718, 9777, 9794, 9798,\n",
       "        9808, 9867, 9884, 9888, 9898, 9957, 9974, 9978, 9988, 9999]),\n",
       " 263)"
      ]
     },
     "execution_count": 97,
     "metadata": {},
     "output_type": "execute_result"
    }
   ],
   "source": [
    "unique_lychrels = np.unique(lychrels[:,:2])\n",
    "unique_lychrels, len(unique_lychrels)"
   ]
  },
  {
   "cell_type": "code",
   "execution_count": 96,
   "id": "65b641c5-4e0f-44f8-86b3-66d764b0de48",
   "metadata": {},
   "outputs": [
    {
     "data": {
      "text/plain": [
       "263"
      ]
     },
     "execution_count": 96,
     "metadata": {},
     "output_type": "execute_result"
    }
   ],
   "source": [
    "len(unique_lychrels)"
   ]
  },
  {
   "cell_type": "code",
   "execution_count": null,
   "id": "0e90b031-4a87-4842-b0b7-b6aefca57030",
   "metadata": {},
   "outputs": [],
   "source": []
  }
 ],
 "metadata": {
  "kernelspec": {
   "display_name": "Python 3 (ipykernel)",
   "language": "python",
   "name": "python3"
  },
  "language_info": {
   "codemirror_mode": {
    "name": "ipython",
    "version": 3
   },
   "file_extension": ".py",
   "mimetype": "text/x-python",
   "name": "python",
   "nbconvert_exporter": "python",
   "pygments_lexer": "ipython3",
   "version": "3.10.7"
  }
 },
 "nbformat": 4,
 "nbformat_minor": 5
}
