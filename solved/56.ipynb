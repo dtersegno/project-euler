{
 "cells": [
  {
   "cell_type": "markdown",
   "id": "37f3777b-d9d7-413f-b628-a70128e5d50b",
   "metadata": {},
   "source": [
    "Powerful Digit Sum\n",
    "---\n",
    "\n",
    "\n",
    "Problem 56\n",
    "A googol $\\left(10^{100}\\right)$ is a massive number: one followed by one-hundred zeros $\\left(100^{100}\\right)$ is almost unimaginably large: one followed by two-hundred zeros. Despite their size, the sum of the digits in each number is only \n",
    ".\n",
    "\n",
    "Considering natural numbers of the form, $a^b$, where $a, b< 100$, what is the maximum digital sum?"
   ]
  },
  {
   "cell_type": "markdown",
   "id": "13e70010-1c4d-4b34-bab7-af4310b43179",
   "metadata": {},
   "source": [
    "# Notes\n",
    "\n",
    "- a and b are likely to be large.\n",
    "- dropping a rather than b will keep the number large, and keep more digits, but not a big enough change where it'll always work"
   ]
  },
  {
   "cell_type": "code",
   "execution_count": 2,
   "id": "fb419461-8078-4b77-81c2-90b81dbd0b72",
   "metadata": {},
   "outputs": [
    {
     "data": {
      "text/plain": [
       "False"
      ]
     },
     "execution_count": 2,
     "metadata": {},
     "output_type": "execute_result"
    }
   ],
   "source": [
    "99**98 > 98**99"
   ]
  },
  {
   "cell_type": "code",
   "execution_count": 3,
   "id": "cfddeaf6-8302-4ebd-b6ba-628c99f8aa51",
   "metadata": {},
   "outputs": [
    {
     "data": {
      "text/plain": [
       "[198, 198, 196]"
      ]
     },
     "execution_count": 3,
     "metadata": {},
     "output_type": "execute_result"
    }
   ],
   "source": [
    "list(map(lambda x: len(str(x)), [99**99, 98**99, 99**98]))"
   ]
  },
  {
   "cell_type": "markdown",
   "id": "ff4b194e-e4e8-4fc3-a8b5-c6c0f54f683d",
   "metadata": {},
   "source": [
    "This can be brute forced. Scan an area in $a-b$ space around the corner near $(a,b) = (99,99).$"
   ]
  },
  {
   "cell_type": "code",
   "execution_count": 92,
   "id": "69016afc-fe69-49eb-aa1b-6707b20c34dc",
   "metadata": {},
   "outputs": [],
   "source": [
    "def num_to_digisum(number, verbose = True):\n",
    "    stringed_numbers = list(str(number))\n",
    "    if stringed_numbers[0] == '-':\n",
    "        raise(ValueError(f'{number} negative first?'))\n",
    "    the_sum = sum(map(int, stringed_numbers))\n",
    "    if verbose:\n",
    "        print(stringed_numbers)\n",
    "        print(the_sum)\n",
    "    return the_sum\n",
    "    "
   ]
  },
  {
   "cell_type": "code",
   "execution_count": 93,
   "id": "da3df93c-8c07-454b-b63b-e07533543f4d",
   "metadata": {},
   "outputs": [
    {
     "name": "stdout",
     "output_type": "stream",
     "text": [
      "['1', '2', '3', '4', '5', '6', '7', '8', '9']\n",
      "45\n"
     ]
    },
    {
     "data": {
      "text/plain": [
       "45"
      ]
     },
     "execution_count": 93,
     "metadata": {},
     "output_type": "execute_result"
    }
   ],
   "source": [
    "num_to_digisum(123456789)"
   ]
  },
  {
   "cell_type": "code",
   "execution_count": 94,
   "id": "efe07e0c-9e93-4ec1-b034-6685033f3ee0",
   "metadata": {},
   "outputs": [
    {
     "name": "stdout",
     "output_type": "stream",
     "text": [
      "['1', '2']\n",
      "3\n"
     ]
    },
    {
     "data": {
      "text/plain": [
       "3"
      ]
     },
     "execution_count": 94,
     "metadata": {},
     "output_type": "execute_result"
    }
   ],
   "source": [
    "num_to_digisum(12)"
   ]
  },
  {
   "cell_type": "code",
   "execution_count": 95,
   "id": "58fa510d-d82d-4048-a170-96593caa8643",
   "metadata": {},
   "outputs": [
    {
     "data": {
      "text/plain": [
       "[(0, 0),\n",
       " (1, 1),\n",
       " (2, 2),\n",
       " (3, 3),\n",
       " (4, 4),\n",
       " (5, 5),\n",
       " (6, 6),\n",
       " (7, 7),\n",
       " (8, 8),\n",
       " (9, 9),\n",
       " (10, 10),\n",
       " (11, 11)]"
      ]
     },
     "execution_count": 95,
     "metadata": {},
     "output_type": "execute_result"
    }
   ],
   "source": [
    "list(zip(np.arange(12), np.arange(12)))"
   ]
  },
  {
   "cell_type": "code",
   "execution_count": 96,
   "id": "ca63019e-d13c-4477-ab82-d20319bd2d4a",
   "metadata": {},
   "outputs": [
    {
     "name": "stdout",
     "output_type": "stream",
     "text": [
      "['3', '6', '9', '7', '2', '9', '6', '3', '7', '6', '4', '9', '7', '2', '6', '7', '7', '2', '6', '5', '7', '1', '8', '7', '9', '0', '5', '6', '2', '8', '8', '0', '5', '4', '4', '0', '5', '9', '5', '6', '6', '8', '7', '6', '4', '2', '8', '1', '7', '4', '1', '1', '0', '2', '4', '3', '0', '2', '5', '9', '9', '7', '2', '4', '2', '3', '5', '5', '2', '5', '7', '0', '4', '5', '5', '2', '7', '7', '5', '2', '3', '4', '2', '1', '4', '1', '0', '6', '5', '0', '0', '1', '0', '1', '2', '8', '2', '3', '2', '7', '2', '7', '9', '4', '0', '9', '7', '8', '8', '8', '9', '5', '4', '8', '3', '2', '6', '5', '4', '0', '1', '1', '9', '4', '2', '9', '9', '9', '6', '7', '6', '9', '4', '9', '4', '3', '5', '9', '4', '5', '1', '6', '2', '1', '5', '7', '0', '1', '9', '3', '6', '4', '4', '0', '1', '4', '4', '1', '8', '0', '7', '1', '0', '6', '0', '6', '6', '7', '6', '5', '9', '3', '0', '1', '3', '8', '4', '9', '9', '9', '7', '7', '9', '9', '9', '9', '1', '5', '9', '2', '0', '0', '4', '9', '9', '8', '9', '9']\n",
      "936\n"
     ]
    },
    {
     "data": {
      "text/plain": [
       "936"
      ]
     },
     "execution_count": 96,
     "metadata": {},
     "output_type": "execute_result"
    }
   ],
   "source": [
    "num_to_digisum(99**99)"
   ]
  },
  {
   "cell_type": "code",
   "execution_count": 97,
   "id": "94214f09-96eb-452a-be6a-2c5cfbe1c5ca",
   "metadata": {
    "tags": []
   },
   "outputs": [
    {
     "data": {
      "text/plain": [
       "[(90, 90),\n",
       " (90, 91),\n",
       " (90, 92),\n",
       " (90, 93),\n",
       " (90, 94),\n",
       " (90, 95),\n",
       " (90, 96),\n",
       " (90, 97),\n",
       " (90, 98),\n",
       " (90, 99),\n",
       " (91, 90),\n",
       " (91, 91),\n",
       " (91, 92),\n",
       " (91, 93),\n",
       " (91, 94),\n",
       " (91, 95),\n",
       " (91, 96),\n",
       " (91, 97),\n",
       " (91, 98),\n",
       " (91, 99),\n",
       " (92, 90),\n",
       " (92, 91),\n",
       " (92, 92),\n",
       " (92, 93),\n",
       " (92, 94),\n",
       " (92, 95),\n",
       " (92, 96),\n",
       " (92, 97),\n",
       " (92, 98),\n",
       " (92, 99),\n",
       " (93, 90),\n",
       " (93, 91),\n",
       " (93, 92),\n",
       " (93, 93),\n",
       " (93, 94),\n",
       " (93, 95),\n",
       " (93, 96),\n",
       " (93, 97),\n",
       " (93, 98),\n",
       " (93, 99),\n",
       " (94, 90),\n",
       " (94, 91),\n",
       " (94, 92),\n",
       " (94, 93),\n",
       " (94, 94),\n",
       " (94, 95),\n",
       " (94, 96),\n",
       " (94, 97),\n",
       " (94, 98),\n",
       " (94, 99),\n",
       " (95, 90),\n",
       " (95, 91),\n",
       " (95, 92),\n",
       " (95, 93),\n",
       " (95, 94),\n",
       " (95, 95),\n",
       " (95, 96),\n",
       " (95, 97),\n",
       " (95, 98),\n",
       " (95, 99),\n",
       " (96, 90),\n",
       " (96, 91),\n",
       " (96, 92),\n",
       " (96, 93),\n",
       " (96, 94),\n",
       " (96, 95),\n",
       " (96, 96),\n",
       " (96, 97),\n",
       " (96, 98),\n",
       " (96, 99),\n",
       " (97, 90),\n",
       " (97, 91),\n",
       " (97, 92),\n",
       " (97, 93),\n",
       " (97, 94),\n",
       " (97, 95),\n",
       " (97, 96),\n",
       " (97, 97),\n",
       " (97, 98),\n",
       " (97, 99),\n",
       " (98, 90),\n",
       " (98, 91),\n",
       " (98, 92),\n",
       " (98, 93),\n",
       " (98, 94),\n",
       " (98, 95),\n",
       " (98, 96),\n",
       " (98, 97),\n",
       " (98, 98),\n",
       " (98, 99),\n",
       " (99, 90),\n",
       " (99, 91),\n",
       " (99, 92),\n",
       " (99, 93),\n",
       " (99, 94),\n",
       " (99, 95),\n",
       " (99, 96),\n",
       " (99, 97),\n",
       " (99, 98),\n",
       " (99, 99)]"
      ]
     },
     "execution_count": 97,
     "metadata": {},
     "output_type": "execute_result"
    }
   ],
   "source": [
    "[ \n",
    "    (pair[0],\n",
    "     pair[1])\n",
    "    for pair in ninety_plus_as_and_bs]"
   ]
  },
  {
   "cell_type": "code",
   "execution_count": 107,
   "id": "d4cd1724-037b-481e-8b07-10a92b4efabf",
   "metadata": {},
   "outputs": [
    {
     "data": {
      "text/plain": [
       "(1897137590064188545819787018382342682267975428761855001222473056385648716020711424000000000000000000000000000000000000000000000000000000000000000000000000000000000000000000,\n",
       " 1897137590064188545819787018382342682267975428761855001222473056385648716020711424000000000000000000000000000000000000000000000000000000000000000000000000000000000000000000)"
      ]
     },
     "execution_count": 107,
     "metadata": {},
     "output_type": "execute_result"
    }
   ],
   "source": [
    "hey = np.array([80,90])\n",
    "int(hey[0])**int(hey[1]), 80**90"
   ]
  },
  {
   "cell_type": "code",
   "execution_count": 109,
   "id": "e4a798b5-8af6-474f-9a4d-3cec2dcdd81b",
   "metadata": {
    "tags": []
   },
   "outputs": [],
   "source": [
    "#create a grid of large a and b values\n",
    "all_as_and_bs = np.stack(\n",
    "    np.indices((100,100)), axis = -1\n",
    ")\n",
    "\n",
    "ninety_plus_as_and_bs = all_as_and_bs[90:, 90:].reshape((100,2))\n",
    "#print(ninety_plus_as_and_bs)\n",
    "\n",
    "\n",
    "#find all the sums\n",
    "le_sums = np.array([\n",
    "    (\n",
    "        pair[0],\n",
    "        pair[1],\n",
    "        num_to_digisum(int(pair[0])**int(pair[1]), False)\n",
    "    )    \n",
    "    for pair in ninety_plus_as_and_bs\n",
    "])"
   ]
  },
  {
   "cell_type": "code",
   "execution_count": 112,
   "id": "17ef3f28-3e77-47dd-88bc-c9f2fc5b3ee6",
   "metadata": {},
   "outputs": [
    {
     "data": {
      "text/plain": [
       "972"
      ]
     },
     "execution_count": 112,
     "metadata": {},
     "output_type": "execute_result"
    }
   ],
   "source": [
    "max(le_sums[:,2])"
   ]
  },
  {
   "cell_type": "markdown",
   "id": "d88cae09-ab1f-41a9-92ad-126b5e5324ea",
   "metadata": {},
   "source": [
    "Correct!"
   ]
  },
  {
   "cell_type": "code",
   "execution_count": null,
   "id": "077a8eed-71a5-45a9-b826-066225e09960",
   "metadata": {},
   "outputs": [],
   "source": []
  }
 ],
 "metadata": {
  "kernelspec": {
   "display_name": "Python 3 (ipykernel)",
   "language": "python",
   "name": "python3"
  },
  "language_info": {
   "codemirror_mode": {
    "name": "ipython",
    "version": 3
   },
   "file_extension": ".py",
   "mimetype": "text/x-python",
   "name": "python",
   "nbconvert_exporter": "python",
   "pygments_lexer": "ipython3",
   "version": "3.10.7"
  }
 },
 "nbformat": 4,
 "nbformat_minor": 5
}
