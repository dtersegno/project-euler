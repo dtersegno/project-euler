{
 "cells": [
  {
   "cell_type": "markdown",
   "id": "a290a9c8-eea8-44cd-bccf-1182d37c9d87",
   "metadata": {},
   "source": [
    "Square Digit Chains\n",
    "---\n",
    "\n",
    "A number chain is created by continuously adding the square of the digits in a number to form a new number until it has been seen before.\n",
    "\n",
    "ex: 44 -> 32 -> 13 -> 10 -> 1 -> 1 ...\n",
    "\n",
    "85 -> 89 -> 145 -> 42 -> 20 -> 4 -> 16 -> 37 -> 58 -> 89 -> 89 ...\n",
    "\n",
    "Therefore any chain that arrives at 1 or 89 will become stuck in an endless loop. What is most amazing is that EVERY starting number will eventually arrive at one of these two.\n",
    "\n",
    "How many starting numbers below ten million will arrive at 89?"
   ]
  },
  {
   "cell_type": "code",
   "execution_count": 48,
   "id": "aa908662-ae54-4146-a852-cd34858da5a7",
   "metadata": {},
   "outputs": [],
   "source": [
    "import numpy as np\n",
    "from IPython.display import clear_output\n",
    "\n",
    "\n",
    "def chain_result(number):\n",
    "    running_sum = number\n",
    "    concluded = False\n",
    "    while not concluded:\n",
    "        digits_sq = [int(char)**2 for char in str(running_sum)]\n",
    "        running_sum = sum(digits_sq)\n",
    "        if running_sum == 1 or running_sum == 89:\n",
    "            concluded = True\n",
    "    return running_sum"
   ]
  },
  {
   "cell_type": "code",
   "execution_count": 49,
   "id": "41a61e5d-142e-4872-9a8d-048f394cbb90",
   "metadata": {},
   "outputs": [
    {
     "data": {
      "text/plain": [
       "89"
      ]
     },
     "execution_count": 49,
     "metadata": {},
     "output_type": "execute_result"
    }
   ],
   "source": [
    "chain_result(2342)"
   ]
  },
  {
   "cell_type": "code",
   "execution_count": 50,
   "id": "3b362312-e88f-4339-9dbd-60c1f2984ecd",
   "metadata": {},
   "outputs": [
    {
     "data": {
      "text/plain": [
       "89"
      ]
     },
     "execution_count": 50,
     "metadata": {},
     "output_type": "execute_result"
    }
   ],
   "source": [
    "chain_result(235323424541)"
   ]
  },
  {
   "cell_type": "code",
   "execution_count": 59,
   "id": "6717fa0c-c7b2-4c2a-8c5f-311c32898519",
   "metadata": {},
   "outputs": [
    {
     "name": "stdout",
     "output_type": "stream",
     "text": [
      "[***************************************************************************************************************************************************************************************************************************************************************************************************************************************************************************************************************************************************************************************************************************************************************************************************************************************************************************************************************************************************************************************************************************************************************************************************************************************************************************************************************************************-]\n",
      "reached 9990000 and found 1417261 1ers so far.\n"
     ]
    }
   ],
   "source": [
    "max_number = 10_000_000\n",
    "display_divider = 10_000\n",
    "\n",
    "num_results = 0\n",
    "print(f'[{\"-\"*((max_number)//display_divider)}]')\n",
    "for num in range(1,max_number):\n",
    "    # print(num)\n",
    "    if chain_result(num) == 1:\n",
    "        num_results += 1\n",
    "    if num%display_divider == 0:\n",
    "        clear_output(wait = True)\n",
    "        print(f'[{\"*\"*(num//display_divider)}{\"-\"*((max_number-num)//display_divider)}]')\n",
    "        print(f'reached {num} and found {num_results} 1ers so far.')\n",
    "print(f'Found {num_results} 1ers and therefore {10_000_000-1-num_results} 89ers.')"
   ]
  },
  {
   "cell_type": "code",
   "execution_count": 66,
   "id": "b8f47f13-81d0-4091-a630-3ad13c175d80",
   "metadata": {},
   "outputs": [
    {
     "data": {
      "text/plain": [
       "8581146"
      ]
     },
     "execution_count": 66,
     "metadata": {},
     "output_type": "execute_result"
    }
   ],
   "source": [
    "9999999 - 1418853"
   ]
  },
  {
   "cell_type": "code",
   "execution_count": 61,
   "id": "ed345a42-9736-42fb-b3df-51dbba60631b",
   "metadata": {},
   "outputs": [
    {
     "data": {
      "text/plain": [
       "1418853"
      ]
     },
     "execution_count": 61,
     "metadata": {},
     "output_type": "execute_result"
    }
   ],
   "source": [
    "num_results"
   ]
  },
  {
   "cell_type": "code",
   "execution_count": 63,
   "id": "d09cd61b-69c6-49a3-aa03-6af38cd481b5",
   "metadata": {},
   "outputs": [
    {
     "data": {
      "text/plain": [
       "99999999"
      ]
     },
     "execution_count": 63,
     "metadata": {},
     "output_type": "execute_result"
    }
   ],
   "source": [
    "98581146 + 1418853"
   ]
  },
  {
   "cell_type": "code",
   "execution_count": null,
   "id": "b64e48e2-23e7-4f70-ba85-50939bd29803",
   "metadata": {},
   "outputs": [],
   "source": []
  }
 ],
 "metadata": {
  "kernelspec": {
   "display_name": "Python 3 (ipykernel)",
   "language": "python",
   "name": "python3"
  },
  "language_info": {
   "codemirror_mode": {
    "name": "ipython",
    "version": 3
   },
   "file_extension": ".py",
   "mimetype": "text/x-python",
   "name": "python",
   "nbconvert_exporter": "python",
   "pygments_lexer": "ipython3",
   "version": "3.10.7"
  }
 },
 "nbformat": 4,
 "nbformat_minor": 5
}
